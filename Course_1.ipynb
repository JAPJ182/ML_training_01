{
 "cells": [
  {
   "cell_type": "code",
   "execution_count": 1,
   "id": "67f61f4c-011f-43af-bd18-7dd3256a020e",
   "metadata": {},
   "outputs": [
    {
     "ename": "FileNotFoundError",
     "evalue": "[Errno 2] No such file or directory: 'ML_training_01/'",
     "output_type": "error",
     "traceback": [
      "\u001b[0;31m---------------------------------------------------------------------------\u001b[0m",
      "\u001b[0;31mFileNotFoundError\u001b[0m                         Traceback (most recent call last)",
      "\u001b[0;32m/tmp/ipykernel_1/3166196054.py\u001b[0m in \u001b[0;36m<module>\u001b[0;34m\u001b[0m\n\u001b[1;32m      1\u001b[0m \u001b[0;32mimport\u001b[0m \u001b[0mos\u001b[0m\u001b[0;34m\u001b[0m\u001b[0;34m\u001b[0m\u001b[0m\n\u001b[0;32m----> 2\u001b[0;31m \u001b[0mos\u001b[0m\u001b[0;34m.\u001b[0m\u001b[0mchdir\u001b[0m\u001b[0;34m(\u001b[0m\u001b[0;34m'ML_training_01/'\u001b[0m\u001b[0;34m)\u001b[0m\u001b[0;34m\u001b[0m\u001b[0;34m\u001b[0m\u001b[0m\n\u001b[0m",
      "\u001b[0;31mFileNotFoundError\u001b[0m: [Errno 2] No such file or directory: 'ML_training_01/'"
     ]
    }
   ],
   "source": [
    "import os\n",
    "os.chdir('ML_training_01/')"
   ]
  },
  {
   "cell_type": "code",
   "execution_count": null,
   "id": "17a22a29-5ef1-4201-a3cd-74a2333b97e6",
   "metadata": {},
   "outputs": [],
   "source": []
  },
  {
   "cell_type": "code",
   "execution_count": 2,
   "id": "c98bdd09-7ef3-40f1-8b23-bfdbeb3b0a36",
   "metadata": {},
   "outputs": [
    {
     "name": "stdout",
     "output_type": "stream",
     "text": [
      "Course_1.ipynb\n",
      "clase1.py\n"
     ]
    }
   ],
   "source": [
    "%%bash \n",
    "ls"
   ]
  },
  {
   "cell_type": "code",
   "execution_count": null,
   "id": "d05a5c8f-6906-476a-88d4-848d8f975a7c",
   "metadata": {},
   "outputs": [],
   "source": [
    "%%bash\n",
    "mkdir ML_training_01\n",
    "chown -R jupyter:jupyter /home/jupyter/ML_training_01"
   ]
  },
  {
   "cell_type": "code",
   "execution_count": 1,
   "id": "dc2fddca-757b-4f5a-88ae-7e5b4e1dd2c9",
   "metadata": {},
   "outputs": [
    {
     "ename": "FileNotFoundError",
     "evalue": "[Errno 2] No such file or directory: 'ML_training_01/'",
     "output_type": "error",
     "traceback": [
      "\u001b[0;31m---------------------------------------------------------------------------\u001b[0m",
      "\u001b[0;31mFileNotFoundError\u001b[0m                         Traceback (most recent call last)",
      "\u001b[0;32m/tmp/ipykernel_1/3166196054.py\u001b[0m in \u001b[0;36m<module>\u001b[0;34m\u001b[0m\n\u001b[1;32m      1\u001b[0m \u001b[0;32mimport\u001b[0m \u001b[0mos\u001b[0m\u001b[0;34m\u001b[0m\u001b[0;34m\u001b[0m\u001b[0m\n\u001b[0;32m----> 2\u001b[0;31m \u001b[0mos\u001b[0m\u001b[0;34m.\u001b[0m\u001b[0mchdir\u001b[0m\u001b[0;34m(\u001b[0m\u001b[0;34m'ML_training_01/'\u001b[0m\u001b[0;34m)\u001b[0m\u001b[0;34m\u001b[0m\u001b[0;34m\u001b[0m\u001b[0m\n\u001b[0m",
      "\u001b[0;31mFileNotFoundError\u001b[0m: [Errno 2] No such file or directory: 'ML_training_01/'"
     ]
    }
   ],
   "source": []
  },
  {
   "cell_type": "code",
   "execution_count": 8,
   "id": "e62ec7d7-8fec-4967-8d91-91b4eebc85aa",
   "metadata": {},
   "outputs": [
    {
     "name": "stdout",
     "output_type": "stream",
     "text": [
      "Reinitialized existing Git repository in /home/jupyter/ML_training_01/.git/\n",
      "On branch main\n",
      "Your branch is up to date with 'origin/main'.\n",
      "\n",
      "Changes not staged for commit:\n",
      "  (use \"git add <file>...\" to update what will be committed)\n",
      "  (use \"git checkout -- <file>...\" to discard changes in working directory)\n",
      "\n",
      "\tmodified:   Course_1.ipynb\n",
      "\n",
      "Untracked files:\n",
      "  (use \"git add <file>...\" to include in what will be committed)\n",
      "\n",
      "\t.gitignore\n",
      "\t.ipynb_checkpoints/.gitignore-checkpoint\n",
      "\t\".ipynb_checkpoints/Capacitaci\\303\\263n  Introducci\\303\\263n ML-checkpoint.ipynb\"\n",
      "\t.ipynb_checkpoints/clase1-checkpoint.py\n",
      "\t\"Capacitaci\\303\\263n  Introducci\\303\\263n ML.ipynb\"\n",
      "\tFONDO_EPM_GCP.xlsx\n",
      "\tFondo_PP_GCP.xlsx\n",
      "\tML_train_functions_gcp.py\n",
      "\tclase1.py\n",
      "\tdata/\n",
      "\n",
      "no changes added to commit (use \"git add\" and/or \"git commit -a\")\n",
      "[main 91d4703] Se argega el proyecto\n",
      " 1 file changed, 276 insertions(+), 42 deletions(-)\n"
     ]
    }
   ],
   "source": [
    "%%bash\n",
    "# Iniciar un repositorio\n",
    "git init\n",
    "# revisar que commits tenemos para cargar\n",
    "git status\n",
    "# Seleccionamos que cosas queremos cargar al repositorio\n",
    "git add Course_1.ipynb\n",
    "#Se crea el comit dentro de nuestro repositorio local\n",
    "git commit -m \"Se argega el proyecto\""
   ]
  },
  {
   "cell_type": "code",
   "execution_count": 9,
   "id": "9e020b41-e99f-4399-b1e0-efc3035d0a94",
   "metadata": {},
   "outputs": [],
   "source": [
    "%%bash\n",
    "#Subiremos esto a nuestra rama principal\n",
    "git branch -M main\n",
    "#Cargaremos al proeycto ML_training_01.git\n",
    "git remote rm origin\n",
    "git remote add origin https://github.com/JAPJ182/ML_training_01.git"
   ]
  },
  {
   "cell_type": "code",
   "execution_count": 3,
   "id": "22b68e9b-a8af-4cdc-b2af-005611079da4",
   "metadata": {
    "collapsed": true,
    "jupyter": {
     "outputs_hidden": true
    },
    "tags": []
   },
   "outputs": [
    {
     "name": "stdout",
     "output_type": "stream",
     "text": [
      "Reinitialized existing Git repository in /home/jupyter/ML_training_01/.git/\n",
      "On branch main\n",
      "Your branch is ahead of 'origin/main' by 1 commit.\n",
      "  (use \"git push\" to publish your local commits)\n",
      "\n",
      "Changes not staged for commit:\n",
      "  (use \"git add <file>...\" to update what will be committed)\n",
      "  (use \"git checkout -- <file>...\" to discard changes in working directory)\n",
      "\n",
      "\tmodified:   Course_1.ipynb\n",
      "\n",
      "Untracked files:\n",
      "  (use \"git add <file>...\" to include in what will be committed)\n",
      "\n",
      "\t.gitignore\n",
      "\t.ipynb_checkpoints/.gitignore-checkpoint\n",
      "\t.ipynb_checkpoints/clase1-checkpoint.py\n",
      "\tclase1.py\n",
      "\n",
      "no changes added to commit (use \"git add\" and/or \"git commit -a\")\n",
      "[main df2e4eb] Se argega el proyecto\n",
      " 1 file changed, 144 insertions(+), 1 deletion(-)\n"
     ]
    },
    {
     "name": "stderr",
     "output_type": "stream",
     "text": [
      "fatal: could not read Username for 'https://github.com': No such device or address\n"
     ]
    },
    {
     "ename": "CalledProcessError",
     "evalue": "Command 'b'# Iniciar un repositorio\\ngit init\\n# revisar que commits tenemos para cargar\\ngit status\\n# Seleccionamos que cosas queremos cargar al repositorio\\ngit add Course_1.ipynb\\n#Se crea el comit dentro de nuestro repositorio local\\ngit commit -m \"Se argega el proyecto\"\\n#Subiremos esto a nuestra rama principal\\ngit branch -M main\\n#Cargaremos al proeycto ML_training_01.git\\ngit remote rm origin\\ngit remote add origin https://github.com/JAPJ182/ML_training_01.git\\n#git remote add origin https://github.com/<JAPJ182>:<*Neftigaza2021*>/ML_training_01.git\\ngit config --global user.email japj182@hotmail.com\\ngit config --global user.name  \"JAPJ182\"\\ngit push -u origin main \\n'' returned non-zero exit status 128.",
     "output_type": "error",
     "traceback": [
      "\u001b[0;31m---------------------------------------------------------------------------\u001b[0m",
      "\u001b[0;31mCalledProcessError\u001b[0m                        Traceback (most recent call last)",
      "\u001b[0;32m/tmp/ipykernel_1/3713398462.py\u001b[0m in \u001b[0;36m<module>\u001b[0;34m\u001b[0m\n\u001b[0;32m----> 1\u001b[0;31m \u001b[0mget_ipython\u001b[0m\u001b[0;34m(\u001b[0m\u001b[0;34m)\u001b[0m\u001b[0;34m.\u001b[0m\u001b[0mrun_cell_magic\u001b[0m\u001b[0;34m(\u001b[0m\u001b[0;34m'bash'\u001b[0m\u001b[0;34m,\u001b[0m \u001b[0;34m''\u001b[0m\u001b[0;34m,\u001b[0m \u001b[0;34m'# Iniciar un repositorio\\ngit init\\n# revisar que commits tenemos para cargar\\ngit status\\n# Seleccionamos que cosas queremos cargar al repositorio\\ngit add Course_1.ipynb\\n#Se crea el comit dentro de nuestro repositorio local\\ngit commit -m \"Se argega el proyecto\"\\n#Subiremos esto a nuestra rama principal\\ngit branch -M main\\n#Cargaremos al proeycto ML_training_01.git\\ngit remote rm origin\\ngit remote add origin https://github.com/JAPJ182/ML_training_01.git\\n#git remote add origin https://github.com/<JAPJ182>:<*Neftigaza2021*>/ML_training_01.git\\ngit config --global user.email japj182@hotmail.com\\ngit config --global user.name  \"JAPJ182\"\\ngit push -u origin main \\n'\u001b[0m\u001b[0;34m)\u001b[0m\u001b[0;34m\u001b[0m\u001b[0;34m\u001b[0m\u001b[0m\n\u001b[0m",
      "\u001b[0;32m/opt/conda/lib/python3.7/site-packages/IPython/core/interactiveshell.py\u001b[0m in \u001b[0;36mrun_cell_magic\u001b[0;34m(self, magic_name, line, cell)\u001b[0m\n\u001b[1;32m   2401\u001b[0m             \u001b[0;32mwith\u001b[0m \u001b[0mself\u001b[0m\u001b[0;34m.\u001b[0m\u001b[0mbuiltin_trap\u001b[0m\u001b[0;34m:\u001b[0m\u001b[0;34m\u001b[0m\u001b[0;34m\u001b[0m\u001b[0m\n\u001b[1;32m   2402\u001b[0m                 \u001b[0margs\u001b[0m \u001b[0;34m=\u001b[0m \u001b[0;34m(\u001b[0m\u001b[0mmagic_arg_s\u001b[0m\u001b[0;34m,\u001b[0m \u001b[0mcell\u001b[0m\u001b[0;34m)\u001b[0m\u001b[0;34m\u001b[0m\u001b[0;34m\u001b[0m\u001b[0m\n\u001b[0;32m-> 2403\u001b[0;31m                 \u001b[0mresult\u001b[0m \u001b[0;34m=\u001b[0m \u001b[0mfn\u001b[0m\u001b[0;34m(\u001b[0m\u001b[0;34m*\u001b[0m\u001b[0margs\u001b[0m\u001b[0;34m,\u001b[0m \u001b[0;34m**\u001b[0m\u001b[0mkwargs\u001b[0m\u001b[0;34m)\u001b[0m\u001b[0;34m\u001b[0m\u001b[0;34m\u001b[0m\u001b[0m\n\u001b[0m\u001b[1;32m   2404\u001b[0m             \u001b[0;32mreturn\u001b[0m \u001b[0mresult\u001b[0m\u001b[0;34m\u001b[0m\u001b[0;34m\u001b[0m\u001b[0m\n\u001b[1;32m   2405\u001b[0m \u001b[0;34m\u001b[0m\u001b[0m\n",
      "\u001b[0;32m/opt/conda/lib/python3.7/site-packages/IPython/core/magics/script.py\u001b[0m in \u001b[0;36mnamed_script_magic\u001b[0;34m(line, cell)\u001b[0m\n\u001b[1;32m    140\u001b[0m             \u001b[0;32melse\u001b[0m\u001b[0;34m:\u001b[0m\u001b[0;34m\u001b[0m\u001b[0;34m\u001b[0m\u001b[0m\n\u001b[1;32m    141\u001b[0m                 \u001b[0mline\u001b[0m \u001b[0;34m=\u001b[0m \u001b[0mscript\u001b[0m\u001b[0;34m\u001b[0m\u001b[0;34m\u001b[0m\u001b[0m\n\u001b[0;32m--> 142\u001b[0;31m             \u001b[0;32mreturn\u001b[0m \u001b[0mself\u001b[0m\u001b[0;34m.\u001b[0m\u001b[0mshebang\u001b[0m\u001b[0;34m(\u001b[0m\u001b[0mline\u001b[0m\u001b[0;34m,\u001b[0m \u001b[0mcell\u001b[0m\u001b[0;34m)\u001b[0m\u001b[0;34m\u001b[0m\u001b[0;34m\u001b[0m\u001b[0m\n\u001b[0m\u001b[1;32m    143\u001b[0m \u001b[0;34m\u001b[0m\u001b[0m\n\u001b[1;32m    144\u001b[0m         \u001b[0;31m# write a basic docstring:\u001b[0m\u001b[0;34m\u001b[0m\u001b[0;34m\u001b[0m\u001b[0;34m\u001b[0m\u001b[0m\n",
      "\u001b[0;32m<decorator-gen-103>\u001b[0m in \u001b[0;36mshebang\u001b[0;34m(self, line, cell)\u001b[0m\n",
      "\u001b[0;32m/opt/conda/lib/python3.7/site-packages/IPython/core/magic.py\u001b[0m in \u001b[0;36m<lambda>\u001b[0;34m(f, *a, **k)\u001b[0m\n\u001b[1;32m    185\u001b[0m     \u001b[0;31m# but it's overkill for just that one bit of state.\u001b[0m\u001b[0;34m\u001b[0m\u001b[0;34m\u001b[0m\u001b[0;34m\u001b[0m\u001b[0m\n\u001b[1;32m    186\u001b[0m     \u001b[0;32mdef\u001b[0m \u001b[0mmagic_deco\u001b[0m\u001b[0;34m(\u001b[0m\u001b[0marg\u001b[0m\u001b[0;34m)\u001b[0m\u001b[0;34m:\u001b[0m\u001b[0;34m\u001b[0m\u001b[0;34m\u001b[0m\u001b[0m\n\u001b[0;32m--> 187\u001b[0;31m         \u001b[0mcall\u001b[0m \u001b[0;34m=\u001b[0m \u001b[0;32mlambda\u001b[0m \u001b[0mf\u001b[0m\u001b[0;34m,\u001b[0m \u001b[0;34m*\u001b[0m\u001b[0ma\u001b[0m\u001b[0;34m,\u001b[0m \u001b[0;34m**\u001b[0m\u001b[0mk\u001b[0m\u001b[0;34m:\u001b[0m \u001b[0mf\u001b[0m\u001b[0;34m(\u001b[0m\u001b[0;34m*\u001b[0m\u001b[0ma\u001b[0m\u001b[0;34m,\u001b[0m \u001b[0;34m**\u001b[0m\u001b[0mk\u001b[0m\u001b[0;34m)\u001b[0m\u001b[0;34m\u001b[0m\u001b[0;34m\u001b[0m\u001b[0m\n\u001b[0m\u001b[1;32m    188\u001b[0m \u001b[0;34m\u001b[0m\u001b[0m\n\u001b[1;32m    189\u001b[0m         \u001b[0;32mif\u001b[0m \u001b[0mcallable\u001b[0m\u001b[0;34m(\u001b[0m\u001b[0marg\u001b[0m\u001b[0;34m)\u001b[0m\u001b[0;34m:\u001b[0m\u001b[0;34m\u001b[0m\u001b[0;34m\u001b[0m\u001b[0m\n",
      "\u001b[0;32m/opt/conda/lib/python3.7/site-packages/IPython/core/magics/script.py\u001b[0m in \u001b[0;36mshebang\u001b[0;34m(self, line, cell)\u001b[0m\n\u001b[1;32m    243\u001b[0m             \u001b[0msys\u001b[0m\u001b[0;34m.\u001b[0m\u001b[0mstderr\u001b[0m\u001b[0;34m.\u001b[0m\u001b[0mflush\u001b[0m\u001b[0;34m(\u001b[0m\u001b[0;34m)\u001b[0m\u001b[0;34m\u001b[0m\u001b[0;34m\u001b[0m\u001b[0m\n\u001b[1;32m    244\u001b[0m         \u001b[0;32mif\u001b[0m \u001b[0margs\u001b[0m\u001b[0;34m.\u001b[0m\u001b[0mraise_error\u001b[0m \u001b[0;32mand\u001b[0m \u001b[0mp\u001b[0m\u001b[0;34m.\u001b[0m\u001b[0mreturncode\u001b[0m\u001b[0;34m!=\u001b[0m\u001b[0;36m0\u001b[0m\u001b[0;34m:\u001b[0m\u001b[0;34m\u001b[0m\u001b[0;34m\u001b[0m\u001b[0m\n\u001b[0;32m--> 245\u001b[0;31m             \u001b[0;32mraise\u001b[0m \u001b[0mCalledProcessError\u001b[0m\u001b[0;34m(\u001b[0m\u001b[0mp\u001b[0m\u001b[0;34m.\u001b[0m\u001b[0mreturncode\u001b[0m\u001b[0;34m,\u001b[0m \u001b[0mcell\u001b[0m\u001b[0;34m,\u001b[0m \u001b[0moutput\u001b[0m\u001b[0;34m=\u001b[0m\u001b[0mout\u001b[0m\u001b[0;34m,\u001b[0m \u001b[0mstderr\u001b[0m\u001b[0;34m=\u001b[0m\u001b[0merr\u001b[0m\u001b[0;34m)\u001b[0m\u001b[0;34m\u001b[0m\u001b[0;34m\u001b[0m\u001b[0m\n\u001b[0m\u001b[1;32m    246\u001b[0m \u001b[0;34m\u001b[0m\u001b[0m\n\u001b[1;32m    247\u001b[0m     \u001b[0;32mdef\u001b[0m \u001b[0m_run_script\u001b[0m\u001b[0;34m(\u001b[0m\u001b[0mself\u001b[0m\u001b[0;34m,\u001b[0m \u001b[0mp\u001b[0m\u001b[0;34m,\u001b[0m \u001b[0mcell\u001b[0m\u001b[0;34m,\u001b[0m \u001b[0mto_close\u001b[0m\u001b[0;34m)\u001b[0m\u001b[0;34m:\u001b[0m\u001b[0;34m\u001b[0m\u001b[0;34m\u001b[0m\u001b[0m\n",
      "\u001b[0;31mCalledProcessError\u001b[0m: Command 'b'# Iniciar un repositorio\\ngit init\\n# revisar que commits tenemos para cargar\\ngit status\\n# Seleccionamos que cosas queremos cargar al repositorio\\ngit add Course_1.ipynb\\n#Se crea el comit dentro de nuestro repositorio local\\ngit commit -m \"Se argega el proyecto\"\\n#Subiremos esto a nuestra rama principal\\ngit branch -M main\\n#Cargaremos al proeycto ML_training_01.git\\ngit remote rm origin\\ngit remote add origin https://github.com/JAPJ182/ML_training_01.git\\n#git remote add origin https://github.com/<JAPJ182>:<*Neftigaza2021*>/ML_training_01.git\\ngit config --global user.email japj182@hotmail.com\\ngit config --global user.name  \"JAPJ182\"\\ngit push -u origin main \\n'' returned non-zero exit status 128."
     ]
    }
   ],
   "source": [
    "%%bash\n",
    "# Iniciar un repositorio\n",
    "git init\n",
    "# revisar que commits tenemos para cargar\n",
    "git status\n",
    "# Seleccionamos que cosas queremos cargar al repositorio\n",
    "git add Course_1.ipynb\n",
    "#Se crea el comit dentro de nuestro repositorio local\n",
    "git commit -m \"Se argega el proyecto\"\n",
    "#Subiremos esto a nuestra rama principal\n",
    "git branch -M main\n",
    "#Cargaremos al proeycto ML_training_01.git\n",
    "git remote rm origin\n",
    "git remote add origin https://github.com/JAPJ182/ML_training_01.git\n",
    "#git remote add origin https://github.com/<JAPJ182>:<*Neftigaza2021*>/ML_training_01.git\n",
    "git config --global user.email japj182@hotmail.com\n",
    "git config --global user.name  \"JAPJ182\"\n",
    "git push -u origin main "
   ]
  },
  {
   "cell_type": "code",
   "execution_count": 7,
   "id": "448d59f6-f260-4f04-869b-20915ce9718b",
   "metadata": {},
   "outputs": [
    {
     "name": "stdout",
     "output_type": "stream",
     "text": [
      "Overwriting ML_train_functions_gcp.py\n"
     ]
    }
   ],
   "source": [
    "%%writefile ML_train_functions_gcp.py\n",
    "import chardet\n",
    "import pandas as pd\n",
    "import time\n",
    "import re\n",
    "from google.cloud import bigquery\n",
    "# Método del codo para averiguar el número óptimo de clusters\n",
    "\n",
    "def optimal_cluster (x):\n",
    "    from sklearn.cluster import KMeans\n",
    "    wcss = []\n",
    "    for i in range(1, 11):\n",
    "        kmeans = KMeans(n_clusters = i, init = \"k-means++\", max_iter = 300, n_init = 10, random_state = 0)\n",
    "        kmeans.fit(X)\n",
    "        wcss.append(kmeans.inertia_)\n",
    "\n",
    "    plt.plot(range(1,11), wcss)\n",
    "    plt.title(\"Método del codo\")\n",
    "    plt.xlabel(\"Número de Clusters\")\n",
    "    plt.ylabel(\"WCSS(k)\")\n",
    "    plt.show()\n",
    "\n",
    "def feature_eng(tabla, X, Y, X_num , X_Cat ):\n",
    "    label =  tabla[Y]\n",
    "    features = tabla[ X ]\n",
    "    #####\n",
    "    numeric_feature = X_num\n",
    "    lista = X_Cat\n",
    "    # Comentarios\n",
    "    features = pd.get_dummies(features, columns=lista, drop_first=False)       \n",
    "    ##\n",
    "    from sklearn.model_selection import train_test_split\n",
    "    train_features, test_features, train_label, test_label = train_test_split(features, label, test_size = 0.25, random_state = 0)\n",
    "    return  train_features, test_features, train_label, test_label\n",
    "\n",
    "\n",
    "class load_simple_file_class:\n",
    "    def __init__(self,\n",
    "                 path = \"\" ,\n",
    "                 delimit = \"\",\n",
    "                 \n",
    "                 ):  \n",
    "        \n",
    "        # Instance Variable \n",
    "        self.tabla =path\n",
    "        self.formato_ = path.split('.')[-1].upper()\n",
    "        self.table_name = path.split('/')[-1].upper().split('.')[0]  \n",
    "        self.delimit = delimit\n",
    "        \n",
    "    def econde_tabla(self): \n",
    "        if (self.formato_.upper() == 'CSV') or (self.formato_.upper() == 'TXT'):        \n",
    "            import chardet\n",
    "\n",
    "            with open(self.tabla, 'rb') as rawdata:\n",
    "                result = chardet.detect(rawdata.read(10000))\n",
    "\n",
    "            return result['encoding']\n",
    "        else:\n",
    "            pass\n",
    "\n",
    "    def delimitador(self):\n",
    "        if self.delimit == \"\":\n",
    "            x = 15\n",
    "            if (self.formato_.upper() == 'CSV') or (self.formato_.upper() == 'TXT'):\n",
    "                self.encode = self.econde_tabla( )\n",
    "                if pd.read_csv(self.tabla, sep=',', encoding= self.encode , nrows = 1).shape[1]>x:\n",
    "                    sep_ = ','\n",
    "                elif pd.read_csv(self.tabla, sep=';', encoding= self.encode, nrows = 1).shape[1]>x:\n",
    "                    sep_ = ';'\n",
    "                elif pd.read_csv(self.tabla, sep='|', encoding= self.encode, nrows = 1).shape[1]>x:\n",
    "                    sep_ = '|'\n",
    "                elif pd.read_csv(self.tabla, sep=':', encoding= self.encode, nrows = 1).shape[1]>x:\n",
    "                    sep_ = ':'  \n",
    "                else:\n",
    "                    pass  \n",
    "                return sep_          \n",
    "            else:\n",
    "                pass\n",
    "        else:\n",
    "            sep_ = self.delimit\n",
    "            return sep_  \n",
    "         \n",
    "\n",
    "    def types_dict(self):\n",
    "        if self.formato_.upper() == 'CSV'  or self.formato_.upper() == 'TXT' :\n",
    "            col_names = pd.read_csv(self.tabla,sep= self.delimitador(), nrows=0, encoding =  self.econde_tabla() ).columns\n",
    "            types_dict_ = { }\n",
    "            types_dict_.update({col: str for col in col_names  })\n",
    "            return types_dict_\n",
    "        elif self.formato_.upper() == 'XLS' or self.formato_.upper() == 'XLSX':\n",
    "            col_names = pd.read_excel(self.tabla, nrows = 1 )\n",
    "            types_dict_ = { }\n",
    "            types_dict_.update({col: str for col in col_names  })\n",
    "            return types_dict_\n",
    "        elif self.formato_.upper() == 'XLSB' :\n",
    "            col_names = pd.read_excel(self.tabla, nrows = 1 )\n",
    "            types_dict_ = { }\n",
    "            types_dict_.update({col: str for col in col_names  })\n",
    "            return types_dict_\n",
    "        else:\n",
    "            pass\n",
    "        \n",
    "        print('reading parameters have been set');\n",
    " \n",
    "    def read_tables(self):\n",
    "        self.start = time.time()\n",
    "        ### \n",
    "        if (self.formato_.upper() == 'ZIP'  or self.formato_.upper() == 'RAR'):\n",
    "            pass\n",
    "            \"i need to get the table and then read, normalize colnames and then sent to bq\"\n",
    "        \n",
    "        elif (self.formato_.upper() == 'CSV'  or self.formato_.upper() == 'TXT' ) :\n",
    "            try:\n",
    "                Data  =  pd.read_csv(self.tabla, sep=self.delimitador(), encoding= self.econde_tabla(),   warn_bad_lines=False, error_bad_lines=False )\n",
    "            except:\n",
    "                Data = pd.read_csv(self.tabla, sep=self.delimitador(), encoding= self.econde_tabla(),engine = 'python',    warn_bad_lines=False, error_bad_lines=False )\n",
    "            \n",
    "            return Data\n",
    "        \n",
    "        elif (self.formato_.upper() == 'XLS' or self.formato_.upper() == 'XLSX' ):    \n",
    "            \n",
    "            Data  = pd.read_excel(self.tabla, converters = self.types_dict())\n",
    "            \n",
    "            return Data\n",
    "        else:\n",
    "            pass\n",
    "        \n",
    "    def read_table(self):\n",
    "        start = time.time()\n",
    "        def normalize_(s):\n",
    "            replacements = (\n",
    "                (\" \",\"_\")    ,(\"á\", \"a\"),(\"à\", \"a\"),\n",
    "                (\"é\", \"e\"),(\"è\", \"e\"),\n",
    "                (\"í\", \"i\"),('ï»¿',''), (\"ì\",\"i\"), (\"ó\",\"o\"),  (\"ò\",\"o\"),  (\"ö\",\"o\"),\n",
    "                (\"ú\", \"u\"),(\"ù\", \"u\"), (\"ü\", \"u\"), (\"û\", \"u\"),  \n",
    "                (\"ñ\", \"n\"), (\"*\",\"\"),\n",
    "                ######################################################                \n",
    "                ('├í','a'),  (\"├®\",\"e\"), ('├¡','i'), ('├│','o'),\n",
    "                ('├║','u'), ('├▒','ni'),  \n",
    "                ('├ü','A'),('├Ç','A'),('├ç','A'),(\":\",\"_\"),\n",
    "                ('├ë','E'),(\"├ë\",\"E\"),(\"├ê\",\"E\"),(\"╔\",\"E\"),\n",
    "                ('├ì','I'),(\"├î\",\"I\"),('├û','I'),('├Å','I'),\n",
    "                ('├ô','O'),('├ï','O'),('├è','O'),('@', 'O'),\n",
    "                ('├Ö','U'),\n",
    "                ('├æ','Ñ'),('├É','ni'),('├æ','Ñ'),('Ð','ni'),\n",
    "                ('├Ü','U'),\n",
    "                ('├û','Í'  )  , (\"\\n\",\"_\"),\n",
    "                ###############################################################\n",
    "                (\".\", \"_\"), (\"/\",\"_\"),(\"\\\\\", \"_\"), (\")\", \"_\"),(\"(\", \"_\"),('>',''), ('<',''),\n",
    "                (\"\\¿\", \"\"),(\"\\?\", \"\"),(\" \", \"_\"),(\",\", \"_\"),(\"__\", \"_\"),(\"-\", \"\"),\n",
    "                (\"/¿\", \"\"),(\"/?\", \"\"),\n",
    "                (\"0_\", \"X0_\"), (\"1_\", \"X1_\"),(\"2_\", \"X2_\"),(\"3_\", \"X3_\"), (\"4_\", \"X4_\"),\n",
    "                (\"5_\", \"X5_\"),(\"6_\", \"X6_\"),(\"7_\", \"X7_\"),(\"8_\", \"X8_\"),(\"9_\", \"X9_\"),\n",
    "                (\"__\", \"_\"),  (\" \", \"_\"),  (\" \", \"_\")\n",
    "             )\n",
    "            for a, b in replacements:\n",
    "                \n",
    "                s = s.replace(a, b).replace(a.upper(), b.upper()).strip().lstrip('1').lstrip('2').lstrip('3').lstrip(\n",
    "                        '4').lstrip('5').lstrip('6').lstrip('7').lstrip('8').lstrip('9').lstrip('0').lstrip(\n",
    "                        '_').rstrip('_').strip(' ').rstrip().replace(\"á\", \"a\").replace(\"é\", \"e\").replace(\"í\", \"i\").replace(\"ó\", \"o\").replace(\"ú\", \"u\") \n",
    "                R = re.sub(r\"[^a-zA-Z0-9]\",\"\",s.upper()) \n",
    "            return R\n",
    "        \n",
    "        nombre_columnas = []\n",
    "        Data = self.read_tables()\n",
    "         \n",
    "        for i in range(len(Data.columns)):\n",
    "            lista  = normalize_(pd.DataFrame(list(Data.columns), columns =['columnas']).columnas[i].upper() )[0:20] \n",
    "            nombre_columnas.append(lista)\n",
    " \n",
    " \n",
    "        \n",
    "        Data.columns = nombre_columnas\n",
    "        schema_ = []\n",
    "        for i in Data.columns:\n",
    "            schema_line   =   bigquery.SchemaField(\"\"\"{}\"\"\".format(i), 'STRING' , mode = 'NULLABLE')\n",
    "            schema_.append(schema_line)\n",
    "        print('esquema creado correctamente')\n",
    "        \n",
    "        return [Data, schema_, nombre_columnas]\n",
    "        \n"
   ]
  },
  {
   "cell_type": "code",
   "execution_count": null,
   "id": "9e3cc50f-59c7-4a0f-afe6-b1a02fa4f2f0",
   "metadata": {},
   "outputs": [],
   "source": []
  }
 ],
 "metadata": {
  "environment": {
   "name": "managed-notebooks.m80",
   "type": "gcloud",
   "uri": "gcr.io/deeplearning-platform-release/managed-notebooks:m80"
  },
  "kernelspec": {
   "display_name": "Python (Local)",
   "language": "python",
   "name": "local-base"
  },
  "language_info": {
   "codemirror_mode": {
    "name": "ipython",
    "version": 3
   },
   "file_extension": ".py",
   "mimetype": "text/x-python",
   "name": "python",
   "nbconvert_exporter": "python",
   "pygments_lexer": "ipython3",
   "version": "3.7.10"
  }
 },
 "nbformat": 4,
 "nbformat_minor": 5
}
