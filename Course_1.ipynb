{
 "cells": [
  {
   "cell_type": "code",
   "execution_count": 16,
   "id": "4002440b-e5be-4728-a197-7fbadf722964",
   "metadata": {
    "tags": []
   },
   "outputs": [],
   "source": [
    "%%bash\n",
    "mkdir ML_training_01\n",
    "chown -R jupyter:jupyter /home/jupyter/ML_training_01"
   ]
  },
  {
   "cell_type": "code",
   "execution_count": 15,
   "id": "55960063-9321-457f-bba7-db790e4a2da0",
   "metadata": {},
   "outputs": [],
   "source": [
    "import os\n",
    "os.chdir('ML_training_01/')"
   ]
  },
  {
   "cell_type": "code",
   "execution_count": 21,
   "id": "f1e5d0c4-2136-45e0-917e-80bed6391605",
   "metadata": {},
   "outputs": [
    {
     "name": "stdout",
     "output_type": "stream",
     "text": [
      "Initialized empty Git repository in /home/jupyter/ML_training_01/.git/\n"
     ]
    }
   ],
   "source": [
    "%%bash\n",
    "# Iniciar un repositorio\n",
    "git init"
   ]
  },
  {
   "cell_type": "code",
   "execution_count": 26,
   "id": "58a0ae54-a461-4963-92af-7ef1c9069ee1",
   "metadata": {},
   "outputs": [
    {
     "name": "stdout",
     "output_type": "stream",
     "text": [
      "On branch master\n",
      "\n",
      "No commits yet\n",
      "\n",
      "Untracked files:\n",
      "  (use \"git add <file>...\" to include in what will be committed)\n",
      "\n",
      "\t.ipynb_checkpoints/\n",
      "\tCourse_1.ipynb\n",
      "\n",
      "nothing added to commit but untracked files present (use \"git add\" to track)\n"
     ]
    }
   ],
   "source": [
    "%%bash \n",
    "# revisar que commits tenemos para cargar\n",
    "git status"
   ]
  },
  {
   "cell_type": "code",
   "execution_count": 27,
   "id": "f7921836-83fc-44a5-a51e-dc5c09d5d57d",
   "metadata": {},
   "outputs": [
    {
     "ename": "SyntaxError",
     "evalue": "invalid syntax (3827820173.py, line 1)",
     "output_type": "error",
     "traceback": [
      "\u001b[0;36m  File \u001b[0;32m\"/tmp/ipykernel_1/3827820173.py\"\u001b[0;36m, line \u001b[0;32m1\u001b[0m\n\u001b[0;31m    git add .\u001b[0m\n\u001b[0m          ^\u001b[0m\n\u001b[0;31mSyntaxError\u001b[0m\u001b[0;31m:\u001b[0m invalid syntax\n"
     ]
    }
   ],
   "source": [
    "\n",
    "git add ."
   ]
  },
  {
   "cell_type": "code",
   "execution_count": null,
   "id": "0ff0d03c-5e08-4adc-96d0-4059462d2261",
   "metadata": {},
   "outputs": [],
   "source": []
  }
 ],
 "metadata": {
  "environment": {
   "name": "managed-notebooks.m80",
   "type": "gcloud",
   "uri": "gcr.io/deeplearning-platform-release/managed-notebooks:m80"
  },
  "kernelspec": {
   "display_name": "Python (Local)",
   "language": "python",
   "name": "local-base"
  },
  "language_info": {
   "codemirror_mode": {
    "name": "ipython",
    "version": 3
   },
   "file_extension": ".py",
   "mimetype": "text/x-python",
   "name": "python",
   "nbconvert_exporter": "python",
   "pygments_lexer": "ipython3",
   "version": "3.7.10"
  }
 },
 "nbformat": 4,
 "nbformat_minor": 5
}
