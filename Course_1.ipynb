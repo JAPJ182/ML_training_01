{
 "cells": [
  {
   "cell_type": "code",
   "execution_count": 1,
   "id": "c98bdd09-7ef3-40f1-8b23-bfdbeb3b0a36",
   "metadata": {},
   "outputs": [
    {
     "name": "stdout",
     "output_type": "stream",
     "text": [
      "* remote origin\n",
      "  Fetch URL: https://github.com/JAPJ182/ML_training_01.git\n",
      "  Push  URL: https://github.com/JAPJ182/ML_training_01.git\n",
      "  HEAD branch: main\n",
      "  Remote branch:\n",
      "    main tracked\n",
      "  Local branch configured for 'git pull':\n",
      "    main merges with remote main\n",
      "  Local ref configured for 'git push':\n",
      "    main pushes to main (up to date)\n"
     ]
    }
   ],
   "source": [
    "%%bash \n",
    "git remote show origin"
   ]
  },
  {
   "cell_type": "code",
   "execution_count": null,
   "id": "d05a5c8f-6906-476a-88d4-848d8f975a7c",
   "metadata": {},
   "outputs": [],
   "source": [
    "%%bash\n",
    "mkdir ML_training_01\n",
    "chown -R jupyter:jupyter /home/jupyter/ML_training_01"
   ]
  },
  {
   "cell_type": "code",
   "execution_count": null,
   "id": "dc2fddca-757b-4f5a-88ae-7e5b4e1dd2c9",
   "metadata": {},
   "outputs": [],
   "source": [
    "import os\n",
    "os.chdir('ML_training_01/')"
   ]
  },
  {
   "cell_type": "code",
   "execution_count": 2,
   "id": "5a72086d-9f7d-4975-85b8-e045eacd4c32",
   "metadata": {},
   "outputs": [
    {
     "name": "stdout",
     "output_type": "stream",
     "text": [
      "Reinitialized existing Git repository in /home/jupyter/ML_training_01/.git/\n",
      "On branch main\n",
      "Your branch is up to date with 'origin/main'.\n",
      "\n",
      "Changes not staged for commit:\n",
      "  (use \"git add <file>...\" to update what will be committed)\n",
      "  (use \"git checkout -- <file>...\" to discard changes in working directory)\n",
      "\n",
      "\tmodified:   Course_1.ipynb\n",
      "\n",
      "Untracked files:\n",
      "  (use \"git add <file>...\" to include in what will be committed)\n",
      "\n",
      "\t.gitignore\n",
      "\t.ipynb_checkpoints/.gitignore-checkpoint\n",
      "\t.ipynb_checkpoints/clase1-checkpoint.py\n",
      "\tclase1.py\n",
      "\n",
      "no changes added to commit (use \"git add\" and/or \"git commit -a\")\n",
      "[main a2f19bf] Se argega el proyecto\n",
      " 1 file changed, 12 insertions(+), 325 deletions(-)\n",
      " rewrite Course_1.ipynb (99%)\n"
     ]
    }
   ],
   "source": [
    "%%bash\n",
    "# Iniciar un repositorio\n",
    "git init\n",
    "# revisar que commits tenemos para cargar\n",
    "git status\n",
    "# Seleccionamos que cosas queremos cargar al repositorio\n",
    "git add Course_1.ipynb\n",
    "#Se crea el comit dentro de nuestro repositorio local\n",
    "git commit -m \"Se argega el proyecto\""
   ]
  },
  {
   "cell_type": "code",
   "execution_count": null,
   "id": "22b68e9b-a8af-4cdc-b2af-005611079da4",
   "metadata": {},
   "outputs": [],
   "source": [
    "%%bash\n",
    "# Iniciar un repositorio\n",
    "git init\n",
    "# revisar que commits tenemos para cargar\n",
    "git status\n",
    "# Seleccionamos que cosas queremos cargar al repositorio\n",
    "git add Course_1.ipynb\n",
    "#Se crea el comit dentro de nuestro repositorio local\n",
    "git commit -m \"Se argega el proyecto\"\n",
    "#Subiremos esto a nuestra rama principal\n",
    "git branch -M main\n",
    "#Cargaremos al proeycto ML_training_01.git\n",
    "git remote rm origin\n",
    "git remote add origin https://github.com/JAPJ182/ML_training_01.git\n",
    "#git remote add origin https://github.com/<JAPJ182>:<*Neftigaza2021*>/ML_training_01.git\n",
    "git config --global user.email japj182@hotmail.com\n",
    "git config --global user.name  \"JAPJ182\"\n",
    "git push -u origin main "
   ]
  }
 ],
 "metadata": {
  "environment": {
   "name": "managed-notebooks.m80",
   "type": "gcloud",
   "uri": "gcr.io/deeplearning-platform-release/managed-notebooks:m80"
  },
  "kernelspec": {
   "display_name": "Python (Local)",
   "language": "python",
   "name": "local-base"
  },
  "language_info": {
   "codemirror_mode": {
    "name": "ipython",
    "version": 3
   },
   "file_extension": ".py",
   "mimetype": "text/x-python",
   "name": "python",
   "nbconvert_exporter": "python",
   "pygments_lexer": "ipython3",
   "version": "3.7.10"
  }
 },
 "nbformat": 4,
 "nbformat_minor": 5
}
