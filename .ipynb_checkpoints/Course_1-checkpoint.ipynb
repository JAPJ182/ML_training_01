{
 "cells": [],
 "metadata": {
  "environment": {
   "name": "managed-notebooks.m80",
   "type": "gcloud",
   "uri": "gcr.io/deeplearning-platform-release/managed-notebooks:m80"
  }
 },
 "nbformat": 4,
 "nbformat_minor": 5
}
