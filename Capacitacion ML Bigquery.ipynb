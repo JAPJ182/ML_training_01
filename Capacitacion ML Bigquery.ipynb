{
 "cells": [
  {
   "cell_type": "markdown",
   "id": "ae639a22-ee4d-48fb-af19-9d83b347228f",
   "metadata": {},
   "source": [
    "# Clase 3. Modelos de Clasificación usando BQ"
   ]
  },
  {
   "cell_type": "code",
   "execution_count": 1,
   "id": "c2d16535-1447-4cb5-bbc9-94ac3224098e",
   "metadata": {},
   "outputs": [],
   "source": [
    "# change these to try this notebook out\n",
    "BUCKET = 'modelo_en_gcp'\n",
    "PROJECT = 'proyecto-covid-sds'\n",
    "REGION = 'us-west1'\n",
    "DATASET = 'modelo_en_gcp'\n",
    "\n",
    "import os\n",
    "os.environ['BUCKET'] = BUCKET\n",
    "os.environ['PROJECT'] = PROJECT\n",
    "os.environ['REGION'] = REGION"
   ]
  },
  {
   "cell_type": "markdown",
   "id": "c794cead-cf9d-46f7-9aee-4340ab916464",
   "metadata": {},
   "source": [
    "## Configuraciones iniciales"
   ]
  },
  {
   "cell_type": "code",
   "execution_count": 87,
   "id": "17189b06-5a68-4102-9d91-9fc9aaf0fa93",
   "metadata": {},
   "outputs": [],
   "source": [
    "execfile(\"functions/ML_train_functions_gcp.py\")"
   ]
  },
  {
   "cell_type": "code",
   "execution_count": 3,
   "id": "e102366d-f548-4871-aed5-4a0a78b2b5da",
   "metadata": {},
   "outputs": [
    {
     "name": "stdout",
     "output_type": "stream",
     "text": [
      "el folder actual es el señalado\n"
     ]
    }
   ],
   "source": [
    "try:\n",
    "    import os\n",
    "    os.chdir('ML_training_01/')\n",
    "except:\n",
    "    print(\"el folder actual es el señalado\")"
   ]
  },
  {
   "cell_type": "markdown",
   "id": "c275e260-c34b-4a60-a497-0d09a6367ff2",
   "metadata": {
    "tags": []
   },
   "source": [
    "El codigo \"ML_train_functions_gcp\" guarda funciones utiles para la ingeneria de datos entre ellos la case llamada \"load_simple_file_class\" \n",
    "Esta clase permite por medio de la funcion read_table() leer la tabla y obtener el esquema deseado"
   ]
  },
  {
   "cell_type": "markdown",
   "id": "fa73000f-c380-491e-9428-24ab9630d9be",
   "metadata": {},
   "source": [
    "Iniciamos explorando los archivos que tenemos disponibles para cargar"
   ]
  },
  {
   "cell_type": "code",
   "execution_count": 9,
   "id": "76a96061-f3fb-4f36-a5c5-6aeb9170fabd",
   "metadata": {},
   "outputs": [
    {
     "name": "stdout",
     "output_type": "stream",
     "text": [
      "data/FONDO_EPM.csv\n",
      "data/Fondo_PP.csv\n",
      "data/fraude.csv\n"
     ]
    }
   ],
   "source": [
    "%%bash\n",
    "ls data/*.csv"
   ]
  },
  {
   "cell_type": "markdown",
   "id": "1dee3b70-ed32-4735-b78c-905a68a0476e",
   "metadata": {},
   "source": [
    "Revisamos la cantidad de registros que tenemos para las bases disponibles por medio del siguiente codigo de bash o usando la terminal"
   ]
  },
  {
   "cell_type": "code",
   "execution_count": 10,
   "id": "450277e7-3ab4-47ac-ac79-e8b6f2472ac6",
   "metadata": {},
   "outputs": [
    {
     "name": "stdout",
     "output_type": "stream",
     "text": [
      "   399298 data/FONDO_EPM.csv\n",
      "  1048576 data/Fondo_PP.csv\n",
      "    26976 data/fraude.csv\n",
      "  1474850 total\n"
     ]
    }
   ],
   "source": [
    "%%bash\n",
    "wc -l data/*.csv"
   ]
  },
  {
   "cell_type": "code",
   "execution_count": 11,
   "id": "8b81ce4a-dfd6-4f7f-8e6e-263011e07e33",
   "metadata": {},
   "outputs": [
    {
     "name": "stdout",
     "output_type": "stream",
     "text": [
      "﻿OPERADOR INICIAL;CONVOCATORIA;ID USUARIO (TI);ID SOLICITUD (COMFAMA/FIDUCIARIA);ID Y CONVOTORIA;ID Y 2021-2;TIPO DE DOCUMENTO;MODALIDAD;NIVEL FORMACION;SECTOR;IES;PROGRAMA;GENERO;FECHA DE NACIMIENTO;DEPARTAMENTO DE RESIDENCIA;MUNICIPIO DE RESIDENCIA;TIEMPO DE RESIDENCIA EN EL MUNICIPIO;COMUNA DE RESIDENCIA;ESTRATO;SISBÉN;CORREO ALTERNO;DISCAPACIDAD;TIPO DE DISCAPACIDAD;LGTBI;DESMOVILIZADO;DESPLAZADO;REINSERTADO;VICTIMA DEL CONFLICTO;HECHO VICTIMIZANTE;AFROCOLOMBIANO;TIPO AFROCOLOMBIANO;INDIGENA;ETNIA;TECNOLOGO;TECNICO;CICLO PROPEDEUTICO U HOMOLOGACION;RECIBE OTRO APOYO;MODALIDAD DE OTRO APOYO;TIPO DE OTRO APOYO;TIPO DOCUMENTO DEUDOR;PARENTESCO DEUDOR;SEMESTRES A FINANCIAR;SEMESTRE DE INGRESO;DURACION DEL PROGRAMA;GIROS REALIZADOS;GIROS PENDIENTES;MONTO MATRÍCULA;MONTO SOSTENIMIENTO;MONTO TOTAL;MONTO DEL 10%;PERÍODO RENOVADO;ESTADO SEMESTRAL;DESCRIPCIÓN DE ESTADO;OBSERVACIÓN LLAMADAS;ESTADO ODES 2022-1 ;ESTADO 2022-1;ESTADO POR PERIODO;MOTIVO SUSPENSION;MOTIVO ESTADO 2022-1;ETAPA DEL PROCESO;Giros Realizados Corte 2022-1;Giros Pendientes Corte 2022-1;Giros Realizados Corte 2021-2;Giros Pendientes Corte 2021-2;RENOVARON 2022-1;HABILITADO PARA RENOVAR 2022-1;PERIODO DE GRACIA;TOTAL CREDITOS DE LA CARRERA;PUNTAJE;PUNTO DE CORTE\n"
     ]
    }
   ],
   "source": [
    "%%bash\n",
    "head -1 data/FONDO_EPM.csv"
   ]
  },
  {
   "cell_type": "markdown",
   "id": "c2ee9ba0-7ee3-4546-9e10-1dfb2e8e317f",
   "metadata": {},
   "source": [
    "Observamos el encabezado por medio del codigo"
   ]
  },
  {
   "cell_type": "code",
   "execution_count": 37,
   "id": "f8fe2538-7322-48b3-8a8e-fcb9da3b3ced",
   "metadata": {},
   "outputs": [],
   "source": [
    "execfile(\"functions/ML_train_functions_gcp.py\")"
   ]
  },
  {
   "cell_type": "code",
   "execution_count": 21,
   "id": "fc7075b9-024e-47a6-b278-72c2cc5fb687",
   "metadata": {
    "tags": []
   },
   "outputs": [],
   "source": [
    "encabezado = encabezado('FONDO_EPM', delimitador = ';')\n",
    "columnas = encabezado.split(\";\")\n",
    "squema_bq = schema_bq(columnas)"
   ]
  },
  {
   "cell_type": "code",
   "execution_count": 22,
   "id": "41dcc1e7-6724-48a2-9c9c-41ebbf2e0951",
   "metadata": {
    "collapsed": true,
    "jupyter": {
     "outputs_hidden": true
    },
    "tags": []
   },
   "outputs": [
    {
     "data": {
      "text/plain": [
       "[SchemaField('OPERADOR_INICIAL', 'STRING', 'NULLABLE', None, (), None),\n",
       " SchemaField('CONVOCATORIA', 'STRING', 'NULLABLE', None, (), None),\n",
       " SchemaField('ID_USUARIO_TI_', 'STRING', 'NULLABLE', None, (), None),\n",
       " SchemaField('ID_SOLICITUD_COMFAMA_FIDUCIARIA_', 'STRING', 'NULLABLE', None, (), None),\n",
       " SchemaField('ID_Y_CONVOTORIA', 'STRING', 'NULLABLE', None, (), None),\n",
       " SchemaField('ID_Y_20212', 'STRING', 'NULLABLE', None, (), None),\n",
       " SchemaField('TIPO_DE_DOCUMENTO', 'STRING', 'NULLABLE', None, (), None),\n",
       " SchemaField('MODALIDAD', 'STRING', 'NULLABLE', None, (), None),\n",
       " SchemaField('NIVEL_FORMACION', 'STRING', 'NULLABLE', None, (), None),\n",
       " SchemaField('SECTOR', 'STRING', 'NULLABLE', None, (), None),\n",
       " SchemaField('IES', 'STRING', 'NULLABLE', None, (), None),\n",
       " SchemaField('PROGRAMA', 'STRING', 'NULLABLE', None, (), None),\n",
       " SchemaField('GENERO', 'STRING', 'NULLABLE', None, (), None),\n",
       " SchemaField('FECHA_DE_NACIMIENTO', 'STRING', 'NULLABLE', None, (), None),\n",
       " SchemaField('DEPARTAMENTO_DE_RESIDENCIA', 'STRING', 'NULLABLE', None, (), None),\n",
       " SchemaField('MUNICIPIO_DE_RESIDENCIA', 'STRING', 'NULLABLE', None, (), None),\n",
       " SchemaField('TIEMPO_DE_RESIDENCIA_EN_EL_MUNICIPIO', 'STRING', 'NULLABLE', None, (), None),\n",
       " SchemaField('COMUNA_DE_RESIDENCIA', 'STRING', 'NULLABLE', None, (), None),\n",
       " SchemaField('ESTRATO', 'STRING', 'NULLABLE', None, (), None),\n",
       " SchemaField('SISBEN', 'STRING', 'NULLABLE', None, (), None),\n",
       " SchemaField('CORREO_ALTERNO', 'STRING', 'NULLABLE', None, (), None),\n",
       " SchemaField('DISCAPACIDAD', 'STRING', 'NULLABLE', None, (), None),\n",
       " SchemaField('TIPO_DE_DISCAPACIDAD', 'STRING', 'NULLABLE', None, (), None),\n",
       " SchemaField('LGTBI', 'STRING', 'NULLABLE', None, (), None),\n",
       " SchemaField('DESMOVILIZADO', 'STRING', 'NULLABLE', None, (), None),\n",
       " SchemaField('DESPLAZADO', 'STRING', 'NULLABLE', None, (), None),\n",
       " SchemaField('REINSERTADO', 'STRING', 'NULLABLE', None, (), None),\n",
       " SchemaField('VICTIMA_DEL_CONFLICTO', 'STRING', 'NULLABLE', None, (), None),\n",
       " SchemaField('HECHO_VICTIMIZANTE', 'STRING', 'NULLABLE', None, (), None),\n",
       " SchemaField('AFROCOLOMBIANO', 'STRING', 'NULLABLE', None, (), None),\n",
       " SchemaField('TIPO_AFROCOLOMBIANO', 'STRING', 'NULLABLE', None, (), None),\n",
       " SchemaField('INDIGENA', 'STRING', 'NULLABLE', None, (), None),\n",
       " SchemaField('ETNIA', 'STRING', 'NULLABLE', None, (), None),\n",
       " SchemaField('TECNOLOGO', 'STRING', 'NULLABLE', None, (), None),\n",
       " SchemaField('TECNICO', 'STRING', 'NULLABLE', None, (), None),\n",
       " SchemaField('CICLO_PROPEDEUTICO_U_HOMOLOGACION', 'STRING', 'NULLABLE', None, (), None),\n",
       " SchemaField('RECIBE_OTRO_APOYO', 'STRING', 'NULLABLE', None, (), None),\n",
       " SchemaField('MODALIDAD_DE_OTRO_APOYO', 'STRING', 'NULLABLE', None, (), None),\n",
       " SchemaField('TIPO_DE_OTRO_APOYO', 'STRING', 'NULLABLE', None, (), None),\n",
       " SchemaField('TIPO_DOCUMENTO_DEUDOR', 'STRING', 'NULLABLE', None, (), None),\n",
       " SchemaField('PARENTESCO_DEUDOR', 'STRING', 'NULLABLE', None, (), None),\n",
       " SchemaField('SEMESTRES_A_FINANCIAR', 'STRING', 'NULLABLE', None, (), None),\n",
       " SchemaField('SEMESTRE_DE_INGRESO', 'STRING', 'NULLABLE', None, (), None),\n",
       " SchemaField('DURACION_DEL_PROGRAMA', 'STRING', 'NULLABLE', None, (), None),\n",
       " SchemaField('GIROS_REALIZADOS', 'STRING', 'NULLABLE', None, (), None),\n",
       " SchemaField('GIROS_PENDIENTES', 'STRING', 'NULLABLE', None, (), None),\n",
       " SchemaField('MONTO_MATRICULA', 'STRING', 'NULLABLE', None, (), None),\n",
       " SchemaField('MONTO_SOSTENIMIENTO', 'STRING', 'NULLABLE', None, (), None),\n",
       " SchemaField('MONTO_TOTAL', 'STRING', 'NULLABLE', None, (), None),\n",
       " SchemaField('MONTO_DEL_10', 'STRING', 'NULLABLE', None, (), None),\n",
       " SchemaField('PERIODO_RENOVADO', 'STRING', 'NULLABLE', None, (), None),\n",
       " SchemaField('ESTADO_SEMESTRAL', 'STRING', 'NULLABLE', None, (), None),\n",
       " SchemaField('DESCRIPCION_DE_ESTADO', 'STRING', 'NULLABLE', None, (), None),\n",
       " SchemaField('OBSERVACION_LLAMADAS', 'STRING', 'NULLABLE', None, (), None),\n",
       " SchemaField('ESTADO_ODES_2022XX1_', 'STRING', 'NULLABLE', None, (), None),\n",
       " SchemaField('ESTADO_20221', 'STRING', 'NULLABLE', None, (), None),\n",
       " SchemaField('ESTADO_POR_PERIODO', 'STRING', 'NULLABLE', None, (), None),\n",
       " SchemaField('MOTIVO_SUSPENSION', 'STRING', 'NULLABLE', None, (), None),\n",
       " SchemaField('MOTIVO_ESTADO_20221', 'STRING', 'NULLABLE', None, (), None),\n",
       " SchemaField('ETAPA_DEL_PROCESO', 'STRING', 'NULLABLE', None, (), None),\n",
       " SchemaField('GIROS_REALIZADOS_CORTE_20221', 'STRING', 'NULLABLE', None, (), None),\n",
       " SchemaField('GIROS_PENDIENTES_CORTE_20221', 'STRING', 'NULLABLE', None, (), None),\n",
       " SchemaField('GIROS_REALIZADOS_CORTE_20212', 'STRING', 'NULLABLE', None, (), None),\n",
       " SchemaField('GIROS_PENDIENTES_CORTE_20212', 'STRING', 'NULLABLE', None, (), None),\n",
       " SchemaField('RENOVARON_20221', 'STRING', 'NULLABLE', None, (), None),\n",
       " SchemaField('HABILITADO_PARA_RENOVAR_20221', 'STRING', 'NULLABLE', None, (), None),\n",
       " SchemaField('PERIODO_DE_GRACIA', 'STRING', 'NULLABLE', None, (), None),\n",
       " SchemaField('TOTAL_CREDITOS_DE_LA_CARRERA', 'STRING', 'NULLABLE', None, (), None),\n",
       " SchemaField('PUNTAJE', 'STRING', 'NULLABLE', None, (), None),\n",
       " SchemaField('PUNTO_DE_CORTE', 'STRING', 'NULLABLE', None, (), None)]"
      ]
     },
     "execution_count": 22,
     "metadata": {},
     "output_type": "execute_result"
    }
   ],
   "source": [
    "squema_bq"
   ]
  },
  {
   "cell_type": "markdown",
   "id": "ff71ad64-f20d-4806-afa5-d8824e4d88db",
   "metadata": {},
   "source": [
    "## Leer datos optimos para usar en BigQuery\n",
    "Este paso implica que todas las columnas pueden ser cargadas en bigquery facilmente en strings y que posteriormente se pueden convertir al formato deseado"
   ]
  },
  {
   "cell_type": "markdown",
   "id": "f2502c75-c54f-43b1-b6ac-9930c501747b",
   "metadata": {},
   "source": [
    "Los Archivos en sistemas de ingrados de informacion, generalmente no permiten titulos de columnas con caracteres especiales, tildes o espacios. La siguiente clase permite leer de forma normalizada los titulos. Inicialmente leemos una clase hecha para esto, en seguida leemos el archivo, al usar la funcion \"load_simple_file_class\" obtenemos la tabla, el schema_ apropiado para cargar en Bigquery, y el nombre de las columnas"
   ]
  },
  {
   "cell_type": "code",
   "execution_count": 38,
   "id": "3ba40998-3d56-4a06-aed1-1c34d3e69cb6",
   "metadata": {},
   "outputs": [
    {
     "name": "stdout",
     "output_type": "stream",
     "text": [
      "esquema creado correctamente\n"
     ]
    }
   ],
   "source": [
    "clase = load_simple_file_class(path = \"data/FONDO_EPM.csv\", delimit = \";\" ).read_table()\n",
    "data = clase[0]\n",
    "squema= clase[1]\n"
   ]
  },
  {
   "cell_type": "markdown",
   "id": "bd19ab55-58ff-4c67-bfa0-5e04bb995bc7",
   "metadata": {},
   "source": [
    "## Cargar datos en Bigquery\n",
    "Veremos como se cargan datos a bigquery, crearemos un dataset donde alojaremos toda la informacion del modelo, ademas crearemos las condiciones deseadas de los datos de entrenamiento y de test"
   ]
  },
  {
   "cell_type": "markdown",
   "id": "82b2de89-7d9c-44e2-b891-83564a7cb702",
   "metadata": {},
   "source": [
    "##### Create BigQuery dataset\n",
    "\n",
    "Creremos un dataset llamado DATASET = `'modelo_en_gcp'`, dentro de este dataset se alojara los datos y los modelos de  BQML."
   ]
  },
  {
   "cell_type": "code",
   "execution_count": 49,
   "id": "3b3859b3-786f-4066-b980-ec86e818daf0",
   "metadata": {},
   "outputs": [],
   "source": [
    "# Activamos la conexion con bigquery \n",
    "bq_client = bigquery.Client(project=PROJECT)\n",
    "# Create BigQuery dataset\n",
    "# dataset = bq_client.create_dataset(DATASET)"
   ]
  },
  {
   "cell_type": "markdown",
   "id": "6624cd50-089f-43c8-a6ec-ac4589347c2d",
   "metadata": {},
   "source": [
    "Ahora usamos la funcion `load_simple_file_in_bq`para cargar la tabla que hemos leido y tenemos guardada"
   ]
  },
  {
   "cell_type": "code",
   "execution_count": 41,
   "id": "bf4f1807-816a-4a50-9ae7-e4a35b240e65",
   "metadata": {},
   "outputs": [
    {
     "name": "stdout",
     "output_type": "stream",
     "text": [
      "La tabla cargo correctamente en proyecto-covid-sds.modelo_en_gcp.FONDO_EPM\n"
     ]
    }
   ],
   "source": [
    " \n",
    "load_simple_file_in_bq(dataset = DATASET,\n",
    "                       data = data, squema =  squema,\n",
    "                       table_in_bq = 'FONDO_EPM')\n"
   ]
  },
  {
   "cell_type": "markdown",
   "id": "1558a80e-759e-4e54-9ba7-8c0404091dae",
   "metadata": {
    "tags": []
   },
   "source": [
    "##  Lectura de datos en Python y Feature Engineering "
   ]
  },
  {
   "cell_type": "code",
   "execution_count": 52,
   "id": "65438bb3-c24a-4ab7-8c30-47525873bba0",
   "metadata": {
    "jp-MarkdownHeadingCollapsed": true,
    "tags": []
   },
   "outputs": [
    {
     "data": {
      "text/html": [
       "<div>\n",
       "<style scoped>\n",
       "    .dataframe tbody tr th:only-of-type {\n",
       "        vertical-align: middle;\n",
       "    }\n",
       "\n",
       "    .dataframe tbody tr th {\n",
       "        vertical-align: top;\n",
       "    }\n",
       "\n",
       "    .dataframe thead th {\n",
       "        text-align: right;\n",
       "    }\n",
       "</style>\n",
       "<table border=\"1\" class=\"dataframe\">\n",
       "  <thead>\n",
       "    <tr style=\"text-align: right;\">\n",
       "      <th></th>\n",
       "      <th>OPERADOR_INICIAL_1</th>\n",
       "      <th>CONVOCATORIA_2</th>\n",
       "      <th>ID_USUARIO_TI__3</th>\n",
       "      <th>ID_SOLICITUD_COMFAMA_4</th>\n",
       "      <th>ID_Y_CONVOTORIA_5</th>\n",
       "      <th>ID_Y_20212_6</th>\n",
       "      <th>TIPO_DE_DOCUMENTO_7</th>\n",
       "      <th>MODALIDAD_8</th>\n",
       "      <th>NIVEL_FORMACION_9</th>\n",
       "      <th>SECTOR_10</th>\n",
       "      <th>...</th>\n",
       "      <th>GIROS_REALIZADOS_COR_61</th>\n",
       "      <th>GIROS_PENDIENTES_COR_62</th>\n",
       "      <th>GIROS_REALIZADOS_COR_63</th>\n",
       "      <th>GIROS_PENDIENTES_COR_64</th>\n",
       "      <th>RENOVARON_20221_65</th>\n",
       "      <th>HABILITADO_PARA_RENO_66</th>\n",
       "      <th>PERIODO_DE_GRACIA_67</th>\n",
       "      <th>TOTAL_CREDITOS_DE_LA_68</th>\n",
       "      <th>PUNTAJE_69</th>\n",
       "      <th>PUNTO_DE_CORTE_70</th>\n",
       "    </tr>\n",
       "  </thead>\n",
       "  <tbody>\n",
       "    <tr>\n",
       "      <th>0</th>\n",
       "      <td>COMFAMA (recibido)</td>\n",
       "      <td>2008-2</td>\n",
       "      <td>96875</td>\n",
       "      <td>4420</td>\n",
       "      <td>8026327 - 2008-2</td>\n",
       "      <td>80263272008-2</td>\n",
       "      <td>Cédula de ciudadanía</td>\n",
       "      <td>Matricula y Sostenimiento</td>\n",
       "      <td>Tecnologia</td>\n",
       "      <td>pendiente</td>\n",
       "      <td>...</td>\n",
       "      <td>1</td>\n",
       "      <td>4</td>\n",
       "      <td>1</td>\n",
       "      <td>4</td>\n",
       "      <td>nan</td>\n",
       "      <td>NO</td>\n",
       "      <td>No aplica</td>\n",
       "      <td>pendiente</td>\n",
       "      <td>50</td>\n",
       "      <td>pendiente</td>\n",
       "    </tr>\n",
       "    <tr>\n",
       "      <th>1</th>\n",
       "      <td>COMFAMA (recibido)</td>\n",
       "      <td>2008-2</td>\n",
       "      <td>74074</td>\n",
       "      <td>7557</td>\n",
       "      <td>35898477 - 2008-2</td>\n",
       "      <td>358984772008-2</td>\n",
       "      <td>Cédula de ciudadanía</td>\n",
       "      <td>Matricula y Sostenimiento</td>\n",
       "      <td>Profesional</td>\n",
       "      <td>pendiente</td>\n",
       "      <td>...</td>\n",
       "      <td>1</td>\n",
       "      <td>4</td>\n",
       "      <td>1</td>\n",
       "      <td>4</td>\n",
       "      <td>nan</td>\n",
       "      <td>NO</td>\n",
       "      <td>No aplica</td>\n",
       "      <td>pendiente</td>\n",
       "      <td>53</td>\n",
       "      <td>pendiente</td>\n",
       "    </tr>\n",
       "    <tr>\n",
       "      <th>2</th>\n",
       "      <td>COMFAMA (recibido)</td>\n",
       "      <td>2008-2</td>\n",
       "      <td>78114</td>\n",
       "      <td>11135</td>\n",
       "      <td>43606371 - 2008-2</td>\n",
       "      <td>436063712008-2</td>\n",
       "      <td>Cédula de ciudadanía</td>\n",
       "      <td>Matricula</td>\n",
       "      <td>Profesional</td>\n",
       "      <td>pendiente</td>\n",
       "      <td>...</td>\n",
       "      <td>1</td>\n",
       "      <td>6</td>\n",
       "      <td>1</td>\n",
       "      <td>6</td>\n",
       "      <td>nan</td>\n",
       "      <td>NO</td>\n",
       "      <td>No aplica</td>\n",
       "      <td>pendiente</td>\n",
       "      <td>51</td>\n",
       "      <td>pendiente</td>\n",
       "    </tr>\n",
       "    <tr>\n",
       "      <th>3</th>\n",
       "      <td>COMFAMA (recibido)</td>\n",
       "      <td>2008-2</td>\n",
       "      <td>103102</td>\n",
       "      <td>10512</td>\n",
       "      <td>43618461 - 2008-2</td>\n",
       "      <td>436184612008-2</td>\n",
       "      <td>Cédula de ciudadanía</td>\n",
       "      <td>Matricula y Sostenimiento</td>\n",
       "      <td>Profesional</td>\n",
       "      <td>pendiente</td>\n",
       "      <td>...</td>\n",
       "      <td>1</td>\n",
       "      <td>1</td>\n",
       "      <td>1</td>\n",
       "      <td>1</td>\n",
       "      <td>nan</td>\n",
       "      <td>NO</td>\n",
       "      <td>No aplica</td>\n",
       "      <td>pendiente</td>\n",
       "      <td>48</td>\n",
       "      <td>pendiente</td>\n",
       "    </tr>\n",
       "    <tr>\n",
       "      <th>4</th>\n",
       "      <td>COMFAMA (recibido)</td>\n",
       "      <td>2008-2</td>\n",
       "      <td>71843</td>\n",
       "      <td>1942</td>\n",
       "      <td>43904308 - 2008-2</td>\n",
       "      <td>439043082008-2</td>\n",
       "      <td>Cédula de ciudadanía</td>\n",
       "      <td>Sostenimiento</td>\n",
       "      <td>Tecnologia</td>\n",
       "      <td>pendiente</td>\n",
       "      <td>...</td>\n",
       "      <td>1</td>\n",
       "      <td>0</td>\n",
       "      <td>1</td>\n",
       "      <td>0</td>\n",
       "      <td>nan</td>\n",
       "      <td>NO</td>\n",
       "      <td>No aplica</td>\n",
       "      <td>pendiente</td>\n",
       "      <td>60</td>\n",
       "      <td>pendiente</td>\n",
       "    </tr>\n",
       "  </tbody>\n",
       "</table>\n",
       "<p>5 rows × 70 columns</p>\n",
       "</div>"
      ],
      "text/plain": [
       "   OPERADOR_INICIAL_1 CONVOCATORIA_2 ID_USUARIO_TI__3 ID_SOLICITUD_COMFAMA_4  \\\n",
       "0  COMFAMA (recibido)         2008-2            96875                   4420   \n",
       "1  COMFAMA (recibido)         2008-2            74074                   7557   \n",
       "2  COMFAMA (recibido)         2008-2            78114                  11135   \n",
       "3  COMFAMA (recibido)         2008-2           103102                  10512   \n",
       "4  COMFAMA (recibido)         2008-2            71843                   1942   \n",
       "\n",
       "   ID_Y_CONVOTORIA_5    ID_Y_20212_6   TIPO_DE_DOCUMENTO_7  \\\n",
       "0   8026327 - 2008-2   80263272008-2  Cédula de ciudadanía   \n",
       "1  35898477 - 2008-2  358984772008-2  Cédula de ciudadanía   \n",
       "2  43606371 - 2008-2  436063712008-2  Cédula de ciudadanía   \n",
       "3  43618461 - 2008-2  436184612008-2  Cédula de ciudadanía   \n",
       "4  43904308 - 2008-2  439043082008-2  Cédula de ciudadanía   \n",
       "\n",
       "                 MODALIDAD_8 NIVEL_FORMACION_9  SECTOR_10  ...  \\\n",
       "0  Matricula y Sostenimiento        Tecnologia  pendiente  ...   \n",
       "1  Matricula y Sostenimiento       Profesional  pendiente  ...   \n",
       "2                  Matricula       Profesional  pendiente  ...   \n",
       "3  Matricula y Sostenimiento       Profesional  pendiente  ...   \n",
       "4              Sostenimiento        Tecnologia  pendiente  ...   \n",
       "\n",
       "  GIROS_REALIZADOS_COR_61 GIROS_PENDIENTES_COR_62 GIROS_REALIZADOS_COR_63  \\\n",
       "0                       1                       4                       1   \n",
       "1                       1                       4                       1   \n",
       "2                       1                       6                       1   \n",
       "3                       1                       1                       1   \n",
       "4                       1                       0                       1   \n",
       "\n",
       "  GIROS_PENDIENTES_COR_64 RENOVARON_20221_65 HABILITADO_PARA_RENO_66  \\\n",
       "0                       4                nan                      NO   \n",
       "1                       4                nan                      NO   \n",
       "2                       6                nan                      NO   \n",
       "3                       1                nan                      NO   \n",
       "4                       0                nan                      NO   \n",
       "\n",
       "  PERIODO_DE_GRACIA_67 TOTAL_CREDITOS_DE_LA_68 PUNTAJE_69 PUNTO_DE_CORTE_70  \n",
       "0            No aplica               pendiente         50         pendiente  \n",
       "1            No aplica               pendiente         53         pendiente  \n",
       "2            No aplica               pendiente         51         pendiente  \n",
       "3            No aplica               pendiente         48         pendiente  \n",
       "4            No aplica               pendiente         60         pendiente  \n",
       "\n",
       "[5 rows x 70 columns]"
      ]
     },
     "execution_count": 52,
     "metadata": {},
     "output_type": "execute_result"
    }
   ],
   "source": [
    "table_in_bq = 'FONDO_EPM'\n",
    "query = \"\"\"\n",
    "SELECT *\n",
    "FROM `{}.{}.{}`\n",
    "LIMIT 5\n",
    "\"\"\".format(PROJECT, DATASET,table_in_bq )\n",
    "dataset = bq_client.query(query).to_dataframe()\n",
    "dataset"
   ]
  },
  {
   "cell_type": "code",
   "execution_count": 2,
   "id": "9ef8e84f-f6d9-40bc-b667-2bdb85ff9b34",
   "metadata": {},
   "outputs": [
    {
     "name": "stdout",
     "output_type": "stream",
     "text": [
      "'Capacitación  Introducción ML.ipynb'\n"
     ]
    }
   ],
   "source": [
    "!ls"
   ]
  },
  {
   "cell_type": "markdown",
   "id": "de95679c-f2a6-433d-ad0b-0be8e7d5937b",
   "metadata": {},
   "source": [
    "### Transformaciones simples"
   ]
  },
  {
   "cell_type": "markdown",
   "id": "4604a107-80d1-4e64-94f8-722df20cbea0",
   "metadata": {},
   "source": [
    "#### Crear funciones en BQ que faciliten la limpieza"
   ]
  },
  {
   "cell_type": "markdown",
   "id": "0bd6fb40-a212-4250-8a52-8e0e91347a1b",
   "metadata": {},
   "source": [
    "Esta fecha tiene como proposito facilitar la limpieza de fehcas, el caso especifico se refiere a fechas de nacimientos que vienen en al menos 5 formatos, \n",
    ">>\n",
    "'%Y-%m-%d'\n",
    ">>\n",
    "'%d/%m/%Y'\n",
    ">>\n",
    "'%d/%m/%y'\n",
    ">>\n",
    "'%d/%mm/%Y'\n",
    "\n",
    "En esta funcion detectamos el año y lo tomamos en formato string\n",
    "es importante establecer `function_name`, este sera el nombre con el que se guardara la funcion dentro del dataset del poryecto deseado"
   ]
  },
  {
   "cell_type": "code",
   "execution_count": 53,
   "id": "c2ed85fc-3d71-4e25-8284-c4f5c5953dba",
   "metadata": {},
   "outputs": [],
   "source": [
    "function_name = 'anios_de_fechas'"
   ]
  },
  {
   "cell_type": "code",
   "execution_count": 58,
   "id": "ec3378fd-6909-4ac5-9fc4-abab92816169",
   "metadata": {
    "tags": []
   },
   "outputs": [],
   "source": [
    "query = \"\"\"\n",
    "CREATE OR REPLACE FUNCTION `{}.{}.udfs_{}`(FECHA STRING) AS (\n",
    "CASE \n",
    "  WHEN CHAR_LENGTH( SPLIT(LEFT(FECHA, 5) , \"-\")[SAFE_OFFSET(0)] ) = 4\n",
    "      AND SAFE_CAST( SPLIT(LEFT(FECHA, 5) , \"-\")[SAFE_OFFSET(0)]  AS NUMERIC) IS NOT NULL \n",
    "      THEN SPLIT(LEFT(FECHA, 5) , \"-\")[SAFE_OFFSET(0)]  \n",
    "  WHEN right(FECHA,3) LIKE '%/%' \n",
    "      AND LEFT(right(FECHA,3) ,2) ='/9' \n",
    "      THEN  '19'||right(FECHA,2) \n",
    "  WHEN right(FECHA,3) LIKE '%/%' \n",
    "      AND LEFT(right(FECHA,3) ,2) ='/8' \n",
    "      THEN  '198'||right(FECHA,2) \n",
    "  WHEN right(FECHA,3) LIKE '%/%' \n",
    "      AND LEFT(right(FECHA,3) ,2) ='/0' \n",
    "      THEN  '20'||right(FECHA,2)       \n",
    "  WHEN SAFE_CAST(right(FECHA,4) AS NUMERIC) IS NOT NULL  \n",
    "      AND SAFE_CAST(right(FECHA,4) AS NUMERIC) BETWEEN 1910 AND 2050 \n",
    "      THEN right(FECHA,4) \n",
    "      \n",
    "ELSE NULL END\n",
    "       \n",
    ");\n",
    "\"\"\".format(PROJECT, DATASET, function_name)\n"
   ]
  },
  {
   "cell_type": "code",
   "execution_count": 59,
   "id": "88062900-20df-4030-9e7b-1089a347dcc7",
   "metadata": {},
   "outputs": [
    {
     "data": {
      "text/html": [
       "<div>\n",
       "<style scoped>\n",
       "    .dataframe tbody tr th:only-of-type {\n",
       "        vertical-align: middle;\n",
       "    }\n",
       "\n",
       "    .dataframe tbody tr th {\n",
       "        vertical-align: top;\n",
       "    }\n",
       "\n",
       "    .dataframe thead th {\n",
       "        text-align: right;\n",
       "    }\n",
       "</style>\n",
       "<table border=\"1\" class=\"dataframe\">\n",
       "  <thead>\n",
       "    <tr style=\"text-align: right;\">\n",
       "      <th></th>\n",
       "    </tr>\n",
       "  </thead>\n",
       "  <tbody>\n",
       "  </tbody>\n",
       "</table>\n",
       "</div>"
      ],
      "text/plain": [
       "Empty DataFrame\n",
       "Columns: []\n",
       "Index: []"
      ]
     },
     "execution_count": 59,
     "metadata": {},
     "output_type": "execute_result"
    }
   ],
   "source": [
    "## CORREMOS EL QUERY PARA QUE LA FUNCION CREADA QUEDE GUARDADA EN EL DATASET CREADO\n",
    "bq_client.query(query).to_dataframe()"
   ]
  },
  {
   "cell_type": "code",
   "execution_count": 70,
   "id": "7d5154e7-e9a5-468b-b4cd-7504bcee83df",
   "metadata": {},
   "outputs": [
    {
     "data": {
      "text/html": [
       "<div>\n",
       "<style scoped>\n",
       "    .dataframe tbody tr th:only-of-type {\n",
       "        vertical-align: middle;\n",
       "    }\n",
       "\n",
       "    .dataframe tbody tr th {\n",
       "        vertical-align: top;\n",
       "    }\n",
       "\n",
       "    .dataframe thead th {\n",
       "        text-align: right;\n",
       "    }\n",
       "</style>\n",
       "<table border=\"1\" class=\"dataframe\">\n",
       "  <thead>\n",
       "    <tr style=\"text-align: right;\">\n",
       "      <th></th>\n",
       "    </tr>\n",
       "  </thead>\n",
       "  <tbody>\n",
       "  </tbody>\n",
       "</table>\n",
       "</div>"
      ],
      "text/plain": [
       "Empty DataFrame\n",
       "Columns: []\n",
       "Index: []"
      ]
     },
     "execution_count": 70,
     "metadata": {},
     "output_type": "execute_result"
    }
   ],
   "source": [
    "function_name = 'drop_tildes'\n",
    "query = \"\"\"\n",
    "CREATE OR REPLACE FUNCTION `{}.{}.udfs_{}`(X STRING) AS (\n",
    "REPLACE(\n",
    "REPLACE(REPLACE(REPLACE(REPLACE(REPLACE(UPPER(X),'Á', 'A'),'É', 'E'),'Í', 'I'),'Ó', 'O'),'Ú', 'U')\n",
    ",'Ü', 'U' )      \n",
    ");\n",
    "\"\"\".format(PROJECT, DATASET, function_name)\n",
    "bq_client.query(query).to_dataframe()"
   ]
  },
  {
   "cell_type": "code",
   "execution_count": null,
   "id": "d22159e2-a222-4b44-bc50-21544b5df73c",
   "metadata": {},
   "outputs": [],
   "source": [
    "# Probamos  la funcion "
   ]
  },
  {
   "cell_type": "code",
   "execution_count": 67,
   "id": "b33c702c-4e9f-4c94-b6f6-101912ed0ec4",
   "metadata": {},
   "outputs": [
    {
     "data": {
      "text/html": [
       "<div>\n",
       "<style scoped>\n",
       "    .dataframe tbody tr th:only-of-type {\n",
       "        vertical-align: middle;\n",
       "    }\n",
       "\n",
       "    .dataframe tbody tr th {\n",
       "        vertical-align: top;\n",
       "    }\n",
       "\n",
       "    .dataframe thead th {\n",
       "        text-align: right;\n",
       "    }\n",
       "</style>\n",
       "<table border=\"1\" class=\"dataframe\">\n",
       "  <thead>\n",
       "    <tr style=\"text-align: right;\">\n",
       "      <th></th>\n",
       "      <th>ANO_NACIMIENTO</th>\n",
       "      <th>FECHA_DE_NACIMIENTO</th>\n",
       "    </tr>\n",
       "  </thead>\n",
       "  <tbody>\n",
       "    <tr>\n",
       "      <th>0</th>\n",
       "      <td>1999</td>\n",
       "      <td>05/04/99</td>\n",
       "    </tr>\n",
       "    <tr>\n",
       "      <th>1</th>\n",
       "      <td>1995</td>\n",
       "      <td>22/02/95</td>\n",
       "    </tr>\n",
       "    <tr>\n",
       "      <th>2</th>\n",
       "      <td>1997</td>\n",
       "      <td>29/12/97</td>\n",
       "    </tr>\n",
       "    <tr>\n",
       "      <th>3</th>\n",
       "      <td>1999</td>\n",
       "      <td>13/11/99</td>\n",
       "    </tr>\n",
       "    <tr>\n",
       "      <th>4</th>\n",
       "      <td>1997</td>\n",
       "      <td>17/06/97</td>\n",
       "    </tr>\n",
       "  </tbody>\n",
       "</table>\n",
       "</div>"
      ],
      "text/plain": [
       "  ANO_NACIMIENTO FECHA_DE_NACIMIENTO\n",
       "0           1999            05/04/99\n",
       "1           1995            22/02/95\n",
       "2           1997            29/12/97\n",
       "3           1999            13/11/99\n",
       "4           1997            17/06/97"
      ]
     },
     "execution_count": 67,
     "metadata": {},
     "output_type": "execute_result"
    }
   ],
   "source": [
    "query = \"\"\"\n",
    "SELECT\n",
    "DISTINCT\n",
    "`{}.{}.udfs_{}`(FECHA_DE_NACIMIENTO_14) ANO_NACIMIENTO, FECHA_DE_NACIMIENTO_14 FECHA_DE_NACIMIENTO\n",
    "FROM `{}.{}.{}` \n",
    "where \n",
    "    LEFT(right(FECHA_DE_NACIMIENTO_14,3) ,2) ='/9' \n",
    "    --LEFT(FECHA_DE_NACIMIENTO_14,4)  ='1993'\n",
    "LIMIT 5\n",
    "\n",
    "\"\"\".format(PROJECT, DATASET, function_name,PROJECT, DATASET, table_in_bq)\n",
    "bq_client.query(query).to_dataframe()"
   ]
  },
  {
   "cell_type": "code",
   "execution_count": 72,
   "id": "97213d54-3adb-45b5-b23a-a78dd5bfe01b",
   "metadata": {},
   "outputs": [
    {
     "data": {
      "text/html": [
       "<div>\n",
       "<style scoped>\n",
       "    .dataframe tbody tr th:only-of-type {\n",
       "        vertical-align: middle;\n",
       "    }\n",
       "\n",
       "    .dataframe tbody tr th {\n",
       "        vertical-align: top;\n",
       "    }\n",
       "\n",
       "    .dataframe thead th {\n",
       "        text-align: right;\n",
       "    }\n",
       "</style>\n",
       "<table border=\"1\" class=\"dataframe\">\n",
       "  <thead>\n",
       "    <tr style=\"text-align: right;\">\n",
       "      <th></th>\n",
       "    </tr>\n",
       "  </thead>\n",
       "  <tbody>\n",
       "  </tbody>\n",
       "</table>\n",
       "</div>"
      ],
      "text/plain": [
       "Empty DataFrame\n",
       "Columns: []\n",
       "Index: []"
      ]
     },
     "execution_count": 72,
     "metadata": {},
     "output_type": "execute_result"
    }
   ],
   "source": [
    "TABLA_LIMPIA = 'fondo_epm_limpia'\n",
    "QUERY = \"\"\"\n",
    "CREATE OR REPLACE VIEW `{}.{}.{}`\n",
    "OPTIONS () AS\n",
    "SELECT * FROM (\n",
    "SELECT\n",
    "CASE WHEN LOWER(NIVEL_FORMACION_9) LIKE '%tecno%' then 'TECNOLOGICA'\n",
    "WHEN LOWER(NIVEL_FORMACION_9) LIKE 'profesional' then 'PROFESIONAL'\n",
    "WHEN LOWER(NIVEL_FORMACION_9) LIKE '%tecni%' then 'TECNICO'\n",
    "WHEN LOWER(NIVEL_FORMACION_9) LIKE '%universi%' then 'PROFESIONAL'\n",
    "ELSE NULL END AS NIVEL_FORMACION,\n",
    "ROW_NUMBER() OVER (PARTITION BY ID_Y_20212_6 \n",
    "ORDER BY \n",
    "    SAFE_CAST(LEFT( RIGHT(REPLACE(ESTADO_20221_56, ' ',''), 6),4) \n",
    "          AS NUMERIC)\n",
    "      DESC  NULLS LAST) RN,\n",
    " \n",
    "SAFE_CAST(LEFT( RIGHT(REPLACE(ESTADO_20221_56, ' ',''), 6),4) AS NUMERIC) ANO_ESTADO --,*\n",
    ",\n",
    "CASE WHEN LOWER(ESTADO_20221_56) LIKE '%de_ertor%'\n",
    "    THEN 1 ELSE 0 END DESERTOR, \n",
    "(SAFE_CAST( LEFT( RIGHT(REPLACE(ESTADO_20221_56, ' ',''), 6),4)  AS NUMERIC) -    \n",
    "SAFE_CAST(`proyecto-covid-sds.modelo_en_gcp.udfs_anios_de_fechas`(FECHA_DE_NACIMIENTO_14)  AS NUMERIC))\n",
    "AS ANIOS_NACIMIENTO_ESTADO_2022,\n",
    "\n",
    "SAFE_CAST(RIGHT(ESTRATO_19, 1) AS NUMERIC) ESTRATO,\n",
    "\n",
    "CASE WHEN  UPPER(TIPO_DE_DISCAPACIDAD_23)\t LIKE '%COGNI%' THEN 1 ELSE 0 END COGNITIVA, \n",
    "CASE WHEN  UPPER(TIPO_DE_DISCAPACIDAD_23)\t LIKE '%AUDI%' THEN 1 ELSE 0 END AUDITIVA, \n",
    "CASE WHEN  UPPER(TIPO_DE_DISCAPACIDAD_23)\t LIKE '%F_SICA%' THEN 1\n",
    "    WHEN  UPPER(TIPO_DE_DISCAPACIDAD_23)\t LIKE '%MOTRIZ%'  THEN 1 ELSE 0 END FISICA, \n",
    "CASE WHEN  UPPER(TIPO_DE_DISCAPACIDAD_23)\t LIKE '%VISUAL%' THEN 1 ELSE 0 END VISUAL,\n",
    "CASE WHEN  UPPER(TIPO_DE_DISCAPACIDAD_23)\t LIKE '%M_LTIPLE%' THEN 1 ELSE 0 END MULTIPLE,\n",
    "CASE WHEN UPPER(LGTBI_24) LIKE '%SI%' THEN 1 ELSE 0 END AS LGTBI,\n",
    "CASE WHEN UPPER(DESMOVILIZADO_25) LIKE '%SI%' THEN 1 ELSE 0 END AS DESMOVILIZADO,\n",
    "CASE WHEN UPPER(DESPLAZADO_26) LIKE '%SI%' THEN 1 ELSE 0 END AS DESPLAZADO,\n",
    "CASE WHEN UPPER(REINSERTADO_27) LIKE '%SI%' THEN 1 ELSE 0 END AS REINSERTADO,\n",
    "CASE WHEN UPPER(VICTIMA_DEL_CONFLICT_28) LIKE '%SI%' THEN 1 ELSE 0 END AS VICTIMA_DEL_CONFLICTO,\n",
    "CASE WHEN UPPER(HECHO_VICTIMIZANTE_29) LIKE '%SI%' THEN 1 ELSE 0 END AS HECHO_VICTIMIZANTE,\n",
    "CASE WHEN UPPER(AFROCOLOMBIANO_30) LIKE '%SI%' THEN 1 ELSE 0 END AS AFROCOLOMBIANO,\n",
    "CASE WHEN UPPER(TIPO_AFROCOLOMBIANO_31) LIKE '%SI%' THEN 1 ELSE 0 END AS TIPO_AFROCOLOMBIANO,\n",
    "CASE WHEN UPPER(INDIGENA_32) LIKE '%SI%' THEN 1 ELSE 0 END AS INDIGENA,\n",
    "CASE WHEN UPPER(TECNOLOGO_34) LIKE '%SI%' THEN 1 ELSE 0 END AS TECNOLOGO,\n",
    "CASE WHEN UPPER(TECNICO_35) LIKE '%SI%' THEN 1 ELSE 0 END AS TECNICO,\n",
    " \n",
    "(CASE \n",
    "WHEN UPPER(PARENTESCO_DEUDOR_41) LIKE '%HERM%' THEN 'HERMANO'\n",
    "WHEN UPPER(PARENTESCO_DEUDOR_41) LIKE '%ADRE%' THEN 'PADRES'\n",
    "WHEN UPPER(PARENTESCO_DEUDOR_41) LIKE '%ABUE%' THEN 'ABUELOS'\n",
    "WHEN UPPER(PARENTESCO_DEUDOR_41) LIKE '%T_O' OR UPPER(PARENTESCO_DEUDOR_41) LIKE '%T_A' THEN 'TIOS'\n",
    "ELSE 'OTRO' END ) AS PARENTESCO_DEUDOR,\n",
    " SAFE_CAST(SEMESTRES_A_FINANCIA_42 AS NUMERIC) AS SEMESTRES_A_FINANCIA, \n",
    " SAFE_CAST(SEMESTRE_DE_INGRESO_43 AS NUMERIC) AS SEMESTRE_DE_INGRESO, \n",
    "  REPLACE(REPLACE(REPLACE(REPLACE(REPLACE(REPLACE(REPLACE(REPLACE(\n",
    "  REPLACE(REPLACE(RTRIM(LTRIM(\n",
    "  TRIM(REPLACE(UPPER(IES_11), 'UPB',''))\n",
    "  , ' '), ' '), '-',''), '  ',' '), 'FUNLAM', '')\n",
    "  , 'UNIVERSITARIACEIPA', 'UNIVERSITARIA CEIPA'), ' IUMAFIS', '')\n",
    "  , 'UNIVERSIDAD PONTIFICIA BOLIVARIANA ','UNIVERSIDAD PONTIFICIA BOLIVARIANA')\n",
    ", 'GRANCOLOMBIANO', 'GRAN COLOMBIANO'), ' ITM', ''), 'LATINOAMERICANAUNAULA', 'LATINOAMERICANA UNAULA')\n",
    ", 'INSTITUCION UNIVERSITARIA COLEGIO MAYOR DE ANTIOQUIA', 'COLEGIO MAYOR DE ANTIOQUIA') AS IES,\n",
    "\n",
    "CASE\n",
    "WHEN UPPER(GENERO_13)  LIKE '%FEM%' THEN 'F'\n",
    "WHEN UPPER(GENERO_13)  LIKE '%MU%' THEN 'F'\n",
    "WHEN UPPER(GENERO_13)  LIKE '%HOM%' THEN 'M'\n",
    "WHEN UPPER(GENERO_13)  LIKE '%MAS%' THEN 'M'\n",
    "ELSE 'I' END\n",
    "GENERO,\n",
    "`proyecto-covid-sds.modelo_en_gcp.udfs_drop_tildes`(UPPER(MUNICIPIO_DE_RESIDEN_16)) MUNICIPIO_DE_RESIDEN, \n",
    " UPPER(TIEMPO_DE_RESIDENCIA_17) AS TIEMPO_DE_RESIDENCIA, \n",
    "  \t--SAFE_CAST(SEMESTRE_DE_INGRESO_43 AS NUMERIC) AS SEMESTRE_DE_INGRESO,\n",
    "    SAFE_CAST(GIROS_PENDIENTES_46 AS NUMERIC) AS GIROS_PENDIENTES,\n",
    "\n",
    "CASE WHEN MONTO_MATRICULA_47 LIKE '%$ -%' THEN 0 ELSE SAFE_CAST( \n",
    " REPLACE(REPLACE(REPLACE(MONTO_MATRICULA_47 , '$ ',''), '.',''), ' ','')\n",
    "AS NUMERIC) END AS MONTO_MATRICULA,\n",
    "CASE WHEN MONTO_SOSTENIMIENTO_48 LIKE '%$ -%' THEN 0 ELSE SAFE_CAST( \n",
    " REPLACE(REPLACE(REPLACE(MONTO_SOSTENIMIENTO_48 , '$ ',''), '.',''), ' ','')\n",
    "AS NUMERIC) END AS MONTO_SOSTENIMIENTO, \n",
    " SAFE_CAST(PUNTAJE_69 AS NUMERIC) PUNTAJE\n",
    "FROM `{}.{}.{}`\n",
    ")\n",
    "WHERE RN = 1\n",
    " \n",
    "and NIVEL_FORMACION IS NOT NULL \n",
    "and ANO_ESTADO IS NOT NULL \n",
    "and DESERTOR IS NOT NULL \n",
    "and ANIOS_NACIMIENTO_ESTADO_2022 IS NOT NULL \n",
    "and ESTRATO IS NOT NULL \n",
    "and COGNITIVA IS NOT NULL \n",
    "and AUDITIVA IS NOT NULL \n",
    "and FISICA IS NOT NULL \n",
    "and VISUAL IS NOT NULL \n",
    "and MULTIPLE IS NOT NULL \n",
    "and LGTBI IS NOT NULL \n",
    "and DESMOVILIZADO IS NOT NULL \n",
    "and DESPLAZADO IS NOT NULL \n",
    "\n",
    "and REINSERTADO IS NOT NULL \n",
    "and VICTIMA_DEL_CONFLICTO IS NOT NULL \n",
    "and HECHO_VICTIMIZANTE IS NOT NULL \n",
    "and AFROCOLOMBIANO IS NOT NULL \n",
    "\n",
    "and TIPO_AFROCOLOMBIANO IS NOT NULL \n",
    "and INDIGENA IS NOT NULL \n",
    "and TECNICO IS NOT NULL \n",
    "and TECNOLOGO IS NOT NULL \n",
    "and PARENTESCO_DEUDOR IS NOT NULL \n",
    "\n",
    "and SEMESTRES_A_FINANCIA IS NOT NULL \n",
    "and SEMESTRE_DE_INGRESO IS NOT NULL \n",
    "and IES IS NOT NULL \n",
    "and GENERO IS NOT NULL \n",
    "and MUNICIPIO_DE_RESIDEN IS NOT NULL \n",
    "and TIEMPO_DE_RESIDENCIA IS NOT NULL \n",
    "and GIROS_PENDIENTES IS NOT NULL \n",
    "and MONTO_MATRICULA IS NOT NULL \n",
    "and MONTO_SOSTENIMIENTO IS NOT NULL \n",
    "\"\"\".format(PROJECT, DATASET, TABLA_LIMPIA,PROJECT, DATASET, table_in_bq)\n",
    "bq_client.query(QUERY).to_dataframe()"
   ]
  },
  {
   "cell_type": "markdown",
   "id": "c10959e9-d9e8-40f8-8353-ca0d7117dea4",
   "metadata": {},
   "source": [
    "# Getting started: Training and Prediction with BigQuery ML\n",
    "\n",
    "\n",
    "<img src=\"https://wwwstatic-c.lookercdn.com/partner_network/pages/google/bigquery_v0002.png\" width=\"120\" align=\"middle\"/>"
   ]
  },
  {
   "cell_type": "markdown",
   "id": "b8bb2127-0e7f-4afb-96ff-9ceba7a337a9",
   "metadata": {},
   "source": [
    "### Costos\n",
    "En este instructivo, se usan componentes facturables de Cloud Platform, que incluyen:\n",
    "\n",
    "- Google BigQuery\n",
    "- BigQueryML\n",
    "\n",
    "Más información sobre [Google BigQuery\n",
    "precios](https://cloud.google.com/bigquery/docs/controlling-costs) y [Cloud Storage\n",
    "precios](https://cloud.google.com/storage/pricing) y use el [Pricing\n",
    "Calculadora](https://cloud.google.com/bigquery/docs/estimate-costs)\n",
    "para generar una estimación de costos basada en su uso proyectado."
   ]
  },
  {
   "cell_type": "markdown",
   "id": "c896ce74-aa64-4ce3-80b9-2eb96b2741a9",
   "metadata": {},
   "source": [
    "#### Descargamos los datos de Bigquery\n",
    "Descargamos los datos que guardamos limpios y listos para procesar con la intencion de correrlos en el `AutoML classification` "
   ]
  },
  {
   "cell_type": "code",
   "execution_count": 88,
   "id": "d23545a8-bb35-4e41-8dde-e47932c35d06",
   "metadata": {},
   "outputs": [],
   "source": [
    "execfile(\"functions/ML_train_functions_gcp.py\")"
   ]
  },
  {
   "cell_type": "code",
   "execution_count": 136,
   "id": "670c2ffc-223d-43a0-9bb3-da48fcf8b0bb",
   "metadata": {},
   "outputs": [
    {
     "data": {
      "text/html": [
       "<div>\n",
       "<style scoped>\n",
       "    .dataframe tbody tr th:only-of-type {\n",
       "        vertical-align: middle;\n",
       "    }\n",
       "\n",
       "    .dataframe tbody tr th {\n",
       "        vertical-align: top;\n",
       "    }\n",
       "\n",
       "    .dataframe thead th {\n",
       "        text-align: right;\n",
       "    }\n",
       "</style>\n",
       "<table border=\"1\" class=\"dataframe\">\n",
       "  <thead>\n",
       "    <tr style=\"text-align: right;\">\n",
       "      <th></th>\n",
       "      <th>IDENTIFICADOR_UNICO</th>\n",
       "      <th>NIVEL_FORMACION</th>\n",
       "      <th>RN</th>\n",
       "      <th>ANO_ESTADO</th>\n",
       "      <th>DESERTOR</th>\n",
       "      <th>ANIOS_NACIMIENTO_ESTADO_2022</th>\n",
       "      <th>ESTRATO</th>\n",
       "      <th>COGNITIVA</th>\n",
       "      <th>AUDITIVA</th>\n",
       "      <th>FISICA</th>\n",
       "      <th>...</th>\n",
       "      <th>SEMESTRES_A_FINANCIA</th>\n",
       "      <th>SEMESTRE_DE_INGRESO</th>\n",
       "      <th>IES</th>\n",
       "      <th>GENERO</th>\n",
       "      <th>MUNICIPIO_DE_RESIDEN</th>\n",
       "      <th>TIEMPO_DE_RESIDENCIA</th>\n",
       "      <th>GIROS_PENDIENTES</th>\n",
       "      <th>MONTO_MATRICULA</th>\n",
       "      <th>MONTO_SOSTENIMIENTO</th>\n",
       "      <th>PUNTAJE</th>\n",
       "    </tr>\n",
       "  </thead>\n",
       "  <tbody>\n",
       "    <tr>\n",
       "      <th>0</th>\n",
       "      <td>10000838632020-1</td>\n",
       "      <td>PROFESIONAL</td>\n",
       "      <td>1</td>\n",
       "      <td>2022.000000000</td>\n",
       "      <td>0</td>\n",
       "      <td>23.000000000</td>\n",
       "      <td>2.000000000</td>\n",
       "      <td>0</td>\n",
       "      <td>0</td>\n",
       "      <td>0</td>\n",
       "      <td>...</td>\n",
       "      <td>10.000000000</td>\n",
       "      <td>1.000000000</td>\n",
       "      <td>UNIVERSIDAD CATOLICA LUIS AMIGO</td>\n",
       "      <td>F</td>\n",
       "      <td>MEDELLIN</td>\n",
       "      <td>60 MESES EN ADELANTE</td>\n",
       "      <td>4.000000000</td>\n",
       "      <td>2633409.000000000</td>\n",
       "      <td>2194507.000000000</td>\n",
       "      <td>90.000000000</td>\n",
       "    </tr>\n",
       "    <tr>\n",
       "      <th>1</th>\n",
       "      <td>10000843992021-1</td>\n",
       "      <td>PROFESIONAL</td>\n",
       "      <td>1</td>\n",
       "      <td>2021.000000000</td>\n",
       "      <td>0</td>\n",
       "      <td>25.000000000</td>\n",
       "      <td>1.000000000</td>\n",
       "      <td>0</td>\n",
       "      <td>0</td>\n",
       "      <td>0</td>\n",
       "      <td>...</td>\n",
       "      <td>9.000000000</td>\n",
       "      <td>1.000000000</td>\n",
       "      <td>UNIVERSIDAD DE MEDELLIN</td>\n",
       "      <td>M</td>\n",
       "      <td>MEDELLIN</td>\n",
       "      <td>60 MESES EN ADELANTE</td>\n",
       "      <td>0E-9</td>\n",
       "      <td>0E-9</td>\n",
       "      <td>0E-9</td>\n",
       "      <td>100.000000000</td>\n",
       "    </tr>\n",
       "    <tr>\n",
       "      <th>2</th>\n",
       "      <td>10000883192020-2</td>\n",
       "      <td>PROFESIONAL</td>\n",
       "      <td>1</td>\n",
       "      <td>2022.000000000</td>\n",
       "      <td>0</td>\n",
       "      <td>21.000000000</td>\n",
       "      <td>1.000000000</td>\n",
       "      <td>1</td>\n",
       "      <td>0</td>\n",
       "      <td>0</td>\n",
       "      <td>...</td>\n",
       "      <td>10.000000000</td>\n",
       "      <td>1.000000000</td>\n",
       "      <td>UNIVERSIDAD AUTONOMA LATINOAMERICANA UNAULA</td>\n",
       "      <td>F</td>\n",
       "      <td>MEDELLIN</td>\n",
       "      <td>60 MESES EN ADELANTE</td>\n",
       "      <td>5.000000000</td>\n",
       "      <td>2101546.000000000</td>\n",
       "      <td>2194507.000000000</td>\n",
       "      <td>105.000000000</td>\n",
       "    </tr>\n",
       "    <tr>\n",
       "      <th>3</th>\n",
       "      <td>10000888452018-1</td>\n",
       "      <td>PROFESIONAL</td>\n",
       "      <td>1</td>\n",
       "      <td>2022.000000000</td>\n",
       "      <td>0</td>\n",
       "      <td>21.000000000</td>\n",
       "      <td>2.000000000</td>\n",
       "      <td>0</td>\n",
       "      <td>0</td>\n",
       "      <td>0</td>\n",
       "      <td>...</td>\n",
       "      <td>10.000000000</td>\n",
       "      <td>1.000000000</td>\n",
       "      <td>UNIVERSIDAD CATOLICA LUIS AMIGO</td>\n",
       "      <td>F</td>\n",
       "      <td>MEDELLIN</td>\n",
       "      <td>60 MESES EN ADELANTE</td>\n",
       "      <td>9.000000000</td>\n",
       "      <td>2103276.000000000</td>\n",
       "      <td>1953105.000000000</td>\n",
       "      <td>110.000000000</td>\n",
       "    </tr>\n",
       "    <tr>\n",
       "      <th>4</th>\n",
       "      <td>10000888982019-1</td>\n",
       "      <td>PROFESIONAL</td>\n",
       "      <td>1</td>\n",
       "      <td>2022.000000000</td>\n",
       "      <td>0</td>\n",
       "      <td>21.000000000</td>\n",
       "      <td>2.000000000</td>\n",
       "      <td>0</td>\n",
       "      <td>0</td>\n",
       "      <td>0</td>\n",
       "      <td>...</td>\n",
       "      <td>9.000000000</td>\n",
       "      <td>1.000000000</td>\n",
       "      <td>UNIVERSIDAD DE MEDELLIN</td>\n",
       "      <td>F</td>\n",
       "      <td>MEDELLIN</td>\n",
       "      <td>0</td>\n",
       "      <td>6.000000000</td>\n",
       "      <td>2484348.000000000</td>\n",
       "      <td>2070290.000000000</td>\n",
       "      <td>103.000000000</td>\n",
       "    </tr>\n",
       "  </tbody>\n",
       "</table>\n",
       "<p>5 rows × 34 columns</p>\n",
       "</div>"
      ],
      "text/plain": [
       "  IDENTIFICADOR_UNICO NIVEL_FORMACION  RN      ANO_ESTADO  DESERTOR  \\\n",
       "0    10000838632020-1     PROFESIONAL   1  2022.000000000         0   \n",
       "1    10000843992021-1     PROFESIONAL   1  2021.000000000         0   \n",
       "2    10000883192020-2     PROFESIONAL   1  2022.000000000         0   \n",
       "3    10000888452018-1     PROFESIONAL   1  2022.000000000         0   \n",
       "4    10000888982019-1     PROFESIONAL   1  2022.000000000         0   \n",
       "\n",
       "  ANIOS_NACIMIENTO_ESTADO_2022      ESTRATO  COGNITIVA  AUDITIVA  FISICA  ...  \\\n",
       "0                 23.000000000  2.000000000          0         0       0  ...   \n",
       "1                 25.000000000  1.000000000          0         0       0  ...   \n",
       "2                 21.000000000  1.000000000          1         0       0  ...   \n",
       "3                 21.000000000  2.000000000          0         0       0  ...   \n",
       "4                 21.000000000  2.000000000          0         0       0  ...   \n",
       "\n",
       "   SEMESTRES_A_FINANCIA  SEMESTRE_DE_INGRESO  \\\n",
       "0          10.000000000          1.000000000   \n",
       "1           9.000000000          1.000000000   \n",
       "2          10.000000000          1.000000000   \n",
       "3          10.000000000          1.000000000   \n",
       "4           9.000000000          1.000000000   \n",
       "\n",
       "                                           IES  GENERO  MUNICIPIO_DE_RESIDEN  \\\n",
       "0              UNIVERSIDAD CATOLICA LUIS AMIGO       F              MEDELLIN   \n",
       "1                      UNIVERSIDAD DE MEDELLIN       M              MEDELLIN   \n",
       "2  UNIVERSIDAD AUTONOMA LATINOAMERICANA UNAULA       F              MEDELLIN   \n",
       "3              UNIVERSIDAD CATOLICA LUIS AMIGO       F              MEDELLIN   \n",
       "4                      UNIVERSIDAD DE MEDELLIN       F              MEDELLIN   \n",
       "\n",
       "   TIEMPO_DE_RESIDENCIA  GIROS_PENDIENTES    MONTO_MATRICULA  \\\n",
       "0  60 MESES EN ADELANTE       4.000000000  2633409.000000000   \n",
       "1  60 MESES EN ADELANTE              0E-9               0E-9   \n",
       "2  60 MESES EN ADELANTE       5.000000000  2101546.000000000   \n",
       "3  60 MESES EN ADELANTE       9.000000000  2103276.000000000   \n",
       "4                     0       6.000000000  2484348.000000000   \n",
       "\n",
       "   MONTO_SOSTENIMIENTO        PUNTAJE  \n",
       "0    2194507.000000000   90.000000000  \n",
       "1                 0E-9  100.000000000  \n",
       "2    2194507.000000000  105.000000000  \n",
       "3    1953105.000000000  110.000000000  \n",
       "4    2070290.000000000  103.000000000  \n",
       "\n",
       "[5 rows x 34 columns]"
      ]
     },
     "execution_count": 136,
     "metadata": {},
     "output_type": "execute_result"
    }
   ],
   "source": [
    "TABLA_LIMPIA = 'fondo_epm_limpia'\n",
    "query = \"\"\"\n",
    "SELECT *\n",
    "FROM `{}.{}.{}`\n",
    " \n",
    "\"\"\".format(PROJECT, DATASET,TABLA_LIMPIA )\n",
    "data = bq_client.query(query).to_dataframe()\n",
    "data.head(5)"
   ]
  },
  {
   "cell_type": "code",
   "execution_count": 107,
   "id": "b5aa720e-b82f-4588-95a2-7612db9b9834",
   "metadata": {},
   "outputs": [
    {
     "data": {
      "text/plain": [
       "Index(['NIVEL_FORMACION', 'RN', 'ANO_ESTADO', 'DESERTOR',\n",
       "       'ANIOS_NACIMIENTO_ESTADO_2022', 'ESTRATO', 'COGNITIVA', 'AUDITIVA',\n",
       "       'FISICA', 'VISUAL', 'MULTIPLE', 'LGTBI', 'DESMOVILIZADO', 'DESPLAZADO',\n",
       "       'REINSERTADO', 'VICTIMA_DEL_CONFLICTO', 'HECHO_VICTIMIZANTE',\n",
       "       'AFROCOLOMBIANO', 'TIPO_AFROCOLOMBIANO', 'INDIGENA', 'TECNOLOGO',\n",
       "       'TECNICO', 'PARENTESCO_DEUDOR', 'SEMESTRES_A_FINANCIA',\n",
       "       'SEMESTRE_DE_INGRESO', 'IES', 'GENERO', 'MUNICIPIO_DE_RESIDEN',\n",
       "       'TIEMPO_DE_RESIDENCIA', 'GIROS_PENDIENTES', 'MONTO_MATRICULA',\n",
       "       'MONTO_SOSTENIMIENTO', 'PUNTAJE'],\n",
       "      dtype='object')"
      ]
     },
     "execution_count": 107,
     "metadata": {},
     "output_type": "execute_result"
    }
   ],
   "source": [
    "data.columns"
   ]
  },
  {
   "cell_type": "code",
   "execution_count": 119,
   "id": "1e68b952-d00f-4241-a2b5-b3417a113653",
   "metadata": {},
   "outputs": [
    {
     "data": {
      "text/plain": [
       "[Text(0, 0, 'No DESERTOR'), Text(1, 0, 'DESERTOR')]"
      ]
     },
     "execution_count": 119,
     "metadata": {},
     "output_type": "execute_result"
    },
    {
     "data": {
      "image/png": "[encoded data removed]",
      "text/plain": [
       "<Figure size 432x288 with 1 Axes>"
      ]
     },
     "metadata": {
      "needs_background": "light"
     },
     "output_type": "display_data"
    }
   ],
   "source": [
    "import seaborn as sns\n",
    "# visualize the target variable\n",
    "g = sns.countplot(data['DESERTOR'])\n",
    "g.set_xticklabels(['No DESERTOR','DESERTOR'])"
   ]
  },
  {
   "cell_type": "code",
   "execution_count": null,
   "id": "fbc56dfd-1ae0-41d2-b290-f4da5fdbd108",
   "metadata": {},
   "outputs": [],
   "source": [
    "DESERTOR"
   ]
  },
  {
   "cell_type": "code",
   "execution_count": 120,
   "id": "344ae8b7-4947-4423-a460-ce3291120adc",
   "metadata": {},
   "outputs": [],
   "source": [
    "import pandas as pd\n",
    "import numpy as np\n",
    "import matplotlib.pyplot as plt\n"
   ]
  },
  {
   "cell_type": "markdown",
   "id": "b3609213-9164-41a8-8b9e-bcc12dc580dd",
   "metadata": {},
   "source": [
    "### Transformaciones"
   ]
  },
  {
   "cell_type": "code",
   "execution_count": 121,
   "id": "f1f40942-09c3-4496-a867-58140ca1fc9e",
   "metadata": {},
   "outputs": [],
   "source": [
    "execfile(\"functions/ML_train_functions_gcp.py\")"
   ]
  },
  {
   "cell_type": "code",
   "execution_count": 122,
   "id": "75b9c937-1d2c-48e1-a448-dab9502ec45b",
   "metadata": {},
   "outputs": [],
   "source": [
    "VARIABLES_INDEPENDIENTES= ['NIVEL_FORMACION', 'RN', 'ANO_ESTADO', 'ANIOS_NACIMIENTO_ESTADO_2022',\n",
    "                           'ESTRATO', 'COGNITIVA', 'AUDITIVA', 'FISICA',\n",
    "                           'VISUAL', 'MULTIPLE', 'LGTBI', 'DESMOVILIZADO', 'DESPLAZADO',\n",
    "                           'REINSERTADO', 'VICTIMA_DEL_CONFLICTO', 'HECHO_VICTIMIZANTE',\n",
    "                           'AFROCOLOMBIANO', 'TIPO_AFROCOLOMBIANO', 'INDIGENA', 'TECNOLOGO',\n",
    "                           'TECNICO', 'PARENTESCO_DEUDOR', 'SEMESTRES_A_FINANCIA',\n",
    "                           'SEMESTRE_DE_INGRESO', 'IES', 'GENERO', 'MUNICIPIO_DE_RESIDEN',\n",
    "                           'TIEMPO_DE_RESIDENCIA', 'GIROS_PENDIENTES', 'MONTO_MATRICULA',\n",
    "                           'MONTO_SOSTENIMIENTO', 'PUNTAJE' ] \n",
    "VARIABLE_DEPENDEINTE = 'DESERTOR'\n",
    "VARIABLES_INDEP_NUMERICAS = [ 'RN', 'ANO_ESTADO', 'ANIOS_NACIMIENTO_ESTADO_2022', \n",
    "                             'COGNITIVA', 'AUDITIVA', 'FISICA',\n",
    "                           'VISUAL', 'MULTIPLE', 'LGTBI', 'DESMOVILIZADO', 'DESPLAZADO',\n",
    "                           'REINSERTADO', 'VICTIMA_DEL_CONFLICTO', 'HECHO_VICTIMIZANTE',\n",
    "                           'AFROCOLOMBIANO', 'TIPO_AFROCOLOMBIANO', 'INDIGENA', 'TECNOLOGO',\n",
    "                           'TECNICO',  'SEMESTRES_A_FINANCIA',\n",
    "                           'SEMESTRE_DE_INGRESO' ,  'GIROS_PENDIENTES', 'MONTO_MATRICULA',\n",
    "                           'MONTO_SOSTENIMIENTO', 'PUNTAJE'\n",
    "                            ]\n",
    "VARIABLES_INDEP_CATEGORICAS = [ 'NIVEL_FORMACION',   'ESTRATO',   'IES', 'MUNICIPIO_DE_RESIDEN', \n",
    "                               'PARENTESCO_DEUDOR', 'TIEMPO_DE_RESIDENCIA',  'GENERO' ]\n",
    "\n",
    "X_train, X_test, y_train, y_test =  feature_eng(tabla=data, \n",
    "                                                                    X=VARIABLES_INDEPENDIENTES,\n",
    "                                                                     Y=VARIABLE_DEPENDEINTE,\n",
    "                                                                     X_num=VARIABLES_INDEP_NUMERICAS ,\n",
    "                                                                     X_Cat=VARIABLES_INDEP_CATEGORICAS )\n",
    " "
   ]
  },
  {
   "cell_type": "code",
   "execution_count": 123,
   "id": "df71118a-cab7-4a04-a080-fea1b783167c",
   "metadata": {
    "tags": []
   },
   "outputs": [
    {
     "data": {
      "text/html": [
       "<div>\n",
       "<style scoped>\n",
       "    .dataframe tbody tr th:only-of-type {\n",
       "        vertical-align: middle;\n",
       "    }\n",
       "\n",
       "    .dataframe tbody tr th {\n",
       "        vertical-align: top;\n",
       "    }\n",
       "\n",
       "    .dataframe thead th {\n",
       "        text-align: right;\n",
       "    }\n",
       "</style>\n",
       "<table border=\"1\" class=\"dataframe\">\n",
       "  <thead>\n",
       "    <tr style=\"text-align: right;\">\n",
       "      <th></th>\n",
       "      <th>RN</th>\n",
       "      <th>ANO_ESTADO</th>\n",
       "      <th>ANIOS_NACIMIENTO_ESTADO_2022</th>\n",
       "      <th>COGNITIVA</th>\n",
       "      <th>AUDITIVA</th>\n",
       "      <th>FISICA</th>\n",
       "      <th>VISUAL</th>\n",
       "      <th>MULTIPLE</th>\n",
       "      <th>LGTBI</th>\n",
       "      <th>DESMOVILIZADO</th>\n",
       "      <th>...</th>\n",
       "      <th>PARENTESCO_DEUDOR_TIOS</th>\n",
       "      <th>TIEMPO_DE_RESIDENCIA_0</th>\n",
       "      <th>TIEMPO_DE_RESIDENCIA_1 A 23 MESES</th>\n",
       "      <th>TIEMPO_DE_RESIDENCIA_24 A 35 MESES</th>\n",
       "      <th>TIEMPO_DE_RESIDENCIA_36 A 59 MESES</th>\n",
       "      <th>TIEMPO_DE_RESIDENCIA_60 MESES EN ADELANTE</th>\n",
       "      <th>TIEMPO_DE_RESIDENCIA_NO APLICA</th>\n",
       "      <th>GENERO_F</th>\n",
       "      <th>GENERO_I</th>\n",
       "      <th>GENERO_M</th>\n",
       "    </tr>\n",
       "  </thead>\n",
       "  <tbody>\n",
       "    <tr>\n",
       "      <th>336701</th>\n",
       "      <td>1</td>\n",
       "      <td>2013.000000000</td>\n",
       "      <td>24.000000000</td>\n",
       "      <td>0</td>\n",
       "      <td>0</td>\n",
       "      <td>0</td>\n",
       "      <td>0</td>\n",
       "      <td>0</td>\n",
       "      <td>0</td>\n",
       "      <td>0</td>\n",
       "      <td>...</td>\n",
       "      <td>0</td>\n",
       "      <td>1</td>\n",
       "      <td>0</td>\n",
       "      <td>0</td>\n",
       "      <td>0</td>\n",
       "      <td>0</td>\n",
       "      <td>0</td>\n",
       "      <td>1</td>\n",
       "      <td>0</td>\n",
       "      <td>0</td>\n",
       "    </tr>\n",
       "    <tr>\n",
       "      <th>133704</th>\n",
       "      <td>1</td>\n",
       "      <td>2013.000000000</td>\n",
       "      <td>23.000000000</td>\n",
       "      <td>0</td>\n",
       "      <td>0</td>\n",
       "      <td>0</td>\n",
       "      <td>0</td>\n",
       "      <td>0</td>\n",
       "      <td>0</td>\n",
       "      <td>0</td>\n",
       "      <td>...</td>\n",
       "      <td>0</td>\n",
       "      <td>0</td>\n",
       "      <td>0</td>\n",
       "      <td>0</td>\n",
       "      <td>0</td>\n",
       "      <td>1</td>\n",
       "      <td>0</td>\n",
       "      <td>0</td>\n",
       "      <td>0</td>\n",
       "      <td>1</td>\n",
       "    </tr>\n",
       "  </tbody>\n",
       "</table>\n",
       "<p>2 rows × 191 columns</p>\n",
       "</div>"
      ],
      "text/plain": [
       "        RN      ANO_ESTADO ANIOS_NACIMIENTO_ESTADO_2022  COGNITIVA  AUDITIVA  \\\n",
       "336701   1  2013.000000000                 24.000000000          0         0   \n",
       "133704   1  2013.000000000                 23.000000000          0         0   \n",
       "\n",
       "        FISICA  VISUAL  MULTIPLE  LGTBI  DESMOVILIZADO  ...  \\\n",
       "336701       0       0         0      0              0  ...   \n",
       "133704       0       0         0      0              0  ...   \n",
       "\n",
       "        PARENTESCO_DEUDOR_TIOS  TIEMPO_DE_RESIDENCIA_0  \\\n",
       "336701                       0                       1   \n",
       "133704                       0                       0   \n",
       "\n",
       "        TIEMPO_DE_RESIDENCIA_1 A 23 MESES  TIEMPO_DE_RESIDENCIA_24 A 35 MESES  \\\n",
       "336701                                  0                                   0   \n",
       "133704                                  0                                   0   \n",
       "\n",
       "        TIEMPO_DE_RESIDENCIA_36 A 59 MESES  \\\n",
       "336701                                   0   \n",
       "133704                                   0   \n",
       "\n",
       "        TIEMPO_DE_RESIDENCIA_60 MESES EN ADELANTE  \\\n",
       "336701                                          0   \n",
       "133704                                          1   \n",
       "\n",
       "        TIEMPO_DE_RESIDENCIA_NO APLICA  GENERO_F  GENERO_I GENERO_M  \n",
       "336701                               0         1         0        0  \n",
       "133704                               0         0         0        1  \n",
       "\n",
       "[2 rows x 191 columns]"
      ]
     },
     "execution_count": 123,
     "metadata": {},
     "output_type": "execute_result"
    }
   ],
   "source": [
    "X_train.head(2)"
   ]
  },
  {
   "cell_type": "markdown",
   "id": "3075e378-5920-4dbe-840a-07127ff1b024",
   "metadata": {
    "tags": []
   },
   "source": [
    "## AUTOML\n",
    " Escribe tu codigo"
   ]
  },
  {
   "cell_type": "code",
   "execution_count": 124,
   "id": "f3b4aaca-8727-4145-95d4-626d0f60f88a",
   "metadata": {},
   "outputs": [],
   "source": [
    "from sklearn.naive_bayes import GaussianNB\n",
    "from sklearn.linear_model import LogisticRegression\n",
    "from sklearn.metrics import confusion_matrix\n",
    "from sklearn.svm import SVC\n",
    "from sklearn.tree import DecisionTreeClassifier\n",
    "from sklearn.ensemble import RandomForestClassifier\n",
    "from xgboost import XGBClassifier\n",
    "from sklearn.metrics import *"
   ]
  },
  {
   "cell_type": "code",
   "execution_count": 126,
   "id": "da56a5ed-92b3-40a4-9e13-5636ccda5a99",
   "metadata": {},
   "outputs": [
    {
     "name": "stdout",
     "output_type": "stream",
     "text": [
      "Modelo XGBClassifier no pudo ser calculado\n",
      "CPU times: user 48.3 s, sys: 5.06 s, total: 53.3 s\n",
      "Wall time: 40.7 s\n"
     ]
    },
    {
     "data": {
      "text/html": [
       "<style type=\"text/css\">\n",
       "#T_3122d_row1_col1, #T_3122d_row3_col0, #T_3122d_row3_col2, #T_3122d_row3_col3, #T_3122d_row3_col4 {\n",
       "  background-color: yellow;\n",
       "}\n",
       "</style>\n",
       "<table id=\"T_3122d_\">\n",
       "  <thead>\n",
       "    <tr>\n",
       "      <th class=\"blank level0\" >&nbsp;</th>\n",
       "      <th class=\"col_heading level0 col0\" >Accuracy</th>\n",
       "      <th class=\"col_heading level0 col1\" >Precision</th>\n",
       "      <th class=\"col_heading level0 col2\" >Recall</th>\n",
       "      <th class=\"col_heading level0 col3\" >F1</th>\n",
       "      <th class=\"col_heading level0 col4\" >ROC-AUC</th>\n",
       "    </tr>\n",
       "    <tr>\n",
       "      <th class=\"index_name level0\" >Modelo</th>\n",
       "      <th class=\"blank col0\" >&nbsp;</th>\n",
       "      <th class=\"blank col1\" >&nbsp;</th>\n",
       "      <th class=\"blank col2\" >&nbsp;</th>\n",
       "      <th class=\"blank col3\" >&nbsp;</th>\n",
       "      <th class=\"blank col4\" >&nbsp;</th>\n",
       "    </tr>\n",
       "  </thead>\n",
       "  <tbody>\n",
       "    <tr>\n",
       "      <th id=\"T_3122d_level0_row0\" class=\"row_heading level0 row0\" >Regresion Logistica</th>\n",
       "      <td id=\"T_3122d_row0_col0\" class=\"data row0 col0\" >0.807088</td>\n",
       "      <td id=\"T_3122d_row0_col1\" class=\"data row0 col1\" >0.000000</td>\n",
       "      <td id=\"T_3122d_row0_col2\" class=\"data row0 col2\" >0.000000</td>\n",
       "      <td id=\"T_3122d_row0_col3\" class=\"data row0 col3\" >0.000000</td>\n",
       "      <td id=\"T_3122d_row0_col4\" class=\"data row0 col4\" >0.500000</td>\n",
       "    </tr>\n",
       "    <tr>\n",
       "      <th id=\"T_3122d_level0_row1\" class=\"row_heading level0 row1\" >Naive Bayes</th>\n",
       "      <td id=\"T_3122d_row1_col0\" class=\"data row1 col0\" >0.807110</td>\n",
       "      <td id=\"T_3122d_row1_col1\" class=\"data row1 col1\" >1.000000</td>\n",
       "      <td id=\"T_3122d_row1_col2\" class=\"data row1 col2\" >0.000114</td>\n",
       "      <td id=\"T_3122d_row1_col3\" class=\"data row1 col3\" >0.000228</td>\n",
       "      <td id=\"T_3122d_row1_col4\" class=\"data row1 col4\" >0.500057</td>\n",
       "    </tr>\n",
       "    <tr>\n",
       "      <th id=\"T_3122d_level0_row2\" class=\"row_heading level0 row2\" >Árbol de Decisión</th>\n",
       "      <td id=\"T_3122d_row2_col0\" class=\"data row2 col0\" >0.955145</td>\n",
       "      <td id=\"T_3122d_row2_col1\" class=\"data row2 col1\" >0.873295</td>\n",
       "      <td id=\"T_3122d_row2_col2\" class=\"data row2 col2\" >0.897737</td>\n",
       "      <td id=\"T_3122d_row2_col3\" class=\"data row2 col3\" >0.885347</td>\n",
       "      <td id=\"T_3122d_row2_col4\" class=\"data row2 col4\" >0.933302</td>\n",
       "    </tr>\n",
       "    <tr>\n",
       "      <th id=\"T_3122d_level0_row3\" class=\"row_heading level0 row3\" >Random Forest</th>\n",
       "      <td id=\"T_3122d_row3_col0\" class=\"data row3 col0\" >0.979689</td>\n",
       "      <td id=\"T_3122d_row3_col1\" class=\"data row3 col1\" >0.982242</td>\n",
       "      <td id=\"T_3122d_row3_col2\" class=\"data row3 col2\" >0.911190</td>\n",
       "      <td id=\"T_3122d_row3_col3\" class=\"data row3 col3\" >0.945382</td>\n",
       "      <td id=\"T_3122d_row3_col4\" class=\"data row3 col4\" >0.953626</td>\n",
       "    </tr>\n",
       "  </tbody>\n",
       "</table>\n"
      ],
      "text/plain": [
       "<pandas.io.formats.style.Styler at 0x7f10f7d7c5d0>"
      ]
     },
     "execution_count": 126,
     "metadata": {},
     "output_type": "execute_result"
    }
   ],
   "source": [
    "%%time\n",
    "automl_class = funcion_automl(X_train , y_train ,  y_test , X_test )\n",
    "resultado = automl_class.run_automl_models()\n",
    "resultado  "
   ]
  },
  {
   "cell_type": "markdown",
   "id": "9b5a8cb2-7aeb-48be-8192-a0ca2e436694",
   "metadata": {},
   "source": [
    "#### Over-sampling"
   ]
  },
  {
   "cell_type": "code",
   "execution_count": 128,
   "id": "f74f605f-9814-4cd0-aaae-a0bea91146f6",
   "metadata": {},
   "outputs": [
    {
     "name": "stdout",
     "output_type": "stream",
     "text": [
      "class 0: (292937, 33)\n",
      "class 1: (70812, 33)\n"
     ]
    }
   ],
   "source": [
    "class_count_0, class_count_1 = data['DESERTOR'].value_counts()\n",
    "# Separate class\n",
    "class_0 = data[data['DESERTOR'] == 0]\n",
    "class_1 = data[data['DESERTOR'] == 1]\n",
    " # print the shape of the class\n",
    "print('class 0:', class_0.shape)\n",
    "print('class 1:', class_1.shape)"
   ]
  },
  {
   "cell_type": "code",
   "execution_count": 129,
   "id": "15d17e97-1c2b-4cc0-b81a-ba3a4cc10867",
   "metadata": {},
   "outputs": [
    {
     "data": {
      "text/plain": [
       "[Text(0, 0, 'No fraude'), Text(1, 0, 'fraude')]"
      ]
     },
     "execution_count": 129,
     "metadata": {},
     "output_type": "execute_result"
    },
    {
     "data": {
      "image/png": "[encoded data removed]",
      "text/plain": [
       "<Figure size 432x288 with 1 Axes>"
      ]
     },
     "metadata": {
      "needs_background": "light"
     },
     "output_type": "display_data"
    }
   ],
   "source": [
    "class_1_over = class_1.sample(class_count_0, replace=True)\n",
    "data_over = pd.concat([class_1_over, class_0], axis=0)\n",
    "sns.countplot(data_over['DESERTOR']).set_xticklabels(['No fraude','fraude'])"
   ]
  },
  {
   "cell_type": "code",
   "execution_count": 130,
   "id": "7ad7d1a7-b717-4298-a033-fc1d8731c83e",
   "metadata": {},
   "outputs": [
    {
     "name": "stdout",
     "output_type": "stream",
     "text": [
      "Modelo XGBClassifier no pudo ser calculado\n",
      "CPU times: user 1min 15s, sys: 7.48 s, total: 1min 23s\n",
      "Wall time: 1min 6s\n"
     ]
    },
    {
     "data": {
      "text/html": [
       "<style type=\"text/css\">\n",
       "#T_dbc6e_row3_col0, #T_dbc6e_row3_col1, #T_dbc6e_row3_col2, #T_dbc6e_row3_col3, #T_dbc6e_row3_col4 {\n",
       "  background-color: yellow;\n",
       "}\n",
       "</style>\n",
       "<table id=\"T_dbc6e_\">\n",
       "  <thead>\n",
       "    <tr>\n",
       "      <th class=\"blank level0\" >&nbsp;</th>\n",
       "      <th class=\"col_heading level0 col0\" >Accuracy</th>\n",
       "      <th class=\"col_heading level0 col1\" >Precision</th>\n",
       "      <th class=\"col_heading level0 col2\" >Recall</th>\n",
       "      <th class=\"col_heading level0 col3\" >F1</th>\n",
       "      <th class=\"col_heading level0 col4\" >ROC-AUC</th>\n",
       "    </tr>\n",
       "    <tr>\n",
       "      <th class=\"index_name level0\" >Modelo</th>\n",
       "      <th class=\"blank col0\" >&nbsp;</th>\n",
       "      <th class=\"blank col1\" >&nbsp;</th>\n",
       "      <th class=\"blank col2\" >&nbsp;</th>\n",
       "      <th class=\"blank col3\" >&nbsp;</th>\n",
       "      <th class=\"blank col4\" >&nbsp;</th>\n",
       "    </tr>\n",
       "  </thead>\n",
       "  <tbody>\n",
       "    <tr>\n",
       "      <th id=\"T_dbc6e_level0_row0\" class=\"row_heading level0 row0\" >Regresion Logistica</th>\n",
       "      <td id=\"T_dbc6e_row0_col0\" class=\"data row0 col0\" >0.631198</td>\n",
       "      <td id=\"T_dbc6e_row0_col1\" class=\"data row0 col1\" >0.621321</td>\n",
       "      <td id=\"T_dbc6e_row0_col2\" class=\"data row0 col2\" >0.667679</td>\n",
       "      <td id=\"T_dbc6e_row0_col3\" class=\"data row0 col3\" >0.643667</td>\n",
       "      <td id=\"T_dbc6e_row0_col4\" class=\"data row0 col4\" >0.631280</td>\n",
       "    </tr>\n",
       "    <tr>\n",
       "      <th id=\"T_dbc6e_level0_row1\" class=\"row_heading level0 row1\" >Naive Bayes</th>\n",
       "      <td id=\"T_dbc6e_row1_col0\" class=\"data row1 col0\" >0.501164</td>\n",
       "      <td id=\"T_dbc6e_row1_col1\" class=\"data row1 col1\" >0.557377</td>\n",
       "      <td id=\"T_dbc6e_row1_col2\" class=\"data row1 col2\" >0.000465</td>\n",
       "      <td id=\"T_dbc6e_row1_col3\" class=\"data row1 col3\" >0.000930</td>\n",
       "      <td id=\"T_dbc6e_row1_col4\" class=\"data row1 col4\" >0.500049</td>\n",
       "    </tr>\n",
       "    <tr>\n",
       "      <th id=\"T_dbc6e_level0_row2\" class=\"row_heading level0 row2\" >Árbol de Decisión</th>\n",
       "      <td id=\"T_dbc6e_row2_col0\" class=\"data row2 col0\" >0.978753</td>\n",
       "      <td id=\"T_dbc6e_row2_col1\" class=\"data row2 col1\" >0.963114</td>\n",
       "      <td id=\"T_dbc6e_row2_col2\" class=\"data row2 col2\" >0.995539</td>\n",
       "      <td id=\"T_dbc6e_row2_col3\" class=\"data row2 col3\" >0.979058</td>\n",
       "      <td id=\"T_dbc6e_row2_col4\" class=\"data row2 col4\" >0.978791</td>\n",
       "    </tr>\n",
       "    <tr>\n",
       "      <th id=\"T_dbc6e_level0_row3\" class=\"row_heading level0 row3\" >Random Forest</th>\n",
       "      <td id=\"T_dbc6e_row3_col0\" class=\"data row3 col0\" >0.995678</td>\n",
       "      <td id=\"T_dbc6e_row3_col1\" class=\"data row3 col1\" >0.993299</td>\n",
       "      <td id=\"T_dbc6e_row3_col2\" class=\"data row3 col2\" >0.998070</td>\n",
       "      <td id=\"T_dbc6e_row3_col3\" class=\"data row3 col3\" >0.995679</td>\n",
       "      <td id=\"T_dbc6e_row3_col4\" class=\"data row3 col4\" >0.995684</td>\n",
       "    </tr>\n",
       "  </tbody>\n",
       "</table>\n"
      ],
      "text/plain": [
       "<pandas.io.formats.style.Styler at 0x7f102daa8e90>"
      ]
     },
     "execution_count": 130,
     "metadata": {},
     "output_type": "execute_result"
    }
   ],
   "source": [
    "%%time\n",
    "X_train, X_test, y_train, y_test = feature_eng(tabla=data_over, \n",
    "                                               X=VARIABLES_INDEPENDIENTES,\n",
    "                                               Y=VARIABLE_DEPENDEINTE,\n",
    "                                               X_num=VARIABLES_INDEP_NUMERICAS ,\n",
    "                                               X_Cat=VARIABLES_INDEP_CATEGORICAS )\n",
    " \n",
    "automl_class = funcion_automl(X_train , y_train ,  y_test , X_test )\n",
    "resultado = automl_class.run_automl_models()\n",
    "resultado  "
   ]
  },
  {
   "cell_type": "markdown",
   "id": "e8baefdb-9428-460d-aca0-43aa0d17816c",
   "metadata": {},
   "source": [
    "#### Under-sampling"
   ]
  },
  {
   "cell_type": "code",
   "execution_count": 131,
   "id": "22dcd388-11d3-468b-84a0-da303ee0db79",
   "metadata": {},
   "outputs": [
    {
     "data": {
      "text/plain": [
       "[Text(0, 0, 'No fraude'), Text(1, 0, 'fraude')]"
      ]
     },
     "execution_count": 131,
     "metadata": {},
     "output_type": "execute_result"
    },
    {
     "data": {
      "image/png": "[encoded data removed]",
      "text/plain": [
       "<Figure size 432x288 with 1 Axes>"
      ]
     },
     "metadata": {
      "needs_background": "light"
     },
     "output_type": "display_data"
    }
   ],
   "source": [
    "class_0_under = class_0.sample(class_count_1)\n",
    "data_under = pd.concat([class_0_under, class_1], axis=0)\n",
    "sns.countplot(data_under['DESERTOR']).set_xticklabels(['No fraude','fraude'])"
   ]
  },
  {
   "cell_type": "code",
   "execution_count": 132,
   "id": "32b553d1-46a6-4290-b85e-476a3e656195",
   "metadata": {},
   "outputs": [
    {
     "name": "stdout",
     "output_type": "stream",
     "text": [
      "Modelo XGBClassifier no pudo ser calculado\n",
      "CPU times: user 17.9 s, sys: 1.86 s, total: 19.7 s\n",
      "Wall time: 15.4 s\n"
     ]
    },
    {
     "data": {
      "text/html": [
       "<style type=\"text/css\">\n",
       "#T_91092_row3_col0, #T_91092_row3_col1, #T_91092_row3_col2, #T_91092_row3_col3, #T_91092_row3_col4 {\n",
       "  background-color: yellow;\n",
       "}\n",
       "</style>\n",
       "<table id=\"T_91092_\">\n",
       "  <thead>\n",
       "    <tr>\n",
       "      <th class=\"blank level0\" >&nbsp;</th>\n",
       "      <th class=\"col_heading level0 col0\" >Accuracy</th>\n",
       "      <th class=\"col_heading level0 col1\" >Precision</th>\n",
       "      <th class=\"col_heading level0 col2\" >Recall</th>\n",
       "      <th class=\"col_heading level0 col3\" >F1</th>\n",
       "      <th class=\"col_heading level0 col4\" >ROC-AUC</th>\n",
       "    </tr>\n",
       "    <tr>\n",
       "      <th class=\"index_name level0\" >Modelo</th>\n",
       "      <th class=\"blank col0\" >&nbsp;</th>\n",
       "      <th class=\"blank col1\" >&nbsp;</th>\n",
       "      <th class=\"blank col2\" >&nbsp;</th>\n",
       "      <th class=\"blank col3\" >&nbsp;</th>\n",
       "      <th class=\"blank col4\" >&nbsp;</th>\n",
       "    </tr>\n",
       "  </thead>\n",
       "  <tbody>\n",
       "    <tr>\n",
       "      <th id=\"T_91092_level0_row0\" class=\"row_heading level0 row0\" >Regresion Logistica</th>\n",
       "      <td id=\"T_91092_row0_col0\" class=\"data row0 col0\" >0.627125</td>\n",
       "      <td id=\"T_91092_row0_col1\" class=\"data row0 col1\" >0.620336</td>\n",
       "      <td id=\"T_91092_row0_col2\" class=\"data row0 col2\" >0.665918</td>\n",
       "      <td id=\"T_91092_row0_col3\" class=\"data row0 col3\" >0.642319</td>\n",
       "      <td id=\"T_91092_row0_col4\" class=\"data row0 col4\" >0.626909</td>\n",
       "    </tr>\n",
       "    <tr>\n",
       "      <th id=\"T_91092_level0_row1\" class=\"row_heading level0 row1\" >Naive Bayes</th>\n",
       "      <td id=\"T_91092_row1_col0\" class=\"data row1 col0\" >0.497995</td>\n",
       "      <td id=\"T_91092_row1_col1\" class=\"data row1 col1\" >0.577143</td>\n",
       "      <td id=\"T_91092_row1_col2\" class=\"data row1 col2\" >0.005674</td>\n",
       "      <td id=\"T_91092_row1_col3\" class=\"data row1 col3\" >0.011237</td>\n",
       "      <td id=\"T_91092_row1_col4\" class=\"data row1 col4\" >0.500735</td>\n",
       "    </tr>\n",
       "    <tr>\n",
       "      <th id=\"T_91092_level0_row2\" class=\"row_heading level0 row2\" >Árbol de Decisión</th>\n",
       "      <td id=\"T_91092_row2_col0\" class=\"data row2 col0\" >0.912727</td>\n",
       "      <td id=\"T_91092_row2_col1\" class=\"data row2 col1\" >0.903683</td>\n",
       "      <td id=\"T_91092_row2_col2\" class=\"data row2 col2\" >0.925004</td>\n",
       "      <td id=\"T_91092_row2_col3\" class=\"data row2 col3\" >0.914219</td>\n",
       "      <td id=\"T_91092_row2_col4\" class=\"data row2 col4\" >0.912658</td>\n",
       "    </tr>\n",
       "    <tr>\n",
       "      <th id=\"T_91092_level0_row3\" class=\"row_heading level0 row3\" >Random Forest</th>\n",
       "      <td id=\"T_91092_row3_col0\" class=\"data row3 col0\" >0.962492</td>\n",
       "      <td id=\"T_91092_row3_col1\" class=\"data row3 col1\" >0.965365</td>\n",
       "      <td id=\"T_91092_row3_col2\" class=\"data row3 col2\" >0.959834</td>\n",
       "      <td id=\"T_91092_row3_col3\" class=\"data row3 col3\" >0.962592</td>\n",
       "      <td id=\"T_91092_row3_col4\" class=\"data row3 col4\" >0.962507</td>\n",
       "    </tr>\n",
       "  </tbody>\n",
       "</table>\n"
      ],
      "text/plain": [
       "<pandas.io.formats.style.Styler at 0x7f10fc035bd0>"
      ]
     },
     "execution_count": 132,
     "metadata": {},
     "output_type": "execute_result"
    }
   ],
   "source": [
    "%%time\n",
    "X_train, X_test, y_train, y_test = feature_eng(tabla=data_under, \n",
    "                                               X=VARIABLES_INDEPENDIENTES,\n",
    "                                               Y=VARIABLE_DEPENDEINTE,\n",
    "                                               X_num=VARIABLES_INDEP_NUMERICAS ,\n",
    "                                               X_Cat=VARIABLES_INDEP_CATEGORICAS )\n",
    " \n",
    "automl_class = funcion_automl(X_train , y_train ,  y_test , X_test )\n",
    "resultado = automl_class.run_automl_models()\n",
    "resultado "
   ]
  },
  {
   "cell_type": "markdown",
   "id": "6b93e97e-ae88-4133-b6b1-bfa568b94a96",
   "metadata": {},
   "source": [
    "### Extraiga los datos de entrenamiento, test y validacion:\n",
    "\n",
    "En este caso, dividiremos nuestros datos en 80/10/10 para entrenamiento, test y validacion.\n",
    "\n",
    "https://www.oreilly.com/learning/repeatable-sampling-of-data-sets-in-bigquery-for-machine-learning\n",
    "\n",
    "Para el aprendizaje automático, desea un muestreo repetible de los datos que tiene en BigQuery. Para obtener los datos de validación: cambie el < 8 en la consulta anterior a = 8, y para los datos de test, cámbielo a = 9. De esta manera, obtiene el 10 % de las muestras en validación y el 10 % en test.\n",
    "\n",
    "`Nota BQML hace el proceso de submuestreo de test y entrenamiento por lo cual solo crearemos un dataset de test y entrenamiento y uno de validacion`"
   ]
  },
  {
   "cell_type": "markdown",
   "id": "30f68814-4c9d-4c9c-a14d-88f701e87084",
   "metadata": {},
   "source": [
    "### Training and test dataset"
   ]
  },
  {
   "cell_type": "code",
   "execution_count": 143,
   "id": "a7e3acbb-0b5e-43ea-bbb1-21dafed75b6d",
   "metadata": {},
   "outputs": [
    {
     "data": {
      "text/html": [
       "<div>\n",
       "<style scoped>\n",
       "    .dataframe tbody tr th:only-of-type {\n",
       "        vertical-align: middle;\n",
       "    }\n",
       "\n",
       "    .dataframe tbody tr th {\n",
       "        vertical-align: top;\n",
       "    }\n",
       "\n",
       "    .dataframe thead th {\n",
       "        text-align: right;\n",
       "    }\n",
       "</style>\n",
       "<table border=\"1\" class=\"dataframe\">\n",
       "  <thead>\n",
       "    <tr style=\"text-align: right;\">\n",
       "      <th></th>\n",
       "    </tr>\n",
       "  </thead>\n",
       "  <tbody>\n",
       "  </tbody>\n",
       "</table>\n",
       "</div>"
      ],
      "text/plain": [
       "Empty DataFrame\n",
       "Columns: []\n",
       "Index: []"
      ]
     },
     "execution_count": 143,
     "metadata": {},
     "output_type": "execute_result"
    }
   ],
   "source": [
    "TABLA_LIMPIA = 'fondo_epm_limpia'\n",
    "query = \"\"\"\n",
    "CREATE OR REPLACE VIEW `{}.{}.training_table`\n",
    "OPTIONS () AS\n",
    "\n",
    "SELECT *\n",
    "FROM `{}.{}.{}`\n",
    "WHERE\n",
    "  MOD(ABS(FARM_FINGERPRINT(CAST(IDENTIFICADOR_UNICO AS STRING))), 10) <= 8\n",
    " \n",
    "\"\"\".format(PROJECT, DATASET,PROJECT, DATASET,TABLA_LIMPIA )\n",
    "bq_client.query(query).to_dataframe()"
   ]
  },
  {
   "cell_type": "code",
   "execution_count": 165,
   "id": "905af20b-5041-4de6-8c0e-5ed4100d79fa",
   "metadata": {},
   "outputs": [],
   "source": [
    "query = \"\"\"\n",
    "SELECT *\n",
    "FROM `{}.{}.{}`\n",
    "WHERE\n",
    "  MOD(ABS(FARM_FINGERPRINT(CAST(IDENTIFICADOR_UNICO AS STRING))), 10) <= 8\n",
    "\"\"\".format(PROJECT, DATASET,TABLA_LIMPIA )\n",
    "train = bq_client.query(query).to_dataframe()"
   ]
  },
  {
   "cell_type": "markdown",
   "id": "40436c1f-8475-4cd0-9d2a-5c8787e5e65f",
   "metadata": {},
   "source": [
    "### Validation dataset"
   ]
  },
  {
   "cell_type": "code",
   "execution_count": 145,
   "id": "d4e7d6fd-bcfb-4680-a4fd-987417d66d2b",
   "metadata": {},
   "outputs": [
    {
     "data": {
      "text/html": [
       "<div>\n",
       "<style scoped>\n",
       "    .dataframe tbody tr th:only-of-type {\n",
       "        vertical-align: middle;\n",
       "    }\n",
       "\n",
       "    .dataframe tbody tr th {\n",
       "        vertical-align: top;\n",
       "    }\n",
       "\n",
       "    .dataframe thead th {\n",
       "        text-align: right;\n",
       "    }\n",
       "</style>\n",
       "<table border=\"1\" class=\"dataframe\">\n",
       "  <thead>\n",
       "    <tr style=\"text-align: right;\">\n",
       "      <th></th>\n",
       "    </tr>\n",
       "  </thead>\n",
       "  <tbody>\n",
       "  </tbody>\n",
       "</table>\n",
       "</div>"
      ],
      "text/plain": [
       "Empty DataFrame\n",
       "Columns: []\n",
       "Index: []"
      ]
     },
     "execution_count": 145,
     "metadata": {},
     "output_type": "execute_result"
    }
   ],
   "source": [
    "query = \"\"\"\n",
    "CREATE OR REPLACE VIEW `{}.{}.evaluation_table`\n",
    "OPTIONS () AS\n",
    "\n",
    "SELECT *\n",
    "FROM `{}.{}.fondo_epm_limpia`\n",
    "WHERE\n",
    "  MOD(ABS(FARM_FINGERPRINT(CAST(IDENTIFICADOR_UNICO AS STRING))), 10) = 9\n",
    " \n",
    "\"\"\".format(PROJECT, DATASET,PROJECT, DATASET )\n",
    "bq_client.query(query).to_dataframe()"
   ]
  },
  {
   "cell_type": "markdown",
   "id": "da3afe26-f577-42f2-bff5-410d209fd4e0",
   "metadata": {},
   "source": [
    "## Model Training\n",
    "\n",
    "Comenzaremos el entrenamiento del modelo utilizando el conjunto de datos público:\n",
    "\n",
    "La cláusula `CREATE MODEL` se usa para crear y entrenar el modelo llamado `logistic_model`.\n",
    "\n",
    "```\n",
    "`CREATE OR REPLACE MODEL`\n",
    "```\n",
    "\n",
    "Crea y entrena un modelo y reemplaza un modelo existente con el mismo nombre en el conjunto de datos especificado. Documentación [aquí](https://cloud.google.com/bigquery/docs/reference/standard-sql/bigqueryml-syntax-create)\n",
    "\n",
    "```\n",
    "`OPTIONS(model_type='logistic_reg', input_label_cols=['DESERTOR'])`\n",
    "```\n",
    "\n",
    "La cláusula indica que está creando un modelo de regresión logística. Esta opción crea un modelo de regresión logística o un modelo de regresión logística multiclase.\n",
    "Para los modelos de regresión logística, la columna de la etiqueta debe contener solo dos valores distintos. Cuando cree un modelo de regresión logística multiclase, especifique datos de entrenamiento que contengan más de dos etiquetas únicas.\n",
    "\n",
    "- **model_type:** logistic_reg crea un modelo de regresión logística o un modelo de regresión logística multiclase.\n",
    "\n",
    "- **auto_class_weights:** De forma predeterminada, los datos de entrenamiento utilizados para crear un modelo de regresión logística multiclase no están ponderados. Si las etiquetas en los datos de entrenamiento están desequilibradas, el modelo puede aprender a predecir la clase de etiquetas más popular en mayor medida, lo que puede no ser deseable. Los pesos de clase se pueden usar para equilibrar las etiquetas de clase y se pueden usar para regresiones logísticas y logísticas multiclase. Si se establece en verdadero, los pesos de cada clase se calculan en proporción inversa a la frecuencia de esa clase. Para equilibrar cada clase, use la siguiente fórmula: TOTAL_INPUT_ROWS / (INPUT_ROWS_FOR_CLASS_N * NUMBER_OF_UNIQUE_CLASSES)\n",
    "\n",
    "- **data_split_method:** El método para dividir los datos de entrada en conjuntos de entrenamiento y evaluación. Los datos de entrenamiento se utilizan para entrenar el modelo. Los datos de evaluación se utilizan para evitar el sobreajuste a través de una parada anticipada. El valor predeterminado es auto_split.\n",
    "\n",
    "- **input_label_cols:** Los nombres de las columnas de etiquetas en los datos de entrenamiento. input_label_cols acepta una matriz de cadenas, pero solo se admite un elemento de matriz para los modelos linear_reg y logistic_reg. Si no se especifica input_label_cols, se utiliza la columna denominada \"etiqueta\" en los datos de entrenamiento. Si ninguno existe, la consulta falla.\n",
    "\n",
    "- **max_iterations:** El número máximo de iteraciones de entrenamiento (pasos). El valor predeterminado es 20.\n",
    "\n",
    "\n",
    "Cuando utiliza una instrucción `CREATE MODEL`, el tamaño del modelo debe ser de 90 MB o menos o la consulta falla. Por lo general, si todas las variables categóricas son cadenas cortas, se admite una cardinalidad total de características (dimensión del modelo) de 5 a 10 millones. La dimensionalidad depende de la cardinalidad y la longitud de las variables de cadena.\n",
    "\n",
    "Cuando utiliza una instrucción `CREATE MODEL`, la columna de la etiqueta no puede contener valores NULL. Si la columna de la etiqueta contiene valores NULL, la consulta falla."
   ]
  },
  {
   "cell_type": "code",
   "execution_count": 178,
   "id": "89658628-b84d-48fc-94f4-5861798cff71",
   "metadata": {},
   "outputs": [],
   "source": [
    "class_0 = train[train['DESERTOR'] == 0]\n",
    "class_1 = train[train['DESERTOR'] == 1]\n",
    "TOTAL_INPUT_ROWS =train.shape[0]\n",
    "INPUT_ROWS_FOR_CLASS_0 = class_0.shape[0]\n",
    "INPUT_ROWS_FOR_CLASS_1 = class_1.shape[0]\n",
    "NUMBER_OF_UNIQUE_CLASSES = 2\n"
   ]
  },
  {
   "cell_type": "code",
   "execution_count": 180,
   "id": "ce1ad35d-83d9-401e-b608-c9eec5ae01a6",
   "metadata": {},
   "outputs": [
    {
     "data": {
      "text/plain": [
       "\"[STRUCT('1', 2.5721794468887493),STRUCT('0', 0.6206459220389237)]\""
      ]
     },
     "execution_count": 180,
     "metadata": {},
     "output_type": "execute_result"
    }
   ],
   "source": [
    "CLASS_WEIGHTS  = \"[STRUCT('1', {}),STRUCT('0', {})]\" .format(TOTAL_INPUT_ROWS / (INPUT_ROWS_FOR_CLASS_1 * NUMBER_OF_UNIQUE_CLASSES),\n",
    "                                                             TOTAL_INPUT_ROWS / (INPUT_ROWS_FOR_CLASS_0 * NUMBER_OF_UNIQUE_CLASSES))\n",
    "CLASS_WEIGHTS"
   ]
  },
  {
   "cell_type": "code",
   "execution_count": 201,
   "id": "b77bb94e-18c4-4602-90ac-62524d45279d",
   "metadata": {},
   "outputs": [
    {
     "data": {
      "text/html": [
       "<div>\n",
       "<style scoped>\n",
       "    .dataframe tbody tr th:only-of-type {\n",
       "        vertical-align: middle;\n",
       "    }\n",
       "\n",
       "    .dataframe tbody tr th {\n",
       "        vertical-align: top;\n",
       "    }\n",
       "\n",
       "    .dataframe thead th {\n",
       "        text-align: right;\n",
       "    }\n",
       "</style>\n",
       "<table border=\"1\" class=\"dataframe\">\n",
       "  <thead>\n",
       "    <tr style=\"text-align: right;\">\n",
       "      <th></th>\n",
       "    </tr>\n",
       "  </thead>\n",
       "  <tbody>\n",
       "  </tbody>\n",
       "</table>\n",
       "</div>"
      ],
      "text/plain": [
       "Empty DataFrame\n",
       "Columns: []\n",
       "Index: []"
      ]
     },
     "execution_count": 201,
     "metadata": {},
     "output_type": "execute_result"
    }
   ],
   "source": [
    "VARIABLE_DEPENDEINTE = 'DESERTOR'\n",
    "\n",
    "# Train a BQML model\n",
    "train_query = \"\"\"\n",
    "CREATE OR REPLACE MODEL `{}.{}.logistic_model`\n",
    "  OPTIONS (\n",
    "      model_type='logistic_reg',\n",
    "      auto_class_weights=false,\n",
    "      CLASS_WEIGHTS= {} , \n",
    "      data_split_method='no_split',\n",
    "      input_label_cols=['{}'],\n",
    "      max_iterations=15) AS\n",
    "  SELECT     *\n",
    "FROM `{}.{}.evaluation_table`\n",
    "\"\"\".format(PROJECT, DATASET, CLASS_WEIGHTS, VARIABLE_DEPENDEINTE,PROJECT , DATASET)\n",
    "\n",
    "bq_client.query(train_query).to_dataframe()\n"
   ]
  },
  {
   "cell_type": "markdown",
   "id": "e7f7ab08-8d10-4a77-a463-60b873aab387",
   "metadata": {},
   "source": [
    "### Información del modelo\n",
    "\n",
    "Un algoritmo de ML construye un modelo examinando muchos ejemplos e intentando encontrar un modelo que minimice la pérdida. Este proceso se denomina minimización empírica del riesgo.\n",
    "\n",
    "La pérdida es la penalización por una mala predicción, un número que indica qué tan mala fue la predicción del modelo en un solo ejemplo. Si la predicción del modelo es perfecta, la pérdida es cero; de lo contrario, la pérdida es mayor. El objetivo de entrenar un modelo es encontrar un conjunto de ponderaciones y sesgos que tengan una pérdida baja, en promedio, en todos los ejemplos."
   ]
  },
  {
   "cell_type": "code",
   "execution_count": null,
   "id": "09493d54-bda0-4c93-9ff0-f65aac9c8f2f",
   "metadata": {},
   "outputs": [],
   "source": [
    "training_info = \"\"\"\n",
    "SELECT\n",
    "  training_run,\n",
    "  iteration,\n",
    "  loss,\n",
    "  eval_loss,\n",
    "  duration_ms,\n",
    "  learning_rate\n",
    "FROM\n",
    "  ML.TRAINING_INFO(MODEL `{}.{}.logistic_model`)\n",
    "ORDER BY iteration ASC\n",
    "\"\"\".format(PROJECT, DATASET)\n",
    "bq_client.query(training_info).to_dataframe()"
   ]
  },
  {
   "cell_type": "markdown",
   "id": "42dd0661-a729-4ca0-bb98-2843701a1cd8",
   "metadata": {},
   "source": [
    "## Model evaluation"
   ]
  },
  {
   "cell_type": "code",
   "execution_count": null,
   "id": "09024454-3c0e-4968-983e-a4dc72b8186c",
   "metadata": {},
   "outputs": [],
   "source": [
    "query_evaluate = \"\"\"\n",
    "SELECT \n",
    "  precision,\n",
    "  recall,\n",
    "  accuracy,\n",
    "  f1_score,\n",
    "  log_loss,\n",
    "  roc_auc\n",
    "FROM ML.EVALUATE (MODEL `{}.{}.logistic_model`, \n",
    "  (\n",
    "  SELECT     *\n",
    "FROM `{}.{}.evaluation_table`\n",
    "    )\n",
    "    )\n",
    "\"\"\".format(PROJECT, DATASET, PROJECT, DATASET)\n",
    "evaluation_job = bq_client.query(query_evaluate).to_dataframe()\n",
    "evaluation_job"
   ]
  },
  {
   "cell_type": "markdown",
   "id": "5fa61108-7c74-4c29-bcb8-0424b15700e0",
   "metadata": {
    "tags": []
   },
   "source": [
    "### Resultados del modelo\n",
    "\n",
    "Al examinar la precisión de la ROC (roc_auc) impresa durante la evaluación, debería ver que su modelo finalmente aprendió a predecir el nivel de desertores con una precisión de alrededor del 100 %. ¿Puedes mejorarlo?, ¿Es confiable este modelo?\n",
    "\n",
    "### ROC \n",
    "\n",
    "El output ML.ROC_CURVE [function](https://cloud.google.com/bigquery/docs/reference/standard-sql/bigqueryml-syntax-roc) incluye varias filas con métricas para diferentes valores de umbral para el modelo. Las métricas incluyen:\n",
    "\n",
    "- threshold\n",
    "- recall\n",
    "- false_positive_rate\n",
    "- true_positives\n",
    "- false_positives\n",
    "- true_negatives\n",
    "- false_negatives\n",
    "\n",
    "Más información sobre estas métricas [here](https://en.wikipedia.org/wiki/Precision_and_recall).\n"
   ]
  },
  {
   "cell_type": "code",
   "execution_count": null,
   "id": "6f94df5c-aa29-45aa-b1f0-4a3acee3c6b3",
   "metadata": {},
   "outputs": [],
   "source": [
    "# Perform model evaluation\n",
    "query_roc_curve = \"\"\"\n",
    "SELECT\n",
    "  threshold,\n",
    "  recall,\n",
    "  false_positive_rate,\n",
    "  true_positives,\n",
    "  false_positives,\n",
    "  true_negatives,\n",
    "  false_negatives\n",
    "FROM\n",
    "  ML.ROC_CURVE(MODEL `{}.{}.logistic_model`, \n",
    "  (\n",
    "  SELECT     *\n",
    "FROM `{}.{}.evaluation_table`\n",
    "    )\n",
    "    )\n",
    "\"\"\".format(PROJECT, DATASET, PROJECT, DATASET)\n",
    "roc_curve_job = bq_client.query(query_roc_curve).to_dataframe()\n",
    "roc_curve_job"
   ]
  },
  {
   "cell_type": "markdown",
   "id": "0e557bb1-9914-47b0-95ab-ed97cd7a08a3",
   "metadata": {},
   "source": [
    "### Visualize Model history"
   ]
  },
  {
   "cell_type": "code",
   "execution_count": null,
   "id": "2e35c2f2-a97f-409f-a0cc-256e5d3a6a9b",
   "metadata": {},
   "outputs": [],
   "source": [
    "# Visualize History for Accuracy.\n",
    "plt.title('BigQuery ML Model accuracy')\n",
    "plt.xlim([0.0, 1.0])\n",
    "plt.ylim([0.0, 1.02])\n",
    "plt.xlabel('False Positive Rate')\n",
    "plt.ylabel('True Positive Rate')\n",
    "fpr = roc_curve_job['false_positive_rate']\n",
    "tpr = roc_curve_job['recall']\n",
    "plt.plot(fpr, tpr, color='darkorange')\n",
    "plt.plot([0, 1], [0, 1], color='navy', linestyle='--')\n",
    "plt.show()"
   ]
  },
  {
   "cell_type": "markdown",
   "id": "d99312c9-0dd8-496a-85e9-855baaff4a53",
   "metadata": {
    "tags": []
   },
   "source": [
    "## Modelo de predicciones\n",
    "\n",
    "#### Generar predicciones\n",
    "\n",
    "Ahora usará su modelo para predecir resultados. La siguiente consulta usa ML.PREDICT. La consulta devuelve estas columnas:\n",
    "\n",
    "  -  Identificador Unico de las personas\n",
    "  -  DESERTOR - refiere al valor real\n",
    "  - predicted_DESERTOR - refiere al valor de prediccion que define si es o no un desertor\n",
    "  - incluye un diccionario con las probabilidades\n",
    "\n",
    "**Nota:** Normalmente para la predicción, su etiqueta estará vacía, en este ejemplo\n",
    "  lo usamos para poder comparar el resultado del modelo con la etiqueta esperada."
   ]
  },
  {
   "cell_type": "code",
   "execution_count": null,
   "id": "51ccebee-0335-426f-b4b0-af8194b8bb34",
   "metadata": {},
   "outputs": [],
   "source": [
    "query_prediction = \"\"\"\n",
    "SELECT\n",
    "  IDENTIFICADOR_UNICO,\n",
    "  DESERTOR,\n",
    "  predicted_DESERTOR, \n",
    "  predicted_DESERTOR_probs\n",
    "FROM\n",
    "  ML.PREDICT (MODEL `{}.{}.logistic_model`, \n",
    "  (\n",
    "  SELECT     *\n",
    "FROM `{}.{}.evaluation_table`\n",
    "    )\n",
    "    )\n",
    "\"\"\".format(PROJECT, DATASET, PROJECT, DATASET)\n",
    "predictions = bq_client.query(query_prediction).to_dataframe()"
   ]
  },
  {
   "cell_type": "code",
   "execution_count": 198,
   "id": "46a89515-4451-4695-9c87-83f42ef32209",
   "metadata": {},
   "outputs": [
    {
     "data": {
      "text/html": [
       "<div>\n",
       "<style scoped>\n",
       "    .dataframe tbody tr th:only-of-type {\n",
       "        vertical-align: middle;\n",
       "    }\n",
       "\n",
       "    .dataframe tbody tr th {\n",
       "        vertical-align: top;\n",
       "    }\n",
       "\n",
       "    .dataframe thead th {\n",
       "        text-align: right;\n",
       "    }\n",
       "</style>\n",
       "<table border=\"1\" class=\"dataframe\">\n",
       "  <thead>\n",
       "    <tr style=\"text-align: right;\">\n",
       "      <th></th>\n",
       "      <th>IDENTIFICADOR_UNICO</th>\n",
       "      <th>DESERTOR</th>\n",
       "      <th>predicted_DESERTOR</th>\n",
       "      <th>predicted_DESERTOR_probs</th>\n",
       "    </tr>\n",
       "  </thead>\n",
       "  <tbody>\n",
       "    <tr>\n",
       "      <th>0</th>\n",
       "      <td>10000854542019-1</td>\n",
       "      <td>0</td>\n",
       "      <td>0</td>\n",
       "      <td>[{'label': 1, 'prob': 9.978785545017936e-05}, ...</td>\n",
       "    </tr>\n",
       "    <tr>\n",
       "      <th>1</th>\n",
       "      <td>10002043002019-1</td>\n",
       "      <td>0</td>\n",
       "      <td>0</td>\n",
       "      <td>[{'label': 1, 'prob': 0.00027836745091049483},...</td>\n",
       "    </tr>\n",
       "    <tr>\n",
       "      <th>2</th>\n",
       "      <td>10003939072019-1</td>\n",
       "      <td>0</td>\n",
       "      <td>0</td>\n",
       "      <td>[{'label': 1, 'prob': 0.00021425877276367406},...</td>\n",
       "    </tr>\n",
       "    <tr>\n",
       "      <th>3</th>\n",
       "      <td>10004088512013-1</td>\n",
       "      <td>0</td>\n",
       "      <td>0</td>\n",
       "      <td>[{'label': 1, 'prob': 9.87621542988611e-05}, {...</td>\n",
       "    </tr>\n",
       "    <tr>\n",
       "      <th>4</th>\n",
       "      <td>10004092192021-1</td>\n",
       "      <td>0</td>\n",
       "      <td>0</td>\n",
       "      <td>[{'label': 1, 'prob': 3.948934734784517e-05}, ...</td>\n",
       "    </tr>\n",
       "    <tr>\n",
       "      <th>...</th>\n",
       "      <td>...</td>\n",
       "      <td>...</td>\n",
       "      <td>...</td>\n",
       "      <td>...</td>\n",
       "    </tr>\n",
       "    <tr>\n",
       "      <th>36357</th>\n",
       "      <td>960422178482014-2</td>\n",
       "      <td>1</td>\n",
       "      <td>1</td>\n",
       "      <td>[{'label': 1, 'prob': 0.9998080254798568}, {'l...</td>\n",
       "    </tr>\n",
       "    <tr>\n",
       "      <th>36358</th>\n",
       "      <td>960516167472015-1</td>\n",
       "      <td>1</td>\n",
       "      <td>1</td>\n",
       "      <td>[{'label': 1, 'prob': 0.9997872604937685}, {'l...</td>\n",
       "    </tr>\n",
       "    <tr>\n",
       "      <th>36359</th>\n",
       "      <td>961211085582015-2</td>\n",
       "      <td>1</td>\n",
       "      <td>1</td>\n",
       "      <td>[{'label': 1, 'prob': 0.9997754596504328}, {'l...</td>\n",
       "    </tr>\n",
       "    <tr>\n",
       "      <th>36360</th>\n",
       "      <td>970311140832015-1</td>\n",
       "      <td>1</td>\n",
       "      <td>1</td>\n",
       "      <td>[{'label': 1, 'prob': 0.9997122550747218}, {'l...</td>\n",
       "    </tr>\n",
       "    <tr>\n",
       "      <th>36361</th>\n",
       "      <td>970721152642017-2</td>\n",
       "      <td>1</td>\n",
       "      <td>1</td>\n",
       "      <td>[{'label': 1, 'prob': 0.9997888059959472}, {'l...</td>\n",
       "    </tr>\n",
       "  </tbody>\n",
       "</table>\n",
       "<p>36362 rows × 4 columns</p>\n",
       "</div>"
      ],
      "text/plain": [
       "      IDENTIFICADOR_UNICO  DESERTOR  predicted_DESERTOR  \\\n",
       "0        10000854542019-1         0                   0   \n",
       "1        10002043002019-1         0                   0   \n",
       "2        10003939072019-1         0                   0   \n",
       "3        10004088512013-1         0                   0   \n",
       "4        10004092192021-1         0                   0   \n",
       "...                   ...       ...                 ...   \n",
       "36357   960422178482014-2         1                   1   \n",
       "36358   960516167472015-1         1                   1   \n",
       "36359   961211085582015-2         1                   1   \n",
       "36360   970311140832015-1         1                   1   \n",
       "36361   970721152642017-2         1                   1   \n",
       "\n",
       "                                predicted_DESERTOR_probs  \n",
       "0      [{'label': 1, 'prob': 9.978785545017936e-05}, ...  \n",
       "1      [{'label': 1, 'prob': 0.00027836745091049483},...  \n",
       "2      [{'label': 1, 'prob': 0.00021425877276367406},...  \n",
       "3      [{'label': 1, 'prob': 9.87621542988611e-05}, {...  \n",
       "4      [{'label': 1, 'prob': 3.948934734784517e-05}, ...  \n",
       "...                                                  ...  \n",
       "36357  [{'label': 1, 'prob': 0.9998080254798568}, {'l...  \n",
       "36358  [{'label': 1, 'prob': 0.9997872604937685}, {'l...  \n",
       "36359  [{'label': 1, 'prob': 0.9997754596504328}, {'l...  \n",
       "36360  [{'label': 1, 'prob': 0.9997122550747218}, {'l...  \n",
       "36361  [{'label': 1, 'prob': 0.9997888059959472}, {'l...  \n",
       "\n",
       "[36362 rows x 4 columns]"
      ]
     },
     "execution_count": 198,
     "metadata": {},
     "output_type": "execute_result"
    }
   ],
   "source": [
    "predictions"
   ]
  },
  {
   "cell_type": "markdown",
   "id": "6ab9bdb9-9a97-4788-a19f-207661d37be4",
   "metadata": {},
   "source": [
    "**Count the number of correct predictions:**"
   ]
  },
  {
   "cell_type": "code",
   "execution_count": 200,
   "id": "94949963-771f-4683-b8cc-5465c67cd45e",
   "metadata": {},
   "outputs": [
    {
     "data": {
      "text/html": [
       "<div>\n",
       "<style scoped>\n",
       "    .dataframe tbody tr th:only-of-type {\n",
       "        vertical-align: middle;\n",
       "    }\n",
       "\n",
       "    .dataframe tbody tr th {\n",
       "        vertical-align: top;\n",
       "    }\n",
       "\n",
       "    .dataframe thead th {\n",
       "        text-align: right;\n",
       "    }\n",
       "</style>\n",
       "<table border=\"1\" class=\"dataframe\">\n",
       "  <thead>\n",
       "    <tr style=\"text-align: right;\">\n",
       "      <th></th>\n",
       "      <th>DESERTOR</th>\n",
       "      <th>predicted_DESERTOR</th>\n",
       "      <th>TOTAL</th>\n",
       "    </tr>\n",
       "  </thead>\n",
       "  <tbody>\n",
       "    <tr>\n",
       "      <th>0</th>\n",
       "      <td>1</td>\n",
       "      <td>1</td>\n",
       "      <td>7172</td>\n",
       "    </tr>\n",
       "    <tr>\n",
       "      <th>1</th>\n",
       "      <td>0</td>\n",
       "      <td>0</td>\n",
       "      <td>29190</td>\n",
       "    </tr>\n",
       "  </tbody>\n",
       "</table>\n",
       "</div>"
      ],
      "text/plain": [
       "   DESERTOR  predicted_DESERTOR  TOTAL\n",
       "0         1                   1   7172\n",
       "1         0                   0  29190"
      ]
     },
     "execution_count": 200,
     "metadata": {},
     "output_type": "execute_result"
    }
   ],
   "source": [
    "query_conteo = \"\"\"\n",
    "SELECT\n",
    "\n",
    "DESERTOR,\n",
    " predicted_DESERTOR, \n",
    " count(*) TOTAL\n",
    "FROM\n",
    "  ML.PREDICT (MODEL `{}.{}.logistic_model`, \n",
    "  (\n",
    "  SELECT     *\n",
    "FROM `{}.{}.evaluation_table`\n",
    "    )\n",
    "    )\n",
    "    GROUP BY 1,2\n",
    "\"\"\".format(PROJECT, DATASET, PROJECT, DATASET)\n",
    "bq_client.query(query_conteo).to_dataframe()"
   ]
  },
  {
   "cell_type": "code",
   "execution_count": null,
   "id": "213ce0c0-d377-42c7-80f1-1b754384c096",
   "metadata": {},
   "outputs": [],
   "source": []
  }
 ],
 "metadata": {
  "environment": {
   "kernel": "python3",
   "name": "tf2-gpu.2-6.m93",
   "type": "gcloud",
   "uri": "gcr.io/deeplearning-platform-release/tf2-gpu.2-6:m93"
  },
  "kernelspec": {
   "display_name": "Python 3",
   "language": "python",
   "name": "python3"
  },
  "language_info": {
   "codemirror_mode": {
    "name": "ipython",
    "version": 3
   },
   "file_extension": ".py",
   "mimetype": "text/x-python",
   "name": "python",
   "nbconvert_exporter": "python",
   "pygments_lexer": "ipython3",
   "version": "3.7.12"
  }
 },
 "nbformat": 4,
 "nbformat_minor": 5
}
