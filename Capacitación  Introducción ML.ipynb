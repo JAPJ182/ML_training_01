{
 "cells": [
  {
   "cell_type": "markdown",
   "id": "ae639a22-ee4d-48fb-af19-9d83b347228f",
   "metadata": {},
   "source": [
    "# Clase 2. Modelos de Clasificación "
   ]
  },
  {
   "cell_type": "markdown",
   "id": "1558a80e-759e-4e54-9ba7-8c0404091dae",
   "metadata": {},
   "source": [
    "##  Lectura de datos en Python y Feature Engineering "
   ]
  },
  {
   "cell_type": "code",
   "execution_count": 36,
   "id": "980c02ba-0303-4635-a089-d7359d8759b3",
   "metadata": {
    "tags": []
   },
   "outputs": [
    {
     "name": "stdout",
     "output_type": "stream",
     "text": [
      "el folder actual es el señalado\n"
     ]
    }
   ],
   "source": [
    "try:\n",
    "    import os\n",
    "    os.chdir('ML_training_01/')\n",
    "except:\n",
    "    print(\"el folder actual es el señalado\")"
   ]
  },
  {
   "cell_type": "code",
   "execution_count": 37,
   "id": "9ef8e84f-f6d9-40bc-b667-2bdb85ff9b34",
   "metadata": {},
   "outputs": [
    {
     "name": "stdout",
     "output_type": "stream",
     "text": [
      "'Capacitacion ML Bigquery.ipynb'\t      Untitled.ipynb\n",
      "'Capacitación  Introducción ML-Copy1.ipynb'   data\n",
      "'Capacitación  Introducción ML.ipynb'\t      functions\n"
     ]
    }
   ],
   "source": [
    "!ls"
   ]
  },
  {
   "cell_type": "markdown",
   "id": "6f404310-5ac7-4a12-8980-a37801a0bc10",
   "metadata": {},
   "source": [
    "Los Archivos en sistemas de ingrados de informacion, generalmente no permiten titulos de columnas con caracteres especiales, tildes o espacios. La siguiente clase permite leer de forma normalizada los archivos. Inicialmente leemos una clase hecha para esto, en seguida leemos el archivo, al usar la funcion \"load_simple_file_class\" obtenemos la tabla,  el  schema_ apropiado para cargar en Bigquery, y el nombre de las columnas"
   ]
  },
  {
   "cell_type": "code",
   "execution_count": 4,
   "id": "a6664eed-4fde-48f9-a78a-b37089e8cd3a",
   "metadata": {},
   "outputs": [],
   "source": [
    "#!git clone https://github.com/JAPJ182/ML_training_01.git"
   ]
  },
  {
   "cell_type": "code",
   "execution_count": 38,
   "id": "fed02fe8-3848-44d8-828f-63794f9619bc",
   "metadata": {},
   "outputs": [],
   "source": [
    "execfile(\"functions/ML_train_functions_gcp.py\")"
   ]
  },
  {
   "cell_type": "code",
   "execution_count": 39,
   "id": "50711689-3958-4c2d-8b7f-f1a567f60c47",
   "metadata": {},
   "outputs": [
    {
     "name": "stdout",
     "output_type": "stream",
     "text": [
      ",ID_USER,genero,monto,fecha,hora,dispositivo,establecimiento,ciudad,tipo_tc,linea_tc,interes_tc,status_txn,is_prime,dcto,cashback,fraude\n"
     ]
    }
   ],
   "source": [
    "%%bash\n",
    "head -1 data/fraude.csv"
   ]
  },
  {
   "cell_type": "code",
   "execution_count": 40,
   "id": "80ee2d72-e271-4475-8f7b-d11cfb4f487c",
   "metadata": {
    "tags": []
   },
   "outputs": [],
   "source": [
    "datos = load_simple_file_class(path = \"data/fraude.csv\" )"
   ]
  },
  {
   "cell_type": "markdown",
   "id": "0e29ecb0-d034-4d40-85e9-703d16288be6",
   "metadata": {},
   "source": [
    "### Lectura de datos"
   ]
  },
  {
   "cell_type": "code",
   "execution_count": 41,
   "id": "645a3f20-aa48-4255-9a93-cb40c89d2d74",
   "metadata": {
    "tags": []
   },
   "outputs": [
    {
     "name": "stdout",
     "output_type": "stream",
     "text": [
      "esquema creado correctamente\n"
     ]
    }
   ],
   "source": [
    "data = datos.read_table()[0]"
   ]
  },
  {
   "cell_type": "markdown",
   "id": "de95679c-f2a6-433d-ad0b-0be8e7d5937b",
   "metadata": {},
   "source": [
    "### Transformaciones simples"
   ]
  },
  {
   "cell_type": "code",
   "execution_count": 42,
   "id": "344ae8b7-4947-4423-a460-ce3291120adc",
   "metadata": {},
   "outputs": [],
   "source": [
    "import pandas as pd\n",
    "import numpy as np\n",
    "import matplotlib.pyplot as plt\n",
    "\n",
    "data['FECHA'] = pd.to_datetime(data['FECHA'])\n",
    "data['DAYOFWEEK'] = data['FECHA'].dt.dayofweek\n",
    "data['MONTH'] = data['FECHA'].dt.month\n",
    "data['FRAUDE'] =   np.where(data['FRAUDE']==True, 1,0)"
   ]
  },
  {
   "cell_type": "code",
   "execution_count": 44,
   "id": "8b0e75f0-bd35-477f-9b87-45d2c763fded",
   "metadata": {
    "tags": []
   },
   "outputs": [
    {
     "data": {
      "text/plain": [
       "[Text(0, 0, 'No fraude'), Text(1, 0, 'fraude')]"
      ]
     },
     "execution_count": 44,
     "metadata": {},
     "output_type": "execute_result"
    },
    {
     "data": {
      "image/png": "[encoded data removed]",
      "text/plain": [
       "<Figure size 432x288 with 1 Axes>"
      ]
     },
     "metadata": {
      "needs_background": "light"
     },
     "output_type": "display_data"
    }
   ],
   "source": [
    "import seaborn as sns\n",
    "# visualize the target variable\n",
    "g = sns.countplot(data['FRAUDE'])\n",
    "g.set_xticklabels(['No fraude','fraude'])"
   ]
  },
  {
   "cell_type": "markdown",
   "id": "4121a656-a2e3-4bdb-90b7-efc199d34281",
   "metadata": {
    "tags": []
   },
   "source": [
    "## Under-Sampling y Over-Sampling"
   ]
  },
  {
   "cell_type": "code",
   "execution_count": 45,
   "id": "40881e46-0cf9-4285-a4b8-82d061d8e2a2",
   "metadata": {},
   "outputs": [
    {
     "name": "stdout",
     "output_type": "stream",
     "text": [
      "class 0: (26165, 19)\n",
      "class 1: (810, 19)\n"
     ]
    }
   ],
   "source": [
    "class_count_0, class_count_1 = data['FRAUDE'].value_counts()\n",
    "# Separate class\n",
    "class_0 = data[data['FRAUDE'] == 0]\n",
    "class_1 = data[data['FRAUDE'] == 1]\n",
    " # print the shape of the class\n",
    "print('class 0:', class_0.shape)\n",
    "print('class 1:', class_1.shape)"
   ]
  },
  {
   "cell_type": "code",
   "execution_count": 47,
   "id": "e20082d5-9630-43fb-8653-e4461caf703b",
   "metadata": {},
   "outputs": [
    {
     "data": {
      "text/plain": [
       "0.030027803521779424"
      ]
     },
     "execution_count": 47,
     "metadata": {},
     "output_type": "execute_result"
    }
   ],
   "source": [
    "810 / (810 +26165)"
   ]
  },
  {
   "cell_type": "markdown",
   "id": "bb34e2bd-fc1e-4dd2-a396-01573eff45e3",
   "metadata": {},
   "source": [
    "#### Under-sampling"
   ]
  },
  {
   "cell_type": "code",
   "execution_count": 48,
   "id": "f33b22f8-7630-4eb3-8e1a-ea915560d2fb",
   "metadata": {},
   "outputs": [
    {
     "data": {
      "text/plain": [
       "[Text(0, 0, 'No fraude'), Text(1, 0, 'fraude')]"
      ]
     },
     "execution_count": 48,
     "metadata": {},
     "output_type": "execute_result"
    },
    {
     "data": {
      "image/png": "[encoded data removed]",
      "text/plain": [
       "<Figure size 432x288 with 1 Axes>"
      ]
     },
     "metadata": {
      "needs_background": "light"
     },
     "output_type": "display_data"
    }
   ],
   "source": [
    "class_0_under = class_0.sample(class_count_1)\n",
    "data_under = pd.concat([class_0_under, class_1], axis=0)\n",
    "sns.countplot(data_under['FRAUDE']).set_xticklabels(['No fraude','fraude'])"
   ]
  },
  {
   "cell_type": "markdown",
   "id": "27f51912-74c4-476a-a762-30b877d314e3",
   "metadata": {},
   "source": [
    "#### Over-sampling"
   ]
  },
  {
   "cell_type": "code",
   "execution_count": 49,
   "id": "42b11bfb-2a2d-4ffb-a0f5-e92caaa8d633",
   "metadata": {},
   "outputs": [
    {
     "data": {
      "text/plain": [
       "[Text(0, 0, 'No fraude'), Text(1, 0, 'fraude')]"
      ]
     },
     "execution_count": 49,
     "metadata": {},
     "output_type": "execute_result"
    },
    {
     "data": {
      "image/png": "[encoded data removed]",
      "text/plain": [
       "<Figure size 432x288 with 1 Axes>"
      ]
     },
     "metadata": {
      "needs_background": "light"
     },
     "output_type": "display_data"
    }
   ],
   "source": [
    "class_1_over = class_1.sample(class_count_0, replace=True)\n",
    "data_over = pd.concat([class_1_over, class_0], axis=0)\n",
    "sns.countplot(data_over['FRAUDE']).set_xticklabels(['No fraude','fraude'])"
   ]
  },
  {
   "cell_type": "markdown",
   "id": "b3609213-9164-41a8-8b9e-bcc12dc580dd",
   "metadata": {},
   "source": [
    "### Transformaciones"
   ]
  },
  {
   "cell_type": "code",
   "execution_count": 81,
   "id": "75b9c937-1d2c-48e1-a448-dab9502ec45b",
   "metadata": {},
   "outputs": [],
   "source": [
    "VARIABLES_INDEPENDIENTES= ['GENERO', 'MONTO', 'DAYOFWEEK','MONTH' , 'HORA',  \n",
    "        'ESTABLECIMIENTO', 'CIUDAD', 'TIPOTC', 'LINEATC', 'INTERESTC',\n",
    "          'STATUSTXN', 'ISPRIME', 'DCTO', 'CASHBACK']\n",
    "\n",
    "VARIABLE_DEPENDEINTE = 'FRAUDE'\n",
    "\n",
    "VARIABLES_INDEP_NUMERICAS = ['MONTO', 'DCTO', 'CASHBACK' , 'DAYOFWEEK','MONTH' , 'HORA' ]\n",
    "\n",
    "VARIABLES_INDEP_CATEGORICAS = [ 'GENERO',   'ESTABLECIMIENTO', 'CIUDAD', \n",
    "                               'TIPOTC', 'LINEATC', 'INTERESTC',\n",
    "                               'STATUSTXN', 'ISPRIME' ]\n",
    "\n",
    "X_train, X_test, y_train, y_test = feature_eng(tabla=data, \n",
    "                                               X=VARIABLES_INDEPENDIENTES,\n",
    "                                               Y=VARIABLE_DEPENDEINTE,\n",
    "                                               X_num=VARIABLES_INDEP_NUMERICAS ,\n",
    "                                               X_Cat=VARIABLES_INDEP_CATEGORICAS )\n",
    " "
   ]
  },
  {
   "cell_type": "markdown",
   "id": "2eb2591d-b493-4a3f-a0c0-0568d6102da4",
   "metadata": {},
   "source": [
    "### Metricas"
   ]
  },
  {
   "cell_type": "markdown",
   "id": "0fbb40d7-d422-47c6-b692-2c503d98e94c",
   "metadata": {},
   "source": [
    "![image.png](data:image/png;base64,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)"
   ]
  },
  {
   "cell_type": "markdown",
   "id": "86657a0c-c7a5-4ff1-914a-6da8b3870368",
   "metadata": {},
   "source": [
    "if interes == 1:\n",
    "    Preci = TN/(TN+T)\n"
   ]
  },
  {
   "cell_type": "markdown",
   "id": "3d468a02-eb71-479e-b229-b754f1118d90",
   "metadata": {},
   "source": [
    "## AutoML Classification"
   ]
  },
  {
   "cell_type": "code",
   "execution_count": 65,
   "id": "82bfd830-6c40-4258-ad93-a51d01390497",
   "metadata": {},
   "outputs": [],
   "source": [
    "from sklearn.linear_model import LogisticRegression\n",
    "from sklearn.metrics import confusion_matrix\n",
    "from sklearn.naive_bayes import GaussianNB\n",
    "from sklearn.svm import SVC\n",
    "from sklearn.tree import DecisionTreeClassifier\n",
    "from sklearn.ensemble import RandomForestClassifier\n",
    "from xgboost import XGBClassifier\n",
    "from sklearn.metrics import *"
   ]
  },
  {
   "cell_type": "code",
   "execution_count": 66,
   "id": "b23891bf-b523-4a9a-bff3-0cb00a1f0ea5",
   "metadata": {},
   "outputs": [],
   "source": [
    "execfile(\"functions/ML_train_functions_gcp.py\")"
   ]
  },
  {
   "cell_type": "markdown",
   "id": "5bd44653-5339-4f75-815b-ae386f8a778b",
   "metadata": {},
   "source": [
    "#### Normal data"
   ]
  },
  {
   "cell_type": "code",
   "execution_count": 67,
   "id": "57482b46-fc0d-42e6-b396-9e6b169e34f3",
   "metadata": {},
   "outputs": [
    {
     "name": "stdout",
     "output_type": "stream",
     "text": [
      "CPU times: user 49.1 s, sys: 1.79 s, total: 50.9 s\n",
      "Wall time: 15.9 s\n"
     ]
    },
    {
     "data": {
      "text/html": [
       "<style type=\"text/css\">\n",
       "#T_26d83_row2_col2, #T_26d83_row3_col0, #T_26d83_row3_col1, #T_26d83_row3_col2, #T_26d83_row3_col3, #T_26d83_row3_col4 {\n",
       "  background-color: yellow;\n",
       "}\n",
       "</style>\n",
       "<table id=\"T_26d83_\">\n",
       "  <thead>\n",
       "    <tr>\n",
       "      <th class=\"blank level0\" >&nbsp;</th>\n",
       "      <th class=\"col_heading level0 col0\" >Accuracy</th>\n",
       "      <th class=\"col_heading level0 col1\" >Precision</th>\n",
       "      <th class=\"col_heading level0 col2\" >Recall</th>\n",
       "      <th class=\"col_heading level0 col3\" >F1</th>\n",
       "      <th class=\"col_heading level0 col4\" >ROC-AUC</th>\n",
       "    </tr>\n",
       "    <tr>\n",
       "      <th class=\"index_name level0\" >Modelo</th>\n",
       "      <th class=\"blank col0\" >&nbsp;</th>\n",
       "      <th class=\"blank col1\" >&nbsp;</th>\n",
       "      <th class=\"blank col2\" >&nbsp;</th>\n",
       "      <th class=\"blank col3\" >&nbsp;</th>\n",
       "      <th class=\"blank col4\" >&nbsp;</th>\n",
       "    </tr>\n",
       "  </thead>\n",
       "  <tbody>\n",
       "    <tr>\n",
       "      <th id=\"T_26d83_level0_row0\" class=\"row_heading level0 row0\" >Regresion Logistica</th>\n",
       "      <td id=\"T_26d83_row0_col0\" class=\"data row0 col0\" >0.559810</td>\n",
       "      <td id=\"T_26d83_row0_col1\" class=\"data row0 col1\" >0.554869</td>\n",
       "      <td id=\"T_26d83_row0_col2\" class=\"data row0 col2\" >0.579862</td>\n",
       "      <td id=\"T_26d83_row0_col3\" class=\"data row0 col3\" >0.567090</td>\n",
       "      <td id=\"T_26d83_row0_col4\" class=\"data row0 col4\" >0.559922</td>\n",
       "    </tr>\n",
       "    <tr>\n",
       "      <th id=\"T_26d83_level0_row1\" class=\"row_heading level0 row1\" >Naive Bayes</th>\n",
       "      <td id=\"T_26d83_row1_col0\" class=\"data row1 col0\" >0.559963</td>\n",
       "      <td id=\"T_26d83_row1_col1\" class=\"data row1 col1\" >0.546541</td>\n",
       "      <td id=\"T_26d83_row1_col2\" class=\"data row1 col2\" >0.675173</td>\n",
       "      <td id=\"T_26d83_row1_col3\" class=\"data row1 col3\" >0.604085</td>\n",
       "      <td id=\"T_26d83_row1_col4\" class=\"data row1 col4\" >0.560603</td>\n",
       "    </tr>\n",
       "    <tr>\n",
       "      <th id=\"T_26d83_level0_row2\" class=\"row_heading level0 row2\" >Árbol de Decisión</th>\n",
       "      <td id=\"T_26d83_row2_col0\" class=\"data row2 col0\" >0.971872</td>\n",
       "      <td id=\"T_26d83_row2_col1\" class=\"data row2 col1\" >0.946457</td>\n",
       "      <td id=\"T_26d83_row2_col2\" class=\"data row2 col2\" >1.000000</td>\n",
       "      <td id=\"T_26d83_row2_col3\" class=\"data row2 col3\" >0.972492</td>\n",
       "      <td id=\"T_26d83_row2_col4\" class=\"data row2 col4\" >0.972028</td>\n",
       "    </tr>\n",
       "    <tr>\n",
       "      <th id=\"T_26d83_level0_row3\" class=\"row_heading level0 row3\" >Random Forest</th>\n",
       "      <td id=\"T_26d83_row3_col0\" class=\"data row3 col0\" >0.999694</td>\n",
       "      <td id=\"T_26d83_row3_col1\" class=\"data row3 col1\" >0.999385</td>\n",
       "      <td id=\"T_26d83_row3_col2\" class=\"data row3 col2\" >1.000000</td>\n",
       "      <td id=\"T_26d83_row3_col3\" class=\"data row3 col3\" >0.999693</td>\n",
       "      <td id=\"T_26d83_row3_col4\" class=\"data row3 col4\" >0.999696</td>\n",
       "    </tr>\n",
       "    <tr>\n",
       "      <th id=\"T_26d83_level0_row4\" class=\"row_heading level0 row4\" >eXtreme Gradient Boost</th>\n",
       "      <td id=\"T_26d83_row4_col0\" class=\"data row4 col0\" >0.934801</td>\n",
       "      <td id=\"T_26d83_row4_col1\" class=\"data row4 col1\" >0.897022</td>\n",
       "      <td id=\"T_26d83_row4_col2\" class=\"data row4 col2\" >0.981553</td>\n",
       "      <td id=\"T_26d83_row4_col3\" class=\"data row4 col3\" >0.937385</td>\n",
       "      <td id=\"T_26d83_row4_col4\" class=\"data row4 col4\" >0.935060</td>\n",
       "    </tr>\n",
       "  </tbody>\n",
       "</table>\n"
      ],
      "text/plain": [
       "<pandas.io.formats.style.Styler at 0x7f75fea06350>"
      ]
     },
     "execution_count": 67,
     "metadata": {},
     "output_type": "execute_result"
    }
   ],
   "source": [
    "%%time\n",
    "automl_class = funcion_automl(X_train , y_train ,  y_test , X_test )\n",
    "resultado = automl_class.run_automl_models()\n",
    "resultado  "
   ]
  },
  {
   "cell_type": "markdown",
   "id": "fd7dc188-5c48-45cc-ac91-1340336a255d",
   "metadata": {},
   "source": [
    "#### Over-sampling"
   ]
  },
  {
   "cell_type": "code",
   "execution_count": 62,
   "id": "f9aa9560-9ed4-455a-a60a-6f9d774f853a",
   "metadata": {},
   "outputs": [
    {
     "name": "stdout",
     "output_type": "stream",
     "text": [
      "CPU times: user 49.1 s, sys: 1.65 s, total: 50.7 s\n",
      "Wall time: 16 s\n"
     ]
    },
    {
     "data": {
      "text/html": [
       "<style type=\"text/css\">\n",
       "#T_f4259_row2_col2, #T_f4259_row3_col0, #T_f4259_row3_col1, #T_f4259_row3_col2, #T_f4259_row3_col3, #T_f4259_row3_col4 {\n",
       "  background-color: yellow;\n",
       "}\n",
       "</style>\n",
       "<table id=\"T_f4259_\">\n",
       "  <thead>\n",
       "    <tr>\n",
       "      <th class=\"blank level0\" >&nbsp;</th>\n",
       "      <th class=\"col_heading level0 col0\" >Accuracy</th>\n",
       "      <th class=\"col_heading level0 col1\" >Precision</th>\n",
       "      <th class=\"col_heading level0 col2\" >Recall</th>\n",
       "      <th class=\"col_heading level0 col3\" >F1</th>\n",
       "      <th class=\"col_heading level0 col4\" >ROC-AUC</th>\n",
       "    </tr>\n",
       "    <tr>\n",
       "      <th class=\"index_name level0\" >Modelo</th>\n",
       "      <th class=\"blank col0\" >&nbsp;</th>\n",
       "      <th class=\"blank col1\" >&nbsp;</th>\n",
       "      <th class=\"blank col2\" >&nbsp;</th>\n",
       "      <th class=\"blank col3\" >&nbsp;</th>\n",
       "      <th class=\"blank col4\" >&nbsp;</th>\n",
       "    </tr>\n",
       "  </thead>\n",
       "  <tbody>\n",
       "    <tr>\n",
       "      <th id=\"T_f4259_level0_row0\" class=\"row_heading level0 row0\" >Regresion Logistica</th>\n",
       "      <td id=\"T_f4259_row0_col0\" class=\"data row0 col0\" >0.559810</td>\n",
       "      <td id=\"T_f4259_row0_col1\" class=\"data row0 col1\" >0.554869</td>\n",
       "      <td id=\"T_f4259_row0_col2\" class=\"data row0 col2\" >0.579862</td>\n",
       "      <td id=\"T_f4259_row0_col3\" class=\"data row0 col3\" >0.567090</td>\n",
       "      <td id=\"T_f4259_row0_col4\" class=\"data row0 col4\" >0.559922</td>\n",
       "    </tr>\n",
       "    <tr>\n",
       "      <th id=\"T_f4259_level0_row1\" class=\"row_heading level0 row1\" >Naive Bayes</th>\n",
       "      <td id=\"T_f4259_row1_col0\" class=\"data row1 col0\" >0.559963</td>\n",
       "      <td id=\"T_f4259_row1_col1\" class=\"data row1 col1\" >0.546541</td>\n",
       "      <td id=\"T_f4259_row1_col2\" class=\"data row1 col2\" >0.675173</td>\n",
       "      <td id=\"T_f4259_row1_col3\" class=\"data row1 col3\" >0.604085</td>\n",
       "      <td id=\"T_f4259_row1_col4\" class=\"data row1 col4\" >0.560603</td>\n",
       "    </tr>\n",
       "    <tr>\n",
       "      <th id=\"T_f4259_level0_row2\" class=\"row_heading level0 row2\" >Árbol de Decisión</th>\n",
       "      <td id=\"T_f4259_row2_col0\" class=\"data row2 col0\" >0.971872</td>\n",
       "      <td id=\"T_f4259_row2_col1\" class=\"data row2 col1\" >0.946457</td>\n",
       "      <td id=\"T_f4259_row2_col2\" class=\"data row2 col2\" >1.000000</td>\n",
       "      <td id=\"T_f4259_row2_col3\" class=\"data row2 col3\" >0.972492</td>\n",
       "      <td id=\"T_f4259_row2_col4\" class=\"data row2 col4\" >0.972028</td>\n",
       "    </tr>\n",
       "    <tr>\n",
       "      <th id=\"T_f4259_level0_row3\" class=\"row_heading level0 row3\" >Random Forest</th>\n",
       "      <td id=\"T_f4259_row3_col0\" class=\"data row3 col0\" >0.999694</td>\n",
       "      <td id=\"T_f4259_row3_col1\" class=\"data row3 col1\" >0.999385</td>\n",
       "      <td id=\"T_f4259_row3_col2\" class=\"data row3 col2\" >1.000000</td>\n",
       "      <td id=\"T_f4259_row3_col3\" class=\"data row3 col3\" >0.999693</td>\n",
       "      <td id=\"T_f4259_row3_col4\" class=\"data row3 col4\" >0.999696</td>\n",
       "    </tr>\n",
       "    <tr>\n",
       "      <th id=\"T_f4259_level0_row4\" class=\"row_heading level0 row4\" >eXtreme Gradient Boost</th>\n",
       "      <td id=\"T_f4259_row4_col0\" class=\"data row4 col0\" >0.934801</td>\n",
       "      <td id=\"T_f4259_row4_col1\" class=\"data row4 col1\" >0.897022</td>\n",
       "      <td id=\"T_f4259_row4_col2\" class=\"data row4 col2\" >0.981553</td>\n",
       "      <td id=\"T_f4259_row4_col3\" class=\"data row4 col3\" >0.937385</td>\n",
       "      <td id=\"T_f4259_row4_col4\" class=\"data row4 col4\" >0.935060</td>\n",
       "    </tr>\n",
       "  </tbody>\n",
       "</table>\n"
      ],
      "text/plain": [
       "<pandas.io.formats.style.Styler at 0x7f75fe8d0c90>"
      ]
     },
     "execution_count": 62,
     "metadata": {},
     "output_type": "execute_result"
    }
   ],
   "source": [
    "%%time\n",
    "X_train, X_test, y_train, y_test = feature_eng(tabla=data_over, \n",
    "                                               X=VARIABLES_INDEPENDIENTES,\n",
    "                                               Y=VARIABLE_DEPENDEINTE,\n",
    "                                               X_num=VARIABLES_INDEP_NUMERICAS ,\n",
    "                                               X_Cat=VARIABLES_INDEP_CATEGORICAS )\n",
    " \n",
    "automl_class = funcion_automl(X_train , y_train ,  y_test , X_test )\n",
    "resultado = automl_class.run_automl_models()\n",
    "resultado  "
   ]
  },
  {
   "cell_type": "markdown",
   "id": "dfa78cf8-d260-47d5-aa39-a7170e315b61",
   "metadata": {},
   "source": [
    "#### Under-sampling"
   ]
  },
  {
   "cell_type": "code",
   "execution_count": 55,
   "id": "9237a63f-e611-408e-b41e-f7a923e23c4e",
   "metadata": {},
   "outputs": [
    {
     "name": "stdout",
     "output_type": "stream",
     "text": [
      "CPU times: user 3 s, sys: 337 ms, total: 3.34 s\n",
      "Wall time: 980 ms\n"
     ]
    },
    {
     "data": {
      "text/html": [
       "<style type=\"text/css\">\n",
       "#T_a3015_row3_col0, #T_a3015_row3_col1, #T_a3015_row3_col2, #T_a3015_row3_col3 {\n",
       "  background-color: yellow;\n",
       "}\n",
       "</style>\n",
       "<table id=\"T_a3015_\">\n",
       "  <thead>\n",
       "    <tr>\n",
       "      <th class=\"blank level0\" >&nbsp;</th>\n",
       "      <th class=\"col_heading level0 col0\" >Accuracy</th>\n",
       "      <th class=\"col_heading level0 col1\" >Precision</th>\n",
       "      <th class=\"col_heading level0 col2\" >Recall</th>\n",
       "      <th class=\"col_heading level0 col3\" >F1</th>\n",
       "    </tr>\n",
       "    <tr>\n",
       "      <th class=\"index_name level0\" >Modelo</th>\n",
       "      <th class=\"blank col0\" >&nbsp;</th>\n",
       "      <th class=\"blank col1\" >&nbsp;</th>\n",
       "      <th class=\"blank col2\" >&nbsp;</th>\n",
       "      <th class=\"blank col3\" >&nbsp;</th>\n",
       "    </tr>\n",
       "  </thead>\n",
       "  <tbody>\n",
       "    <tr>\n",
       "      <th id=\"T_a3015_level0_row0\" class=\"row_heading level0 row0\" >Regresion Logistica</th>\n",
       "      <td id=\"T_a3015_row0_col0\" class=\"data row0 col0\" >0.503704</td>\n",
       "      <td id=\"T_a3015_row0_col1\" class=\"data row0 col1\" >0.480198</td>\n",
       "      <td id=\"T_a3015_row0_col2\" class=\"data row0 col2\" >0.502591</td>\n",
       "      <td id=\"T_a3015_row0_col3\" class=\"data row0 col3\" >0.491139</td>\n",
       "    </tr>\n",
       "    <tr>\n",
       "      <th id=\"T_a3015_level0_row1\" class=\"row_heading level0 row1\" >Naive Bayes</th>\n",
       "      <td id=\"T_a3015_row1_col0\" class=\"data row1 col0\" >0.459259</td>\n",
       "      <td id=\"T_a3015_row1_col1\" class=\"data row1 col1\" >0.460396</td>\n",
       "      <td id=\"T_a3015_row1_col2\" class=\"data row1 col2\" >0.458128</td>\n",
       "      <td id=\"T_a3015_row1_col3\" class=\"data row1 col3\" >0.459259</td>\n",
       "    </tr>\n",
       "    <tr>\n",
       "      <th id=\"T_a3015_level0_row2\" class=\"row_heading level0 row2\" >Árbol de Decisión</th>\n",
       "      <td id=\"T_a3015_row2_col0\" class=\"data row2 col0\" >0.488889</td>\n",
       "      <td id=\"T_a3015_row2_col1\" class=\"data row2 col1\" >0.440594</td>\n",
       "      <td id=\"T_a3015_row2_col2\" class=\"data row2 col2\" >0.486339</td>\n",
       "      <td id=\"T_a3015_row2_col3\" class=\"data row2 col3\" >0.462338</td>\n",
       "    </tr>\n",
       "    <tr>\n",
       "      <th id=\"T_a3015_level0_row3\" class=\"row_heading level0 row3\" >Random Forest</th>\n",
       "      <td id=\"T_a3015_row3_col0\" class=\"data row3 col0\" >0.525926</td>\n",
       "      <td id=\"T_a3015_row3_col1\" class=\"data row3 col1\" >0.643564</td>\n",
       "      <td id=\"T_a3015_row3_col2\" class=\"data row3 col2\" >0.520000</td>\n",
       "      <td id=\"T_a3015_row3_col3\" class=\"data row3 col3\" >0.575221</td>\n",
       "    </tr>\n",
       "    <tr>\n",
       "      <th id=\"T_a3015_level0_row4\" class=\"row_heading level0 row4\" >eXtreme Gradient Boost</th>\n",
       "      <td id=\"T_a3015_row4_col0\" class=\"data row4 col0\" >0.474074</td>\n",
       "      <td id=\"T_a3015_row4_col1\" class=\"data row4 col1\" >0.519802</td>\n",
       "      <td id=\"T_a3015_row4_col2\" class=\"data row4 col2\" >0.475113</td>\n",
       "      <td id=\"T_a3015_row4_col3\" class=\"data row4 col3\" >0.496454</td>\n",
       "    </tr>\n",
       "  </tbody>\n",
       "</table>\n"
      ],
      "text/plain": [
       "<pandas.io.formats.style.Styler at 0x7f761d075710>"
      ]
     },
     "execution_count": 55,
     "metadata": {},
     "output_type": "execute_result"
    }
   ],
   "source": [
    "%%time\n",
    "X_train, X_test, y_train, y_test = feature_eng(tabla=data_under, \n",
    "                                               X=VARIABLES_INDEPENDIENTES,\n",
    "                                               Y=VARIABLE_DEPENDEINTE,\n",
    "                                               X_num=VARIABLES_INDEP_NUMERICAS ,\n",
    "                                               X_Cat=VARIABLES_INDEP_CATEGORICAS )\n",
    " \n",
    "automl_class = funcion_automl(X_train , y_train ,  y_test , X_test )\n",
    "resultado = automl_class.run_automl_models()\n",
    "resultado "
   ]
  },
  {
   "cell_type": "markdown",
   "id": "b1f7ad53-c041-469a-b769-5d790c894e36",
   "metadata": {},
   "source": [
    "# Modelamiento manual"
   ]
  },
  {
   "cell_type": "markdown",
   "id": "3075e378-5920-4dbe-840a-07127ff1b024",
   "metadata": {
    "tags": []
   },
   "source": [
    "## Regresión Logística\n",
    " Escribe tu codigo"
   ]
  },
  {
   "cell_type": "code",
   "execution_count": null,
   "id": "1f9190bf-8b9d-47b8-9f39-cefa736dc1f1",
   "metadata": {},
   "outputs": [],
   "source": [
    "from sklearn.utils import class_weight\n",
    "class_weight.compute_class_weight(class_weight = \"balanced\", classes = np.unique(y_train), y = y_train    )\n"
   ]
  },
  {
   "cell_type": "code",
   "execution_count": 76,
   "id": "29548da4-2693-48da-81eb-9338c1e9baed",
   "metadata": {
    "tags": []
   },
   "outputs": [
    {
     "data": {
      "text/html": [
       "<div>\n",
       "<style scoped>\n",
       "    .dataframe tbody tr th:only-of-type {\n",
       "        vertical-align: middle;\n",
       "    }\n",
       "\n",
       "    .dataframe tbody tr th {\n",
       "        vertical-align: top;\n",
       "    }\n",
       "\n",
       "    .dataframe thead th {\n",
       "        text-align: right;\n",
       "    }\n",
       "</style>\n",
       "<table border=\"1\" class=\"dataframe\">\n",
       "  <thead>\n",
       "    <tr style=\"text-align: right;\">\n",
       "      <th></th>\n",
       "      <th>Modelo</th>\n",
       "      <th>Accuracy</th>\n",
       "      <th>Precision</th>\n",
       "      <th>Recall</th>\n",
       "      <th>F1</th>\n",
       "      <th>ROC-AUC</th>\n",
       "    </tr>\n",
       "  </thead>\n",
       "  <tbody>\n",
       "    <tr>\n",
       "      <th>0</th>\n",
       "      <td>Regresion Logistica solver=newton-cg</td>\n",
       "      <td>0.968416</td>\n",
       "      <td>0.0</td>\n",
       "      <td>0.0</td>\n",
       "      <td>0.0</td>\n",
       "      <td>0.5</td>\n",
       "    </tr>\n",
       "  </tbody>\n",
       "</table>\n",
       "</div>"
      ],
      "text/plain": [
       "                                 Modelo  Accuracy  Precision  Recall   F1  \\\n",
       "0  Regresion Logistica solver=newton-cg  0.968416        0.0     0.0  0.0   \n",
       "\n",
       "   ROC-AUC  \n",
       "0      0.5  "
      ]
     },
     "execution_count": 76,
     "metadata": {},
     "output_type": "execute_result"
    }
   ],
   "source": [
    "\n",
    "#In order to calculate the class weight do the following\n",
    "class_weights = class_weight.compute_class_weight(class_weight = \"balanced\", classes = np.unique(y_train), y = y_train    )\n",
    "#\n",
    "classifier = LogisticRegression(solver='newton-cg')\n",
    "classifier.fit(X_train, y_train)\n",
    "#\n",
    "Modelo =  'Regresion Logistica solver=newton-cg'\n",
    "metricas (classifier_model = classifier, X_test=  X_test, y_test=y_test ,Modelo= Modelo)"
   ]
  },
  {
   "cell_type": "code",
   "execution_count": 77,
   "id": "54cc616f-25b1-4862-8b9b-0b1fe8d399b1",
   "metadata": {},
   "outputs": [
    {
     "data": {
      "text/html": [
       "<div>\n",
       "<style scoped>\n",
       "    .dataframe tbody tr th:only-of-type {\n",
       "        vertical-align: middle;\n",
       "    }\n",
       "\n",
       "    .dataframe tbody tr th {\n",
       "        vertical-align: top;\n",
       "    }\n",
       "\n",
       "    .dataframe thead th {\n",
       "        text-align: right;\n",
       "    }\n",
       "</style>\n",
       "<table border=\"1\" class=\"dataframe\">\n",
       "  <thead>\n",
       "    <tr style=\"text-align: right;\">\n",
       "      <th></th>\n",
       "      <th>Modelo</th>\n",
       "      <th>Accuracy</th>\n",
       "      <th>Precision</th>\n",
       "      <th>Recall</th>\n",
       "      <th>F1</th>\n",
       "      <th>ROC-AUC</th>\n",
       "    </tr>\n",
       "  </thead>\n",
       "  <tbody>\n",
       "    <tr>\n",
       "      <th>0</th>\n",
       "      <td>Regresion Logistica solver=newton-cg</td>\n",
       "      <td>0.561091</td>\n",
       "      <td>0.033933</td>\n",
       "      <td>0.469484</td>\n",
       "      <td>0.063291</td>\n",
       "      <td>0.516781</td>\n",
       "    </tr>\n",
       "  </tbody>\n",
       "</table>\n",
       "</div>"
      ],
      "text/plain": [
       "                                 Modelo  Accuracy  Precision    Recall  \\\n",
       "0  Regresion Logistica solver=newton-cg  0.561091   0.033933  0.469484   \n",
       "\n",
       "         F1   ROC-AUC  \n",
       "0  0.063291  0.516781  "
      ]
     },
     "execution_count": 77,
     "metadata": {},
     "output_type": "execute_result"
    }
   ],
   "source": [
    "#\n",
    "classifier = LogisticRegression(solver='newton-cg', class_weight='balanced')\n",
    "classifier.fit(X_train, y_train)\n",
    "Modelo =  'Regresion Logistica solver=newton-cg'\n",
    "#\n",
    "metricas (classifier_model = classifier, X_test=  X_test, y_test=y_test ,Modelo= Modelo)"
   ]
  },
  {
   "cell_type": "code",
   "execution_count": 79,
   "id": "aa568356-4a8b-4cca-a9bc-653cf94754e9",
   "metadata": {},
   "outputs": [
    {
     "data": {
      "text/html": [
       "<div>\n",
       "<style scoped>\n",
       "    .dataframe tbody tr th:only-of-type {\n",
       "        vertical-align: middle;\n",
       "    }\n",
       "\n",
       "    .dataframe tbody tr th {\n",
       "        vertical-align: top;\n",
       "    }\n",
       "\n",
       "    .dataframe thead th {\n",
       "        text-align: right;\n",
       "    }\n",
       "</style>\n",
       "<table border=\"1\" class=\"dataframe\">\n",
       "  <thead>\n",
       "    <tr style=\"text-align: right;\">\n",
       "      <th></th>\n",
       "      <th>Modelo</th>\n",
       "      <th>Accuracy</th>\n",
       "      <th>Precision</th>\n",
       "      <th>Recall</th>\n",
       "      <th>F1</th>\n",
       "      <th>ROC-AUC</th>\n",
       "    </tr>\n",
       "  </thead>\n",
       "  <tbody>\n",
       "    <tr>\n",
       "      <th>0</th>\n",
       "      <td>Regresion Logistica solver=newton-cg</td>\n",
       "      <td>0.582053</td>\n",
       "      <td>0.575156</td>\n",
       "      <td>0.609992</td>\n",
       "      <td>0.592062</td>\n",
       "      <td>0.582208</td>\n",
       "    </tr>\n",
       "  </tbody>\n",
       "</table>\n",
       "</div>"
      ],
      "text/plain": [
       "                                 Modelo  Accuracy  Precision    Recall  \\\n",
       "0  Regresion Logistica solver=newton-cg  0.582053   0.575156  0.609992   \n",
       "\n",
       "         F1   ROC-AUC  \n",
       "0  0.592062  0.582208  "
      ]
     },
     "execution_count": 79,
     "metadata": {},
     "output_type": "execute_result"
    }
   ],
   "source": [
    "X_train, X_test, y_train, y_test = feature_eng(tabla=data_over, \n",
    "                                               X=VARIABLES_INDEPENDIENTES,\n",
    "                                               Y=VARIABLE_DEPENDEINTE,\n",
    "                                               X_num=VARIABLES_INDEP_NUMERICAS ,\n",
    "                                               X_Cat=VARIABLES_INDEP_CATEGORICAS )\n",
    "#\n",
    "classifier = LogisticRegression(solver='newton-cg')\n",
    "classifier.fit(X_train, y_train)\n",
    "Modelo =  'Regresion Logistica solver=newton-cg'\n",
    "#\n",
    "metricas (classifier_model = classifier, X_test=  X_test, y_test=y_test ,Modelo= Modelo)"
   ]
  },
  {
   "cell_type": "code",
   "execution_count": 71,
   "id": "1faf79b4-1b3d-422c-afb9-9f564845bb76",
   "metadata": {},
   "outputs": [
    {
     "data": {
      "text/plain": [
       "array([1.00186348, 0.99814344])"
      ]
     },
     "execution_count": 71,
     "metadata": {},
     "output_type": "execute_result"
    }
   ],
   "source": [
    "class_weights"
   ]
  },
  {
   "cell_type": "code",
   "execution_count": null,
   "id": "edcee94a-c29b-42ac-bdf0-1b0f04a79910",
   "metadata": {},
   "outputs": [],
   "source": [
    "# Ajustar el modelo de Regresión Logística en el Conjunto de Entrenamiento\n",
    "from sklearn.linear_model import LogisticRegression\n",
    "from sklearn.metrics import confusion_matrix\n",
    "Modelo =  'Regresion Logistica'\n",
    "\n",
    "classifier = LogisticRegression(random_state = 0)\n",
    "classifier.fit(X_train, y_train)\n",
    "\n",
    "Resultado= metricas (classifier_model = classifier,\n",
    "          X_test=  X_test,\n",
    "          y_test=y_test ,\n",
    "          Modelo= Modelo)\n",
    "Resultado"
   ]
  },
  {
   "cell_type": "markdown",
   "id": "6b93e97e-ae88-4133-b6b1-bfa568b94a96",
   "metadata": {},
   "source": [
    "## Naive Bayes\n",
    " Escribe tu codigo"
   ]
  },
  {
   "cell_type": "code",
   "execution_count": null,
   "id": "bfc75a70-95d8-4e67-b9f8-f1707d6b099d",
   "metadata": {},
   "outputs": [],
   "source": [
    "# Ajustar el clasificador en el Conjunto de Entrenamiento\n",
    "from sklearn.naive_bayes import GaussianNB\n",
    "Modelo =  'Naive Bayes'\n",
    "classifier = GaussianNB()\n",
    "classifier.fit(X_train, y_train)\n",
    "metric = metricas (classifier_model = classifier, X_test=  X_test,y_test=y_test ,Modelo= Modelo)\n",
    "\n",
    "# Predicción de los resultados con el Conjunto de Testing\n",
    "\n",
    "Resultado = Resultado.append(metric, ignore_index=True)\n",
    "Resultado"
   ]
  },
  {
   "cell_type": "markdown",
   "id": "da3afe26-f577-42f2-bff5-410d209fd4e0",
   "metadata": {},
   "source": [
    "## Support Vector Machine SVM\n",
    " Escribe tu codigo"
   ]
  },
  {
   "cell_type": "code",
   "execution_count": null,
   "id": "b77bb94e-18c4-4602-90ac-62524d45279d",
   "metadata": {
    "tags": []
   },
   "outputs": [],
   "source": [
    "from sklearn.svm import SVC\n",
    "Modelo = 'SVM Lineal'\n",
    "classifier = SVC(kernel = \"linear\", random_state = 0)\n",
    "classifier.fit(X_train, y_train)\n",
    "\n",
    "metric = metricas (classifier_model = classifier, X_test=  X_test,y_test=y_test ,Modelo= Modelo)\n",
    "\n",
    "# Predicción de los resultados con el Conjunto de Testing\n",
    "\n",
    "Resultado = Resultado.append(metric, ignore_index=True)\n",
    "Resultado"
   ]
  },
  {
   "cell_type": "code",
   "execution_count": null,
   "id": "cdd971d6-61f4-42b3-8068-27a6e70d7abd",
   "metadata": {},
   "outputs": [],
   "source": [
    "from sklearn.svm import SVC\n",
    "Modelo = 'SVM Kernel'\n",
    "classifier = SVC(kernel = \"rbf\", random_state = 0)\n",
    "classifier.fit(X_train, y_train)\n",
    "metric = metricas (classifier_model = classifier, X_test=  X_test,y_test=y_test ,Modelo= Modelo)\n",
    "\n",
    "Resultado = Resultado.append(metric, ignore_index=True)\n",
    "Resultado"
   ]
  },
  {
   "cell_type": "markdown",
   "id": "e7f7ab08-8d10-4a77-a463-60b873aab387",
   "metadata": {},
   "source": [
    "# Árboles de Decisión\n",
    " Escribe tu codigo"
   ]
  },
  {
   "cell_type": "code",
   "execution_count": null,
   "id": "09493d54-bda0-4c93-9ff0-f65aac9c8f2f",
   "metadata": {},
   "outputs": [],
   "source": [
    "# Ajustar el clasificador de Árbol de Decisión en el Conjunto de Entrenamiento\n",
    "from sklearn.tree import DecisionTreeClassifier\n",
    "Modelo = 'Árbol de Decisión'\n",
    "classifier = DecisionTreeClassifier(criterion = \"entropy\", random_state = 0)\n",
    "classifier.fit(X_train, y_train)\n",
    "\n",
    "metric = metricas (classifier_model = classifier, X_test=  X_test,y_test=y_test ,Modelo= Modelo)\n",
    "\n",
    "Resultado = Resultado.append(metric, ignore_index=True)\n",
    "Resultado\n"
   ]
  },
  {
   "cell_type": "markdown",
   "id": "42dd0661-a729-4ca0-bb98-2843701a1cd8",
   "metadata": {},
   "source": [
    "# Bosques Aleatorios\n",
    " Escribe tu codigo"
   ]
  },
  {
   "cell_type": "code",
   "execution_count": null,
   "id": "09024454-3c0e-4968-983e-a4dc72b8186c",
   "metadata": {},
   "outputs": [],
   "source": [
    "# Ajustar el clasificador  Random Forest en el Conjunto de Entrenamiento\n",
    "from sklearn.ensemble import RandomForestClassifier\n",
    "Modelo = 'Random Forest'\n",
    "classifier = RandomForestClassifier(n_estimators = 10, criterion = \"entropy\", random_state = 0)\n",
    "classifier.fit(X_train, y_train)\n",
    "\n",
    "metric = metricas (classifier_model = classifier, X_test=  X_test,y_test=y_test ,Modelo= Modelo)\n",
    "\n",
    "Resultado = Resultado.append(metric, ignore_index=True)\n",
    "Resultado"
   ]
  },
  {
   "cell_type": "code",
   "execution_count": null,
   "id": "578f79c8-398f-411e-9205-54c0bf734f80",
   "metadata": {
    "tags": []
   },
   "outputs": [],
   "source": [
    "#!pip install xgboost"
   ]
  },
  {
   "cell_type": "markdown",
   "id": "9a2dc801-da6e-476e-8301-a256ea3bef64",
   "metadata": {},
   "source": [
    "## eXtreme Gradient Boost "
   ]
  },
  {
   "cell_type": "code",
   "execution_count": null,
   "id": "262cd9fc-4de7-4414-9947-4611357c6f5d",
   "metadata": {
    "tags": []
   },
   "outputs": [],
   "source": [
    "from xgboost import XGBClassifier\n",
    "Modelo = 'eXtreme Gradient Boost'\n",
    "classifier = XGBClassifier().fit(X_train, y_train)\n",
    "metric = metricas (classifier_model = classifier, X_test=  X_test,y_test=y_test ,Modelo= Modelo)\n",
    "metric\n",
    "Resultado = Resultado.append(metric, ignore_index=True)\n",
    "Resultado"
   ]
  },
  {
   "cell_type": "markdown",
   "id": "f7dafa5e-b1eb-49b3-ad10-9aa609fb3336",
   "metadata": {},
   "source": [
    "# NN \n",
    " Escribe tu codigo"
   ]
  },
  {
   "cell_type": "code",
   "execution_count": null,
   "id": "0ac463cf-069b-4f0a-b1bf-2002da4ea6e8",
   "metadata": {},
   "outputs": [],
   "source": [
    "#Definimos el modelo\n",
    "input_col = X_train.shape[1]\n",
    "X_train.shape[1]"
   ]
  },
  {
   "cell_type": "code",
   "execution_count": null,
   "id": "597644e4-f72b-48e2-b889-fef67b445d86",
   "metadata": {
    "tags": []
   },
   "outputs": [],
   "source": [
    "import pandas as pd\n",
    "import numpy as np\n",
    "import tensorflow as tf\n",
    "import matplotlib.pyplot as plt\n",
    "input_dim = X_train.shape[1]\n",
    "\n",
    "\n",
    "def create_model( input_col  ):\n",
    "    # define model\n",
    "    model  = tf.keras.Sequential([\n",
    "                              tf.keras.layers.Input((None,input_col,)),\n",
    "                              tf.keras.layers.Dense(64,activation = 'relu'), \n",
    "                              tf.keras.layers.Dropout(0.2) ,\n",
    "                              tf.keras.layers.Dense(128, activation = 'relu'),\n",
    "                              tf.keras.layers.Dense(1, activation = 'sigmoid') ] )\n",
    "    #Definimos la compilación de capas\n",
    "    model.compile(   optimizer = 'adam',\n",
    "    loss = tf.keras.losses.binary_crossentropy,\n",
    "    metrics = ['Recall']  )\n",
    "    return model\n",
    "\n",
    "# Entrenamos el modelo\n",
    "\n",
    "history = create_model( input_col  = input_dim).fit(X_train, y_train, validation_split=0.2, epochs =100)\n",
    "print(model.evaluate(X_train, y_train, verbose = 2))\n"
   ]
  },
  {
   "cell_type": "code",
   "execution_count": null,
   "id": "feac13fb-8e4d-45d3-90b3-8537b7abdc5a",
   "metadata": {
    "tags": []
   },
   "outputs": [],
   "source": [
    "Modelo = 'Clasificación con redes neuronales'\n",
    "metric = metricas (classifier_model = model, X_test=  X_test,y_test=y_test ,Modelo= Modelo)\n",
    "Resultado = Resultado.append(metric, ignore_index=True)"
   ]
  },
  {
   "cell_type": "markdown",
   "id": "0b8afa8b-3e80-475b-8860-2df1a0aab8d5",
   "metadata": {},
   "source": [
    "## Grid"
   ]
  },
  {
   "cell_type": "code",
   "execution_count": null,
   "id": "b9298e86-bd63-44b8-87b9-b20ab6963ab8",
   "metadata": {},
   "outputs": [],
   "source": [
    "import numpy\n",
    "from sklearn.model_selection import GridSearchCV\n",
    "from keras.wrappers.scikit_learn import KerasClassifier\n",
    "from keras.models import *\n",
    "from keras.layers import Activation, Dense, Dropout\n",
    "from tensorflow.keras.optimizers import *"
   ]
  },
  {
   "cell_type": "code",
   "execution_count": null,
   "id": "9baa0a04-8075-43e1-aa9d-0c4120bc9605",
   "metadata": {},
   "outputs": [],
   "source": [
    "input_dim = X_train.shape[1]\n",
    "\n",
    "def create_model(init_mode='uniform' ):\n",
    "    # define model\n",
    "    model = Sequential()\n",
    "    model.add(Dense(64, kernel_initializer=init_mode, activation=tf.nn.relu, input_dim=133 )) \n",
    "    model.add(Dropout(0.1))\n",
    "    model.add(Dense(128, kernel_initializer=init_mode, activation=tf.nn.relu))\n",
    "    model.add(Dense(1, kernel_initializer=init_mode, activation=tf.nn.softmax))\n",
    "    # compile model\n",
    "    model.compile(loss='binary_crossentropy',\n",
    "              optimizer=RMSprop(),\n",
    "              metrics=['accuracy'])\n",
    "    return model"
   ]
  },
  {
   "cell_type": "code",
   "execution_count": null,
   "id": "4ba6acc5-8039-4d93-a21a-cb94aa69eb0c",
   "metadata": {
    "tags": []
   },
   "outputs": [],
   "source": [
    "%%time\n",
    "seed = 7\n",
    "np.random.seed(seed)\n",
    "batch_size = 128\n",
    "epochs = 10\n",
    "input_col = X_train.shape[1]\n",
    "model_CV = KerasClassifier(build_fn=create_model,\n",
    "                           epochs=epochs, \n",
    "                           batch_size=batch_size, verbose=1)\n",
    "# define the grid search parameters\n",
    "init_mode = ['uniform', 'lecun_uniform', 'normal', 'zero', \n",
    "             'glorot_normal', 'glorot_uniform', 'he_normal', 'he_uniform']\n",
    "\n",
    "param_grid = dict(init_mode=init_mode)\n",
    "grid = GridSearchCV(estimator=model_CV, param_grid=param_grid, n_jobs=-1, cv=3)\n",
    "grid_result = grid.fit(X_train, y_train)"
   ]
  }
 ],
 "metadata": {
  "environment": {
   "kernel": "python3",
   "name": "tf2-gpu.2-6.m93",
   "type": "gcloud",
   "uri": "gcr.io/deeplearning-platform-release/tf2-gpu.2-6:m93"
  },
  "kernelspec": {
   "display_name": "Python 3",
   "language": "python",
   "name": "python3"
  },
  "language_info": {
   "codemirror_mode": {
    "name": "ipython",
    "version": 3
   },
   "file_extension": ".py",
   "mimetype": "text/x-python",
   "name": "python",
   "nbconvert_exporter": "python",
   "pygments_lexer": "ipython3",
   "version": "3.7.12"
  }
 },
 "nbformat": 4,
 "nbformat_minor": 5
}
