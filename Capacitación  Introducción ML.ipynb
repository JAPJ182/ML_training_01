{
 "cells": [
  {
   "cell_type": "markdown",
   "id": "ae639a22-ee4d-48fb-af19-9d83b347228f",
   "metadata": {},
   "source": [
    "# Clase 2. Modelos de Clasificación "
   ]
  },
  {
   "cell_type": "markdown",
   "id": "1558a80e-759e-4e54-9ba7-8c0404091dae",
   "metadata": {},
   "source": [
    "##  Lectura de datos en Python y Feature Engineering "
   ]
  },
  {
   "cell_type": "code",
   "execution_count": 15,
   "id": "980c02ba-0303-4635-a089-d7359d8759b3",
   "metadata": {
    "collapsed": true,
    "jupyter": {
     "outputs_hidden": true
    },
    "tags": []
   },
   "outputs": [
    {
     "ename": "FileNotFoundError",
     "evalue": "[Errno 2] No such file or directory: 'ML_training_01/'",
     "output_type": "error",
     "traceback": [
      "\u001b[0;31m---------------------------------------------------------------------------\u001b[0m",
      "\u001b[0;31mFileNotFoundError\u001b[0m                         Traceback (most recent call last)",
      "\u001b[0;32m/tmp/ipykernel_1/3166196054.py\u001b[0m in \u001b[0;36m<module>\u001b[0;34m\u001b[0m\n\u001b[1;32m      1\u001b[0m \u001b[0;32mimport\u001b[0m \u001b[0mos\u001b[0m\u001b[0;34m\u001b[0m\u001b[0;34m\u001b[0m\u001b[0m\n\u001b[0;32m----> 2\u001b[0;31m \u001b[0mos\u001b[0m\u001b[0;34m.\u001b[0m\u001b[0mchdir\u001b[0m\u001b[0;34m(\u001b[0m\u001b[0;34m'ML_training_01/'\u001b[0m\u001b[0;34m)\u001b[0m\u001b[0;34m\u001b[0m\u001b[0;34m\u001b[0m\u001b[0m\n\u001b[0m",
      "\u001b[0;31mFileNotFoundError\u001b[0m: [Errno 2] No such file or directory: 'ML_training_01/'"
     ]
    }
   ],
   "source": [
    "import os\n",
    "os.chdir('ML_training_01/')"
   ]
  },
  {
   "cell_type": "markdown",
   "id": "6f404310-5ac7-4a12-8980-a37801a0bc10",
   "metadata": {},
   "source": [
    "Los Archivos en sistemas de ingrados de informacion, generalmente no permiten titulos de columnas con caracteres especiales, tildes o espacios. La siguiente clase permite leer de forma normalizada los archivos. Inicialmente leemos una clase hecha para esto, en seguida leemos el archivo, al usar la funcion \"load_simple_file_class\" obtenemos la tabla,  el  schema_ apropiado para cargar en Bigquery, y el nombre de las columnas"
   ]
  },
  {
   "cell_type": "code",
   "execution_count": null,
   "id": "a6664eed-4fde-48f9-a78a-b37089e8cd3a",
   "metadata": {},
   "outputs": [],
   "source": [
    "!git clone https://github.com/JAPJ182/ML_training_01.git"
   ]
  },
  {
   "cell_type": "code",
   "execution_count": 90,
   "id": "fed02fe8-3848-44d8-828f-63794f9619bc",
   "metadata": {},
   "outputs": [],
   "source": [
    "execfile(\"functions/ML_train_functions_gcp.py\")"
   ]
  },
  {
   "cell_type": "code",
   "execution_count": 36,
   "id": "80ee2d72-e271-4475-8f7b-d11cfb4f487c",
   "metadata": {
    "tags": []
   },
   "outputs": [],
   "source": [
    "datos = load_simple_file_class(path = \"data/fraude.csv\" )"
   ]
  },
  {
   "cell_type": "markdown",
   "id": "0e29ecb0-d034-4d40-85e9-703d16288be6",
   "metadata": {},
   "source": [
    "### Lectura de datos"
   ]
  },
  {
   "cell_type": "code",
   "execution_count": 50,
   "id": "645a3f20-aa48-4255-9a93-cb40c89d2d74",
   "metadata": {
    "tags": []
   },
   "outputs": [
    {
     "name": "stdout",
     "output_type": "stream",
     "text": [
      "esquema creado correctamente\n"
     ]
    },
    {
     "name": "stderr",
     "output_type": "stream",
     "text": [
      "/opt/conda/lib/python3.7/site-packages/ipykernel_launcher.py:134: FutureWarning: The warn_bad_lines argument has been deprecated and will be removed in a future version.\n",
      "\n",
      "\n",
      "/opt/conda/lib/python3.7/site-packages/ipykernel_launcher.py:134: FutureWarning: The error_bad_lines argument has been deprecated and will be removed in a future version.\n",
      "\n",
      "\n"
     ]
    }
   ],
   "source": [
    "data = datos.read_table()[0]"
   ]
  },
  {
   "cell_type": "code",
   "execution_count": 59,
   "id": "8211411a-51fe-449e-bb9e-de0de3261dc3",
   "metadata": {},
   "outputs": [
    {
     "data": {
      "text/plain": [
       "Index(['UNNAMED0', 'IDUSER', 'GENERO', 'MONTO', 'FECHA', 'HORA', 'DISPOSITIVO',\n",
       "       'ESTABLECIMIENTO', 'CIUDAD', 'TIPOTC', 'LINEATC', 'INTERESTC',\n",
       "       'STATUSTXN', 'ISPRIME', 'DCTO', 'CASHBACK', 'FRAUDE', 'DAYOFWEEK',\n",
       "       'MONTH'],\n",
       "      dtype='object')"
      ]
     },
     "execution_count": 59,
     "metadata": {},
     "output_type": "execute_result"
    }
   ],
   "source": [
    "data.columns"
   ]
  },
  {
   "cell_type": "markdown",
   "id": "de95679c-f2a6-433d-ad0b-0be8e7d5937b",
   "metadata": {},
   "source": [
    "### Transformaciones simples"
   ]
  },
  {
   "cell_type": "code",
   "execution_count": 58,
   "id": "344ae8b7-4947-4423-a460-ce3291120adc",
   "metadata": {},
   "outputs": [],
   "source": [
    "import pandas as pd\n",
    "import numpy as np\n",
    "import matplotlib.pyplot as plt\n",
    "\n",
    "data['FECHA'] = pd.to_datetime(data['FECHA'])\n",
    "data['DAYOFWEEK'] = data['FECHA'].dt.dayofweek\n",
    "data['MONTH'] = data['FECHA'].dt.month\n",
    "data['FRAUDE'] =   np.where(data['FRAUDE']==True, 1,0)"
   ]
  },
  {
   "cell_type": "markdown",
   "id": "b3609213-9164-41a8-8b9e-bcc12dc580dd",
   "metadata": {},
   "source": [
    "### Transformaciones"
   ]
  },
  {
   "cell_type": "code",
   "execution_count": 89,
   "id": "75b9c937-1d2c-48e1-a448-dab9502ec45b",
   "metadata": {},
   "outputs": [],
   "source": [
    "VARIABLES_INDEPENDIENTES= ['GENERO', 'MONTO', 'DAYOFWEEK','MONTH' , 'HORA',  \n",
    "        'ESTABLECIMIENTO', 'CIUDAD', 'TIPOTC', 'LINEATC', 'INTERESTC',\n",
    "          'STATUSTXN', 'ISPRIME', 'DCTO', 'CASHBACK'] \n",
    "VARIABLE_DEPENDEINTE = 'FRAUDE'\n",
    "VARIABLES_INDEP_NUMERICAS = ['MONTO', 'DCTO', 'CASHBACK' , 'DAYOFWEEK','MONTH' , 'HORA' ]\n",
    "VARIABLES_INDEP_CATEGORICAS = [ 'GENERO',   'ESTABLECIMIENTO', 'CIUDAD', 'TIPOTC', 'LINEATC', 'INTERESTC',\n",
    "       'STATUSTXN', 'ISPRIME' ]\n",
    "\n",
    "train_features, test_features, train_label, test_label = feature_eng(tabla=data, \n",
    "                                                                    X=VARIABLES_INDEPENDIENTES,\n",
    "                                                                     Y=VARIABLE_DEPENDEINTE,\n",
    "                                                                     X_num=VARIABLES_INDEP_NUMERICAS ,\n",
    "                                                                     X_Cat=VARIABLES_INDEP_CATEGORICAS )\n",
    " "
   ]
  },
  {
   "cell_type": "code",
   "execution_count": 79,
   "id": "da56a5ed-92b3-40a4-9e13-5636ccda5a99",
   "metadata": {},
   "outputs": [],
   "source": []
  },
  {
   "cell_type": "markdown",
   "id": "3075e378-5920-4dbe-840a-07127ff1b024",
   "metadata": {
    "tags": []
   },
   "source": [
    "## Regresión Logística\n",
    " Escribe tu codigo"
   ]
  },
  {
   "cell_type": "code",
   "execution_count": null,
   "id": "edcee94a-c29b-42ac-bdf0-1b0f04a79910",
   "metadata": {},
   "outputs": [],
   "source": []
  },
  {
   "cell_type": "markdown",
   "id": "6b93e97e-ae88-4133-b6b1-bfa568b94a96",
   "metadata": {},
   "source": [
    "## Naive Bayes\n",
    " Escribe tu codigo"
   ]
  },
  {
   "cell_type": "markdown",
   "id": "30f68814-4c9d-4c9c-a14d-88f701e87084",
   "metadata": {},
   "source": []
  },
  {
   "cell_type": "markdown",
   "id": "da3afe26-f577-42f2-bff5-410d209fd4e0",
   "metadata": {},
   "source": [
    "## Support Vector Machine SVM\n",
    " Escribe tu codigo"
   ]
  },
  {
   "cell_type": "code",
   "execution_count": null,
   "id": "b77bb94e-18c4-4602-90ac-62524d45279d",
   "metadata": {},
   "outputs": [],
   "source": []
  },
  {
   "cell_type": "markdown",
   "id": "e7f7ab08-8d10-4a77-a463-60b873aab387",
   "metadata": {},
   "source": [
    "# Árboles de Decisión\n",
    " Escribe tu codigo"
   ]
  },
  {
   "cell_type": "code",
   "execution_count": null,
   "id": "09493d54-bda0-4c93-9ff0-f65aac9c8f2f",
   "metadata": {},
   "outputs": [],
   "source": []
  },
  {
   "cell_type": "markdown",
   "id": "42dd0661-a729-4ca0-bb98-2843701a1cd8",
   "metadata": {},
   "source": [
    "# Bosques Aleatorios\n",
    " Escribe tu codigo"
   ]
  },
  {
   "cell_type": "code",
   "execution_count": null,
   "id": "09024454-3c0e-4968-983e-a4dc72b8186c",
   "metadata": {},
   "outputs": [],
   "source": []
  },
  {
   "cell_type": "markdown",
   "id": "d99312c9-0dd8-496a-85e9-855baaff4a53",
   "metadata": {},
   "source": [
    "# kmeans\n",
    " Escribe tu codigo"
   ]
  },
  {
   "cell_type": "code",
   "execution_count": null,
   "id": "51ccebee-0335-426f-b4b0-af8194b8bb34",
   "metadata": {},
   "outputs": [],
   "source": []
  }
 ],
 "metadata": {
  "environment": {
   "name": "managed-notebooks.m80",
   "type": "gcloud",
   "uri": "gcr.io/deeplearning-platform-release/managed-notebooks:m80"
  },
  "kernelspec": {
   "display_name": "Python (Local)",
   "language": "python",
   "name": "local-base"
  },
  "language_info": {
   "codemirror_mode": {
    "name": "ipython",
    "version": 3
   },
   "file_extension": ".py",
   "mimetype": "text/x-python",
   "name": "python",
   "nbconvert_exporter": "python",
   "pygments_lexer": "ipython3",
   "version": "3.7.10"
  }
 },
 "nbformat": 4,
 "nbformat_minor": 5
}
